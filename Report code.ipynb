{
 "cells": [
  {
   "cell_type": "markdown",
   "metadata": {},
   "source": [
    "# Report\n",
    "Bart van Lieshout   S1805967 <br>\n",
    "Jesper Molenkamp    S1775138 <br>\n",
    "Pepijn Rakers       S1881884"
   ]
  },
  {
   "cell_type": "markdown",
   "metadata": {},
   "source": [
    "## Packages\n",
    "Download and import packages required to run the code in this notebook."
   ]
  },
  {
   "cell_type": "code",
   "execution_count": 1,
   "metadata": {},
   "outputs": [
    {
     "name": "stdout",
     "output_type": "stream",
     "text": [
      "Collecting oddt\n",
      "  Using cached oddt-0.7-py2.py3-none-any.whl\n",
      "Collecting numpydoc\n",
      "  Using cached numpydoc-1.5.0-py3-none-any.whl (52 kB)\n",
      "Collecting sphinx>=4.2\n",
      "  Using cached sphinx-5.3.0-py3-none-any.whl (3.2 MB)\n",
      "Collecting sphinxcontrib-serializinghtml>=1.1.5\n",
      "  Using cached sphinxcontrib_serializinghtml-1.1.5-py2.py3-none-any.whl (94 kB)\n",
      "Collecting sphinxcontrib-htmlhelp>=2.0.0\n",
      "  Using cached sphinxcontrib_htmlhelp-2.0.0-py2.py3-none-any.whl (100 kB)\n",
      "Collecting sphinxcontrib-applehelp\n",
      "  Using cached sphinxcontrib_applehelp-1.0.2-py2.py3-none-any.whl (121 kB)\n",
      "Collecting snowballstemmer>=2.0\n",
      "  Using cached snowballstemmer-2.2.0-py2.py3-none-any.whl (93 kB)\n",
      "Collecting docutils<0.20,>=0.14\n",
      "  Using cached docutils-0.19-py3-none-any.whl (570 kB)\n",
      "Collecting sphinxcontrib-qthelp\n",
      "  Using cached sphinxcontrib_qthelp-1.0.3-py2.py3-none-any.whl (90 kB)\n",
      "Collecting imagesize>=1.3\n",
      "  Using cached imagesize-1.4.1-py2.py3-none-any.whl (8.8 kB)\n",
      "Collecting sphinxcontrib-jsmath\n",
      "  Using cached sphinxcontrib_jsmath-1.0.1-py2.py3-none-any.whl (5.1 kB)\n",
      "Collecting alabaster<0.8,>=0.7\n",
      "  Using cached alabaster-0.7.12-py2.py3-none-any.whl (14 kB)\n",
      "Collecting sphinxcontrib-devhelp\n",
      "  Using cached sphinxcontrib_devhelp-1.0.2-py2.py3-none-any.whl (84 kB)\n",
      "Installing collected packages: snowballstemmer, alabaster, sphinxcontrib-serializinghtml, sphinxcontrib-qthelp, sphinxcontrib-jsmath, sphinxcontrib-htmlhelp, sphinxcontrib-devhelp, sphinxcontrib-applehelp, imagesize, docutils, sphinx, numpydoc, oddt\n",
      "Successfully installed alabaster-0.7.12 docutils-0.19 imagesize-1.4.1 numpydoc-1.5.0 oddt-0.7 snowballstemmer-2.2.0 sphinx-5.3.0 sphinxcontrib-applehelp-1.0.2 sphinxcontrib-devhelp-1.0.2 sphinxcontrib-htmlhelp-2.0.0 sphinxcontrib-jsmath-1.0.1 sphinxcontrib-qthelp-1.0.3 sphinxcontrib-serializinghtml-1.1.5\n",
      "Collecting vina\n",
      "  Using cached vina-1.2.3-cp39-cp39-manylinux_2_17_x86_64.manylinux2014_x86_64.whl (7.1 MB)\n",
      "Installing collected packages: vina\n",
      "Successfully installed vina-1.2.3\n"
     ]
    },
    {
     "data": {
      "application/vnd.jupyter.widget-view+json": {
       "model_id": "9f6e65c0d31e4e6b97a6b71ca83be8d2",
       "version_major": 2,
       "version_minor": 0
      },
      "text/plain": []
     },
     "metadata": {},
     "output_type": "display_data"
    },
    {
     "name": "stderr",
     "output_type": "stream",
     "text": [
      "/opt/conda/lib/python3.9/site-packages/requests/__init__.py:102: RequestsDependencyWarning: urllib3 (1.26.9) or chardet (5.0.0)/charset_normalizer (2.0.12) doesn't match a supported version!\n",
      "  warnings.warn(\"urllib3 ({}) or chardet ({})/charset_normalizer ({}) doesn't match a supported \"\n"
     ]
    }
   ],
   "source": [
    "# modules\n",
    "!pip install oddt | grep -v 'already satisfied'\n",
    "!pip install vina | grep -v 'already satisfied'\n",
    "import sys, os, shutil\n",
    "import nglview\n",
    "from Bio.PDB import PDBParser, PDBIO, Select,  PDBList, MMCIFParser, StructureAlignment\n",
    "import Bio.Align\n",
    "from Bio import pairwise2\n",
    "from Bio.Seq import Seq \n",
    "from Bio.SeqRecord import SeqRecord\n",
    "from Bio.Align import MultipleSeqAlignment\n",
    "from pathlib import Path\n",
    "import rdkit\n",
    "from rdkit import Chem\n",
    "from rdkit.Chem import MACCSkeys\n",
    "from rdkit.Chem.AllChem import GetMorganFingerprintAsBitVect\n",
    "from rdkit.Chem import AllChem, Draw\n",
    "from rdkit.Chem import PandasTools\n",
    "from rdkit.Chem.Draw import MolsToGridImage\n",
    "import numpy as np\n",
    "import pandas as pd\n",
    "import requests\n",
    "import math\n",
    "from math import isnan, isinf\n",
    "\n",
    "from pathlib import Path\n",
    "from warnings import filterwarnings\n",
    "import time\n",
    "\n",
    "from sklearn import svm, metrics, clone\n",
    "from sklearn.ensemble import RandomForestClassifier\n",
    "from sklearn.ensemble import RandomForestRegressor\n",
    "from sklearn.neural_network import MLPClassifier\n",
    "from sklearn.model_selection import KFold, train_test_split\n",
    "from sklearn.metrics import auc, accuracy_score, recall_score\n",
    "from sklearn.metrics import roc_curve, roc_auc_score\n",
    "import matplotlib.pyplot as plt\n",
    "import py3Dmol\n",
    "import glob\n",
    "from vina import Vina\n",
    "import MDAnalysis as mda\n",
    "from MDAnalysis.coordinates import PDB\n",
    "sys.path.insert(1, '/project/jhllei001/JHL_data/Jupyter_Dock/utilities')\n",
    "import pubchempy as pcp\n",
    "import time\n",
    "from urllib.parse import quote\n",
    "\n",
    "from IPython.display import Markdown, Image\n",
    "import requests\n",
    "\n",
    "\n",
    "\n",
    "\n",
    "import warnings\n",
    "warnings.filterwarnings(\"ignore\")\n",
    "%config Completer.use_jedi = False\n",
    "\n",
    "# local scripts\n",
    "from scripts import viewer\n",
    "from scripts import bio_align\n",
    "from utils import seed_everything"
   ]
  },
  {
   "cell_type": "markdown",
   "metadata": {},
   "source": [
    "## Functions"
   ]
  },
  {
   "cell_type": "code",
   "execution_count": 2,
   "metadata": {},
   "outputs": [],
   "source": [
    "def smiles_to_fp(smiles, method=\"maccs\", n_bits=2048):\n",
    "    \"\"\"\n",
    "    Encode a molecule from a SMILES string into a fingerprint.\n",
    "\n",
    "    Parameters\n",
    "    ----------\n",
    "    smiles : str\n",
    "        The SMILES string defining the molecule.\n",
    "\n",
    "    method : str\n",
    "        The type of fingerprint to use. Default is MACCS keys.\n",
    "\n",
    "    n_bits : int\n",
    "        The length of the fingerprint.\n",
    "\n",
    "    Returns\n",
    "    -------\n",
    "    array\n",
    "        The fingerprint array.\n",
    "\n",
    "    \"\"\"\n",
    "\n",
    "    # convert smiles to RDKit mol object\n",
    "    try:\n",
    "        mol = Chem.MolFromSmiles(smiles)\n",
    "        \n",
    "    except:\n",
    "        return('NaN')\n",
    "\n",
    "    if method == \"maccs\":\n",
    "        return np.array(MACCSkeys.GenMACCSKeys(mol))\n",
    "    if method == \"morgan2\":\n",
    "        return np.array(GetMorganFingerprintAsBitVect(mol, 2, nBits=n_bits))\n",
    "    if method == \"morgan3\":\n",
    "        return np.array(GetMorganFingerprintAsBitVect(mol, 3, nBits=n_bits))\n",
    "    else:\n",
    "        # NBVAL_CHECK_OUTPUT\n",
    "        print(f\"Warning: Wrong method specified: {method}. Default will be used instead.\")\n",
    "        return np.array(MACCSkeys.GenMACCSKeys(mol))\n",
    "    \n",
    "    \n",
    "    \n",
    "def plot_roc_curves_for_models(models, test_x, test_y, save_png=True):\n",
    "    \"\"\"\n",
    "    Helper function to plot customized roc curve.\n",
    "\n",
    "    Parameters\n",
    "    ----------\n",
    "    models: dict\n",
    "        Dictionary of pretrained machine learning models.\n",
    "    test_x: list\n",
    "        Molecular fingerprints for test set.\n",
    "    test_y: list\n",
    "        Associated activity labels for test set.\n",
    "    save_png: bool\n",
    "        Save image to disk (default = False)\n",
    "\n",
    "    Returns\n",
    "    -------\n",
    "    fig:\n",
    "        Figure.\n",
    "    \"\"\"\n",
    "\n",
    "    fig, ax = plt.subplots()\n",
    "\n",
    "    # Below for loop iterates through your models list\n",
    "    for model in models:\n",
    "        # Select the model\n",
    "        ml_model = model[\"model\"]\n",
    "        # Prediction probability on test set\n",
    "        test_prob = ml_model.predict_proba(test_x)[:, 1]\n",
    "        # Prediction class on test set\n",
    "        test_pred = ml_model.predict(test_x)\n",
    "        # Compute False postive rate and True positive rate\n",
    "        fpr, tpr, thresholds = metrics.roc_curve(test_y, test_prob)\n",
    "        # Calculate Area under the curve to display on the plot\n",
    "        auc = roc_auc_score(test_y, test_prob)\n",
    "        # Plot the computed values\n",
    "        ax.plot(fpr, tpr, label=(f\"{model['label']} AUC area = {auc:.2f}\"))\n",
    "\n",
    "    # Custom settings for the plot\n",
    "    ax.plot([0, 1], [0, 1], \"r--\")\n",
    "    ax.set_xlabel(\"False Positive Rate\")\n",
    "    ax.set_ylabel(\"True Positive Rate\")\n",
    "    ax.set_title(\"Receiver Operating Characteristic\")\n",
    "    ax.legend(loc=\"lower right\")\n",
    "    # Save plot\n",
    "    if save_png:\n",
    "        fig.savefig(f\"results/roc_auc\", dpi=300, bbox_inches=\"tight\", transparent=True)\n",
    "    return fig\n",
    "\n",
    "\n",
    "\n",
    "def model_performance(ml_model, test_x, test_y, verbose=True):\n",
    "    \"\"\"\n",
    "    Helper function to calculate model performance\n",
    "\n",
    "    Parameters\n",
    "    ----------\n",
    "    ml_model: sklearn model object\n",
    "        The machine learning model to train.\n",
    "    test_x: list\n",
    "        Molecular fingerprints for test set.\n",
    "    test_y: list\n",
    "        Associated activity labels for test set.\n",
    "    verbose: bool\n",
    "        Print performance measure (default = True)\n",
    "\n",
    "    Returns\n",
    "    -------\n",
    "    tuple:\n",
    "        Accuracy, sensitivity, specificity, auc on test set.\n",
    "    \"\"\"\n",
    "\n",
    "    # Prediction probability on test set\n",
    "    test_prob = ml_model.predict_proba(test_x)[:, 1]\n",
    "\n",
    "    # Prediction class on test set\n",
    "    test_pred = ml_model.predict(test_x)\n",
    "\n",
    "    # Performance of model on test set\n",
    "    accuracy = accuracy_score(test_y, test_pred)\n",
    "    sens = recall_score(test_y, test_pred)\n",
    "    spec = recall_score(test_y, test_pred, pos_label=0)\n",
    "    auc = roc_auc_score(test_y, test_prob)\n",
    "\n",
    "    if verbose:\n",
    "        # Print performance results\n",
    "        # NBVAL_CHECK_OUTPUT        print(f\"Accuracy: {accuracy:.2}\")\n",
    "        print(f\"Sensitivity: {sens:.2f}\")\n",
    "        print(f\"Specificity: {spec:.2f}\")\n",
    "        print(f\"AUC: {auc:.2f}\")\n",
    "\n",
    "    return accuracy, sens, spec, auc\n",
    "\n",
    "\n",
    "def model_training_and_validation(ml_model, name, splits, verbose=True):\n",
    "    \"\"\"\n",
    "    Fit a machine learning model on a random train-test split of the data\n",
    "    and return the performance measures.\n",
    "\n",
    "    Parameters\n",
    "    ----------\n",
    "    ml_model: sklearn model object\n",
    "        The machine learning model to train.\n",
    "    name: str\n",
    "        Name of machine learning algorithm: RF, SVM, ANN\n",
    "    splits: list\n",
    "        List of desciptor and label data: train_x, test_x, train_y, test_y.\n",
    "    verbose: bool\n",
    "        Print performance info (default = True)\n",
    "\n",
    "    Returns\n",
    "    -------\n",
    "    tuple:\n",
    "        Accuracy, sensitivity, specificity, auc on test set.\n",
    "\n",
    "    \"\"\"\n",
    "    train_x, test_x, train_y, test_y = splits\n",
    "\n",
    "    # Fit the model\n",
    "    ml_model.fit(train_x, train_y)\n",
    "\n",
    "    # Calculate model performance results\n",
    "    accuracy, sens, spec, auc = model_performance(ml_model, test_x, test_y, verbose)\n",
    "\n",
    "    return accuracy, sens, spec, auc\n",
    "\n",
    "def crossvalidation(ml_model, df, n_folds=5, verbose=False):\n",
    "    \"\"\"\n",
    "    Machine learning model training and validation in a cross-validation loop.\n",
    "\n",
    "    Parameters\n",
    "    ----------\n",
    "    ml_model: sklearn model object\n",
    "        The machine learning model to train.\n",
    "    df: pd.DataFrame\n",
    "        Data set with SMILES and their associated activity labels.\n",
    "    n_folds: int, optional\n",
    "        Number of folds for cross-validation.\n",
    "    verbose: bool, optional\n",
    "        Performance measures are printed.\n",
    "\n",
    "    Returns\n",
    "    -------\n",
    "    None\n",
    "\n",
    "    \"\"\"\n",
    "    t0 = time.time()\n",
    "    # Shuffle the indices for the k-fold cross-validation\n",
    "    kf = KFold(n_splits=n_folds, shuffle=True, random_state=SEED)\n",
    "\n",
    "    # Results for each of the cross-validation folds\n",
    "    acc_per_fold = []\n",
    "    sens_per_fold = []\n",
    "    spec_per_fold = []\n",
    "    auc_per_fold = []\n",
    "\n",
    "    # Loop over the folds\n",
    "    for train_index, test_index in kf.split(df):\n",
    "        # clone model -- we want a fresh copy per fold!\n",
    "        fold_model = clone(ml_model)\n",
    "        # Training\n",
    "\n",
    "        # Convert the fingerprint and the label to a list\n",
    "        train_x = df.iloc[train_index].fp.tolist()\n",
    "        train_y = df.iloc[train_index].active.tolist()\n",
    "\n",
    "        # Fit the model\n",
    "        fold_model.fit(train_x, train_y)\n",
    "\n",
    "        # Testing\n",
    "\n",
    "        # Convert the fingerprint and the label to a list\n",
    "        test_x = df.iloc[test_index].fp.tolist()\n",
    "        test_y = df.iloc[test_index].active.tolist()\n",
    "\n",
    "        # Performance for each fold\n",
    "        accuracy, sens, spec, auc = model_performance(fold_model, test_x, test_y, verbose)\n",
    "\n",
    "        # Save results\n",
    "        acc_per_fold.append(accuracy)\n",
    "        sens_per_fold.append(sens)\n",
    "        spec_per_fold.append(spec)\n",
    "        auc_per_fold.append(auc)\n",
    "\n",
    "    # Print statistics of results\n",
    "    print(\n",
    "        f\"Mean accuracy: {np.mean(acc_per_fold):.2f} \\t\"\n",
    "        f\"and std : {np.std(acc_per_fold):.2f} \\n\"\n",
    "        f\"Mean sensitivity: {np.mean(sens_per_fold):.2f} \\t\"\n",
    "        f\"and std : {np.std(sens_per_fold):.2f} \\n\"\n",
    "        f\"Mean specificity: {np.mean(spec_per_fold):.2f} \\t\"\n",
    "        f\"and std : {np.std(spec_per_fold):.2f} \\n\"\n",
    "        f\"Mean AUC: {np.mean(auc_per_fold):.2f} \\t\"\n",
    "        f\"and std : {np.std(auc_per_fold):.2f} \\n\"\n",
    "        f\"Time taken : {time.time() - t0:.2f}s\\n\"\n",
    "    )\n",
    "\n",
    "    return acc_per_fold, sens_per_fold, spec_per_fold, auc_per_fold\n",
    "\n",
    "\n",
    "\n",
    "\n",
    "def crossvalidation_reg(ml_model, df, n_folds=5, verbose=False):\n",
    "    \"\"\"\n",
    "    Machine learning model training and validation in a cross-validation loop.\n",
    "\n",
    "    Parameters\n",
    "    ----------\n",
    "    ml_model: sklearn model object\n",
    "        The machine learning model to train.\n",
    "    df: pd.DataFrame\n",
    "        Data set with SMILES and their associated activity labels.\n",
    "    n_folds: int, optional\n",
    "        Number of folds for cross-validation.\n",
    "    verbose: bool, optional\n",
    "        Performance measures are printed.\n",
    "\n",
    "    Returns\n",
    "    -------\n",
    "    None\n",
    "\n",
    "    \"\"\"\n",
    "    t0 = time.time()\n",
    "    # Shuffle the indices for the k-fold cross-validation\n",
    "    kf = KFold(n_splits=n_folds, shuffle=True, random_state=SEED)\n",
    "\n",
    "    # Results for each of the cross-validation folds\n",
    "    MAE_per_fold = []\n",
    "    RMSE_per_fold = []\n",
    "\n",
    "    # Loop over the folds\n",
    "    for train_index, test_index in kf.split(df):\n",
    "        # clone model -- we want a fresh copy per fold!\n",
    "        fold_model = clone(ml_model)\n",
    "        # Training\n",
    "\n",
    "        # Convert the fingerprint and the label to a list\n",
    "        train_x = df.iloc[train_index].fp.tolist()\n",
    "        train_y = df.iloc[train_index].pChEMBL_value.tolist()\n",
    "\n",
    "        # Fit the model\n",
    "        fold_model.fit(train_x, train_y)\n",
    "\n",
    "        # Testing\n",
    "\n",
    "        # Convert the fingerprint and the label to a list\n",
    "        test_x = df.iloc[test_index].fp.tolist()\n",
    "        test_y = df.iloc[test_index].pChEMBL_value.tolist()\n",
    "        \n",
    "        test_results = fold_model.predict(test_x)\n",
    "        # Prediction probability on test set\n",
    "        from sklearn import metrics\n",
    "\n",
    "        MAE_per_fold.append(metrics.mean_absolute_error(test_y, test_results))\n",
    "        #print('Mean Squared Error (MSE):', metrics.mean_squared_error(test_y, test_results))\n",
    "        RMSE_per_fold.append(np.sqrt(metrics.mean_squared_error(test_y, test_results)))\n",
    "        #mape = np.mean(np.abs((gt - pred) / np.abs(gt)))\n",
    "        #print('Mean Absolute Percentage Error (MAPE):', round(mape * 100, 2))\n",
    "        #print('Accuracy:', round(100*(1 - mape), 2))\n",
    "    return(MAE_per_fold,RMSE_per_fold,fold_model)\n",
    "\n",
    "#pubchem query functions\n",
    "\n",
    "def query_pubchem_for_similar_compounds(smiles, threshold=80, n_records=10, logp=5, MW=1000):\n",
    "    \"\"\"\n",
    "    Query PubChem for similar compounds and return the job key.\n",
    "\n",
    "    Parameters\n",
    "    ----------\n",
    "    smiles : str\n",
    "        The canonical SMILES string for the given compound.\n",
    "    threshold : int\n",
    "        The threshold of similarity, default 75%. In PubChem, the default threshold is 90%.\n",
    "    n_records : int\n",
    "        The maximum number of feedback records.\n",
    "\n",
    "    Returns\n",
    "    -------\n",
    "    str\n",
    "        The job key from the PubChem web service.\n",
    "    \"\"\"\n",
    "    escaped_smiles = quote(smiles).replace(\"/\", \".\")\n",
    "    url = f\"https://pubchem.ncbi.nlm.nih.gov/rest/pug/compound/similarity/smiles/{escaped_smiles}/JSON?Threshold={threshold}&MaxRecords={n_records}&fullsearch=true&mw_lte={MW}&xlogp_lte={logp}\"\n",
    "    r = requests.get(url)\n",
    "    r.raise_for_status()\n",
    "    key = r.json()[\"Waiting\"][\"ListKey\"]\n",
    "    return key\n",
    "\n",
    "\n",
    "def check_and_download(key, attempts=30):\n",
    "    \"\"\"\n",
    "    Check job status and download PubChem CIDs when the job finished\n",
    "\n",
    "    Parameters\n",
    "    ----------\n",
    "    key : str\n",
    "        The job key of the PubChem service.\n",
    "    attempts : int\n",
    "        The time waiting for the feedback from the PubChem service.\n",
    "\n",
    "    Returns\n",
    "    -------\n",
    "    list\n",
    "        The PubChem CIDs of similar compounds.\n",
    "    \"\"\"\n",
    "    url = f\"https://pubchem.ncbi.nlm.nih.gov/rest/pug/compound/listkey/{key}/cids/JSON\"\n",
    "    print(f\"Querying for job {key} at URL {url}...\", end=\"\")\n",
    "    while attempts:\n",
    "        r = requests.get(url)\n",
    "        r.raise_for_status()\n",
    "        response = r.json()\n",
    "        if \"IdentifierList\" in response:\n",
    "            cids = response[\"IdentifierList\"][\"CID\"]\n",
    "            break\n",
    "        attempts -= 1\n",
    "        print(\".\", end=\"\")\n",
    "        time.sleep(10)\n",
    "    else:\n",
    "        raise ValueError(f\"Could not find matches for job key: {key}\")\n",
    "    return cids\n",
    "\n",
    "def smiles_from_pubchem_cids(cids):\n",
    "    \"\"\"\n",
    "    Get the canonical SMILES string from the PubChem CIDs.\n",
    "\n",
    "    Parameters\n",
    "    ----------\n",
    "    cids : list\n",
    "        A list of PubChem CIDs.\n",
    "\n",
    "    Returns\n",
    "    -------\n",
    "    list\n",
    "        The canonical SMILES strings of the PubChem CIDs.\n",
    "    \"\"\"\n",
    "    url = f\"https://pubchem.ncbi.nlm.nih.gov/rest/pug/compound/cid/{','.join(map(str, cids))}/property/CanonicalSMILES/JSON\"\n",
    "    r = requests.get(url)\n",
    "    r.raise_for_status()\n",
    "    return [item[\"CanonicalSMILES\"] for item in r.json()[\"PropertyTable\"][\"Properties\"]]\n",
    "\n",
    "\n",
    "def PDBQTAtomLines(mol, donors, acceptors):\n",
    "    \"\"\"Create a list with PDBQT atom lines for each atom in molecule. Donors\n",
    "    and acceptors are given as a list of atom indices.\n",
    "    \"\"\"\n",
    "\n",
    "    atom_lines = [line.replace('HETATM', 'ATOM  ')\n",
    "                  for line in Chem.MolToPDBBlock(mol).split('\\n')\n",
    "                  if line.startswith('HETATM') or line.startswith('ATOM')]\n",
    "\n",
    "    pdbqt_lines = []\n",
    "    for idx, atom in enumerate(mol.GetAtoms()):\n",
    "        pdbqt_line = atom_lines[idx][:56]\n",
    "\n",
    "        pdbqt_line += '0.00  0.00    '  # append empty vdW and ele\n",
    "        # Get charge\n",
    "        charge = 0.\n",
    "        fields = ['_MMFF94Charge', '_GasteigerCharge', '_TriposPartialCharge']\n",
    "        for f in fields:\n",
    "            if atom.HasProp(f):\n",
    "                charge = atom.GetDoubleProp(f)\n",
    "                break\n",
    "        # FIXME: this should not happen, blame RDKit\n",
    "        if isnan(charge) or isinf(charge):\n",
    "            charge = 0.\n",
    "        pdbqt_line += ('%.3f' % charge).rjust(6)\n",
    "\n",
    "        # Get atom type\n",
    "        pdbqt_line += ' '\n",
    "        atomicnum = atom.GetAtomicNum()\n",
    "        if atomicnum == 6 and atom.GetIsAromatic():\n",
    "            pdbqt_line += 'A'\n",
    "        elif atomicnum == 7 and idx in acceptors:\n",
    "            pdbqt_line += 'NA'\n",
    "        elif atomicnum == 8 and idx in acceptors:\n",
    "            pdbqt_line += 'OA'\n",
    "        elif atomicnum == 1 and atom.GetNeighbors()[0].GetIdx() in donors:\n",
    "            pdbqt_line += 'HD'\n",
    "        else:\n",
    "            pdbqt_line += atom.GetSymbol()\n",
    "        pdbqt_lines.append(pdbqt_line)\n",
    "    return pdbqt_lines\n",
    "\n",
    "def MolToPDBQTBlock(mol, flexible=True, addHs=False, computeCharges=False):\n",
    "    \"\"\"Write RDKit Molecule to a PDBQT block\n",
    "\n",
    "    Parameters\n",
    "    ----------\n",
    "        mol: rdkit.Chem.rdchem.Mol\n",
    "            Molecule with a protein ligand complex\n",
    "        flexible: bool (default=True)\n",
    "            Should the molecule encode torsions. Ligands should be flexible,\n",
    "            proteins in turn can be rigid.\n",
    "        addHs: bool (default=False)\n",
    "            The PDBQT format requires at least polar Hs on donors. By default Hs\n",
    "            are added.\n",
    "        computeCharges: bool (default=False)\n",
    "            Should the partial charges be automatically computed. If the Hs are\n",
    "            added the charges must and will be recomputed. If there are no\n",
    "            partial charge information, they are set to 0.0.\n",
    "\n",
    "    Returns\n",
    "    -------\n",
    "        block: str\n",
    "            String wit PDBQT encoded molecule\n",
    "    \"\"\"\n",
    "    # make a copy of molecule\n",
    "    mol = Chem.Mol(mol)\n",
    "\n",
    "    # if flexible molecule contains multiple fragments write them separately\n",
    "    if flexible and len(Chem.GetMolFrags(mol)) > 1:\n",
    "        return ''.join(MolToPDBQTBlock(frag, flexible=flexible, addHs=addHs,\n",
    "                                       computeCharges=computeCharges)\n",
    "                       for frag in Chem.GetMolFrags(mol, asMols=True))\n",
    "\n",
    "    # Identify donors and acceptors for atom typing\n",
    "    # Acceptors\n",
    "    patt = Chem.MolFromSmarts('[$([O;H1;v2]),'\n",
    "                              '$([O;H0;v2;!$(O=N-*),'\n",
    "                              '$([O;-;!$(*-N=O)]),'\n",
    "                              '$([o;+0])]),'\n",
    "                              '$([n;+0;!X3;!$([n;H1](cc)cc),'\n",
    "                              '$([$([N;H0]#[C&v4])]),'\n",
    "                              '$([N&v3;H0;$(Nc)])]),'\n",
    "                              '$([F;$(F-[#6]);!$(FC[F,Cl,Br,I])])]')\n",
    "    acceptors = list(map(lambda x: x[0],\n",
    "                         mol.GetSubstructMatches(patt, maxMatches=mol.GetNumAtoms())))\n",
    "    # Donors\n",
    "    patt = Chem.MolFromSmarts('[$([N&!H0&v3,N&!H0&+1&v4,n&H1&+0,$([$([Nv3](-C)(-C)-C)]),'\n",
    "                              '$([$(n[n;H1]),'\n",
    "                              '$(nc[n;H1])])]),'\n",
    "                              # Guanidine can be tautormeic - e.g. Arginine\n",
    "                              '$([NX3,NX2]([!O,!S])!@C(!@[NX3,NX2]([!O,!S]))!@[NX3,NX2]([!O,!S])),'\n",
    "                              '$([O,S;H1;+0])]')\n",
    "    donors = list(map(lambda x: x[0],\n",
    "                      mol.GetSubstructMatches(patt, maxMatches=mol.GetNumAtoms())))\n",
    "    if addHs:\n",
    "        mol = Chem.AddHs(mol, addCoords=True, onlyOnAtoms=donors, )\n",
    "    if addHs or computeCharges:\n",
    "        AllChem.ComputeGasteigerCharges(mol)\n",
    "\n",
    "    atom_lines = PDBQTAtomLines(mol, donors, acceptors)\n",
    "    assert len(atom_lines) == mol.GetNumAtoms()\n",
    "\n",
    "    pdbqt_lines = []\n",
    "\n",
    "    # vina scores\n",
    "    if (mol.HasProp('vina_affinity') and mol.HasProp('vina_rmsd_lb') and\n",
    "            mol.HasProp('vina_rmsd_lb')):\n",
    "        pdbqt_lines.append('REMARK VINA RESULT:  ' +\n",
    "                           ('%.1f' % float(mol.GetProp('vina_affinity'))).rjust(8) +\n",
    "                           ('%.3f' % float(mol.GetProp('vina_rmsd_lb'))).rjust(11) +\n",
    "                           ('%.3f' % float(mol.GetProp('vina_rmsd_ub'))).rjust(11))\n",
    "\n",
    "    pdbqt_lines.append('REMARK  Name = ' +\n",
    "                       (mol.GetProp('_Name') if mol.HasProp('_Name') else ''))\n",
    "    if flexible:\n",
    "        # Find rotatable bonds\n",
    "        rot_bond = Chem.MolFromSmarts('[!$(*#*)&!D1&!$(C(F)(F)F)&'\n",
    "                                      '!$(C(Cl)(Cl)Cl)&'\n",
    "                                      '!$(C(Br)(Br)Br)&'\n",
    "                                      '!$(C([CH3])([CH3])[CH3])&'\n",
    "                                      '!$([CD3](=[N,O,S])-!@[#7,O,S!D1])&'\n",
    "                                      '!$([#7,O,S!D1]-!@[CD3]=[N,O,S])&'\n",
    "                                      '!$([CD3](=[N+])-!@[#7!D1])&'\n",
    "                                      '!$([#7!D1]-!@[CD3]=[N+])]-!@[!$(*#*)&'\n",
    "                                      '!D1&!$(C(F)(F)F)&'\n",
    "                                      '!$(C(Cl)(Cl)Cl)&'\n",
    "                                      '!$(C(Br)(Br)Br)&'\n",
    "                                      '!$(C([CH3])([CH3])[CH3])]')\n",
    "        bond_atoms = list(mol.GetSubstructMatches(rot_bond))\n",
    "        num_torsions = len(bond_atoms)\n",
    "\n",
    "        # Active torsions header\n",
    "        pdbqt_lines.append('REMARK  %i active torsions:' % num_torsions)\n",
    "        pdbqt_lines.append('REMARK  status: (\\'A\\' for Active; \\'I\\' for Inactive)')\n",
    "        for i, (a1, a2) in enumerate(bond_atoms):\n",
    "            pdbqt_lines.append('REMARK%5.0i  A    between atoms: _%i  and  _%i'\n",
    "                               % (i + 1, a1 + 1, a2 + 1))\n",
    "\n",
    "        # Fragment molecule on bonds to ge rigid fragments\n",
    "        bond_ids = [mol.GetBondBetweenAtoms(a1, a2).GetIdx()\n",
    "                    for a1, a2 in bond_atoms]\n",
    "        if bond_ids:\n",
    "            mol_rigid_frags = Chem.FragmentOnBonds(mol, bond_ids, addDummies=False)\n",
    "        else:\n",
    "            mol_rigid_frags = mol\n",
    "        frags = list(Chem.GetMolFrags(mol_rigid_frags))\n",
    "\n",
    "        def weigh_frags(frag):\n",
    "            \"\"\"sort by the fragment size and the number of bonds (secondary)\"\"\"\n",
    "            num_bonds = 0\n",
    "            # bond_weight = 0\n",
    "            for a1, a2 in bond_atoms:\n",
    "                if a1 in frag or a2 in frag:\n",
    "                    num_bonds += 1\n",
    "                    # for frag2 in frags:\n",
    "                    #     if a1 in frag2 or a2 in frag2:\n",
    "                    #         bond_weight += len(frag2)\n",
    "\n",
    "            # changed signs are fixing mixed sorting type (ascending/descending)\n",
    "            return -len(frag), -num_bonds,  # bond_weight\n",
    "        frags = sorted(frags, key=weigh_frags)\n",
    "\n",
    "        # Start writting the lines with ROOT\n",
    "        pdbqt_lines.append('ROOT')\n",
    "        frag = frags.pop(0)\n",
    "        for idx in frag:\n",
    "            pdbqt_lines.append(atom_lines[idx])\n",
    "        pdbqt_lines.append('ENDROOT')\n",
    "\n",
    "        # Now build the tree of torsions usign DFS algorithm. Keep track of last\n",
    "        # route with following variables to move down the tree and close branches\n",
    "        branch_queue = []\n",
    "        current_root = frag\n",
    "        old_roots = [frag]\n",
    "\n",
    "        visited_frags = []\n",
    "        visited_bonds = []\n",
    "        while len(frags) > len(visited_frags):\n",
    "            end_branch = True\n",
    "            for frag_num, frag in enumerate(frags):\n",
    "                for bond_num, (a1, a2) in enumerate(bond_atoms):\n",
    "                    if (frag_num not in visited_frags and\n",
    "                        bond_num not in visited_bonds and\n",
    "                        (a1 in current_root and a2 in frag or\n",
    "                         a2 in current_root and a1 in frag)):\n",
    "                        # direction of bonds is important\n",
    "                        if a1 in current_root:\n",
    "                            bond_dir = '%i %i' % (a1 + 1, a2 + 1)\n",
    "                        else:\n",
    "                            bond_dir = '%i %i' % (a2 + 1, a1 + 1)\n",
    "                        pdbqt_lines.append('BRANCH %s' % bond_dir)\n",
    "                        for idx in frag:\n",
    "                            pdbqt_lines.append(atom_lines[idx])\n",
    "                        branch_queue.append('ENDBRANCH %s' % bond_dir)\n",
    "\n",
    "                        # Overwrite current root and stash previous one in queue\n",
    "                        old_roots.append(current_root)\n",
    "                        current_root = frag\n",
    "\n",
    "                        # remove used elements from stack\n",
    "                        visited_frags.append(frag_num)\n",
    "                        visited_bonds.append(bond_num)\n",
    "\n",
    "                        # mark that we dont want to end branch yet\n",
    "                        end_branch = False\n",
    "                        break\n",
    "                    else:\n",
    "                        continue\n",
    "                    break  # break the outer loop as well\n",
    "\n",
    "            if end_branch:\n",
    "                pdbqt_lines.append(branch_queue.pop())\n",
    "                if old_roots:\n",
    "                    current_root = old_roots.pop()\n",
    "        # close opened branches if any is open\n",
    "        while len(branch_queue):\n",
    "            pdbqt_lines.append(branch_queue.pop())\n",
    "        pdbqt_lines.append('TORSDOF %i' % num_torsions)\n",
    "    else:\n",
    "        pdbqt_lines.extend(atom_lines)\n",
    "\n",
    "    return '\\n'.join(pdbqt_lines)\n",
    "\n",
    "def MolFromPDBQTBlock(filename, sanitize=True, removeHs=True):\n",
    "    \"\"\"Read PDBQT block to a RDKit Molecule\n",
    "    Parameters\n",
    "    ----------\n",
    "        block: string\n",
    "            Residue name which explicitly pint to a ligand(s).\n",
    "        sanitize: bool (default=True)\n",
    "            Should the sanitization be performed\n",
    "        removeHs: bool (default=True)\n",
    "            Should hydrogens be removed when reading molecule.\n",
    "    Returns\n",
    "    -------\n",
    "        mol: rdkit.Chem.rdchem.Mol\n",
    "            Molecule read from PDBQT\n",
    "    \"\"\"\n",
    "    pdb_lines = []\n",
    "    name = ''\n",
    "    data = {}\n",
    "    with open(filename) as file:\n",
    "        lines = file.readlines()\n",
    "        block = [line.rstrip() for line in lines]\n",
    "        \n",
    "    for line in block: #.split('\\n'):\n",
    "        # Get all know data from REMARK section\n",
    "        if line[:12] == 'REMARK  Name':\n",
    "            name = line[15:].strip()\n",
    "        elif line[:18] == 'REMARK VINA RESULT':\n",
    "            tmp = line[19:].split()\n",
    "            data['vina_affinity'] = tmp[0]\n",
    "            data['vina_rmsd_lb'] = tmp[1]\n",
    "            data['vina_rmsd_ub'] = tmp[2]\n",
    "\n",
    "        # no more data to collect\n",
    "        if line[:4] != 'ATOM':\n",
    "            continue\n",
    "\n",
    "        pdb_line = line[:56]\n",
    "        pdb_line += '1.00  0.00           '\n",
    "\n",
    "        # Do proper atom type lookup\n",
    "        atom_type = line[71:].split()[1]\n",
    "        if atom_type == 'A':\n",
    "            atom_type = 'C'\n",
    "        elif atom_type[:1] == 'O':\n",
    "            atom_type = 'O'\n",
    "        elif atom_type[:1] == 'H':\n",
    "            atom_type = 'H'\n",
    "            if removeHs:\n",
    "                continue\n",
    "        elif atom_type == 'NA':\n",
    "            atom_type = 'N'\n",
    "\n",
    "        pdb_lines.append(pdb_line + atom_type)\n",
    "    mol = Chem.MolFromPDBBlock('\\n'.join(pdb_lines), sanitize=False)\n",
    "    if sanitize:\n",
    "        Chem.SanitizeMol(mol)\n",
    "    else:\n",
    "        Chem.GetSSSR(mol)\n",
    "    # reorder atoms using serial\n",
    "    new_order = sorted(range(mol.GetNumAtoms()),\n",
    "                       key=lambda i: (mol.GetAtomWithIdx(i)\n",
    "                                      .GetPDBResidueInfo()\n",
    "                                      .GetSerialNumber()))\n",
    "    mol = Chem.RenumberAtoms(mol, new_order)\n",
    "\n",
    "    # properties must be set on final copy of Mol, RenumberAtoms purges data\n",
    "    mol.SetProp('_Name', name)\n",
    "    for k, v in data.items():\n",
    "        mol.SetProp(str(k), str(v))\n",
    "\n",
    "    return mol\n",
    "\n",
    "\n",
    "\n",
    "def Rg(filename):\n",
    "    '''\n",
    "    Calculates the Radius of Gyration (Rg) of a protein given its .pdb \n",
    "    structure file. Returns the Rg integer value in Angstrom.\n",
    "    '''\n",
    "    coord = list()\n",
    "    mass = list()\n",
    "    Structure = open(filename, 'r')\n",
    "    for line in Structure:\n",
    "        try:\n",
    "            line = line.split()\n",
    "            x = float(line[6])\n",
    "            y = float(line[7])\n",
    "            z = float(line[8])\n",
    "            coord.append([x, y, z])\n",
    "            if line[-1] == 'C':\n",
    "                mass.append(12.0107)\n",
    "            elif line[-1] == 'O':\n",
    "                mass.append(15.9994)\n",
    "            elif line[-1] == 'N':\n",
    "                mass.append(14.0067)\n",
    "            elif line[-1] == 'S':\n",
    "                mass.append(32.065)\n",
    "        except:\n",
    "            pass\n",
    "    xm = [(m*i, m*j, m*k) for (i, j, k), m in zip(coord, mass)]\n",
    "    tmass = sum(mass)\n",
    "    rr = sum(mi*i + mj*j + mk*k for (i, j, k), (mi, mj, mk) in zip(coord, xm))\n",
    "    mm = sum((sum(i) / tmass)**2 for i in zip(*xm))\n",
    "    rg = math.sqrt(rr / tmass-mm)\n",
    "    return(round(rg, 3))\n",
    "\n",
    "def COG(pdbfile, include='ATOM,HETATM'):\n",
    "    \"\"\"\n",
    "    Calculates center of geometry of a protein and/or ligand structure.\n",
    "    Returns:\n",
    "        center (list): List of float coordinates [x,y,z] that represent the\n",
    "        center of geometry (precision 3).\n",
    "    \"\"\"\n",
    "\n",
    "    center = [None, None, None]\n",
    "    include = tuple(include.split(','))\n",
    "\n",
    "    with open(pdbfile) as pdb:\n",
    "\n",
    "        # extract coordinates [ [x1,y1,z1], [x2,y2,z2], ... ]\n",
    "        coordinates = []\n",
    "        for line in pdb:\n",
    "            if line.startswith(include):\n",
    "                coordinates.append([float(line[30:38]),    # x_coord\n",
    "                                    float(line[38:46]),    # y_coord\n",
    "                                    float(line[46:54])     # z_coord\n",
    "                                   ])\n",
    "\n",
    "        # calculate center of geometry\n",
    "        center = [sum([coordinates[i][j]/(len(coordinates))\n",
    "              for i in range(len(coordinates))]) for j in range(3)]\n",
    "        center = [round(center[i], 3) for i in range(3)]\n",
    "    return center\n"
   ]
  },
  {
   "cell_type": "markdown",
   "metadata": {},
   "source": [
    "\n",
    "\n",
    "Set the working directory to the Report_data folder. <br>\n",
    "Changes permission of the lepro file.\n"
   ]
  },
  {
   "cell_type": "code",
   "execution_count": 3,
   "metadata": {},
   "outputs": [
    {
     "name": "stdout",
     "output_type": "stream",
     "text": [
      "Directory already exists\n",
      "You have permission to the LePro tool\n"
     ]
    }
   ],
   "source": [
    "HOMEDIR = str(Path.home())+\"/ACMDD_Tyk2_2022\" #Here we set the directory that we are working in\n",
    "HOMEDIR\n",
    "os.chdir(HOMEDIR)\n",
    "# We need to check whether the directory is there\n",
    "try:\n",
    "    os.mkdir('Report_data')\n",
    "except:\n",
    "    print(\"Directory already exists\")\n",
    "os.chdir('Report_data')\n",
    "\n",
    "SEED = 1\n",
    "seed_everything(SEED)\n",
    "os.getcwd()\n",
    "\n",
    "\n",
    "\n",
    "!chmod 755 ../bin/lepro # needed to get permission to use the LePro too\n",
    "\n",
    "if os.access('../bin/lepro', os.R_OK) == True:        # making sure we have access to the LePro tool\n",
    "    print(\"You have permission to the LePro tool\")\n",
    "elif os.access('../bin/lepro', os.R_OK) == False:\n",
    "    print(\"You have no permission to the LePro tool\")"
   ]
  },
  {
   "cell_type": "markdown",
   "metadata": {},
   "source": [
    "\n",
    "# Bioinformatics\n",
    "\n",
    "Below, a dataframe is made that consists of information about the target, the same target in a different species, and the most closely related protein in the same species that is not an isoform\n",
    "\n",
    "## Analyzing your target\n",
    "\n",
    "Interleukins are a type of cytokine that are capable of modulating the immune response when foreign substances are found in the body. However the immune response can sometimes be triggered by the body itself resulting in autoimmune diseases such as psoriasis. Targeting the Tyk2 receptor can reduce the effect some of the interleukins, reducing the immune response and alleviating symptoms of these diseases. It was only recently (september 2022) that a Tyk2 specific inhibitor was approved for treatment of medium to severe psoriasis, however drugs targeting the overarching JAK family proteins like Peficitinib have been around for a few years. The Tyk2 protein forms dimers with other JAK family proteins and can be found embedded in the cell membrane. \n"
   ]
  },
  {
   "cell_type": "code",
   "execution_count": 4,
   "metadata": {},
   "outputs": [
    {
     "data": {
      "text/html": [
       "<div>\n",
       "<style scoped>\n",
       "    .dataframe tbody tr th:only-of-type {\n",
       "        vertical-align: middle;\n",
       "    }\n",
       "\n",
       "    .dataframe tbody tr th {\n",
       "        vertical-align: top;\n",
       "    }\n",
       "\n",
       "    .dataframe thead th {\n",
       "        text-align: right;\n",
       "    }\n",
       "</style>\n",
       "<table border=\"1\" class=\"dataframe\">\n",
       "  <thead>\n",
       "    <tr style=\"text-align: right;\">\n",
       "      <th></th>\n",
       "      <th>Protein name</th>\n",
       "      <th>Protein family</th>\n",
       "      <th>Gene</th>\n",
       "      <th>Species</th>\n",
       "      <th>Accession number</th>\n",
       "      <th>Amino acid length</th>\n",
       "      <th>Identity (%)</th>\n",
       "      <th>Mass (Da)</th>\n",
       "      <th>Protein existence</th>\n",
       "      <th>Status</th>\n",
       "    </tr>\n",
       "  </thead>\n",
       "  <tbody>\n",
       "    <tr>\n",
       "      <th>0</th>\n",
       "      <td>Non-receptor tyrosine-protein kinase</td>\n",
       "      <td>JAK</td>\n",
       "      <td>TYK2</td>\n",
       "      <td>Homo sapiens (Human)</td>\n",
       "      <td>P29597</td>\n",
       "      <td>1187</td>\n",
       "      <td>100.0</td>\n",
       "      <td>133650</td>\n",
       "      <td>Evidence at protein level</td>\n",
       "      <td>UniProtKB reviewed (Swiss-Prot)</td>\n",
       "    </tr>\n",
       "    <tr>\n",
       "      <th>1</th>\n",
       "      <td>Tyrosine-protein kinase</td>\n",
       "      <td>JAK</td>\n",
       "      <td>TYK2</td>\n",
       "      <td>Pan troglodytes (Chimpanzee)</td>\n",
       "      <td>K7AU67</td>\n",
       "      <td>1187</td>\n",
       "      <td>99.2</td>\n",
       "      <td>133769</td>\n",
       "      <td>Evidence at transcript level</td>\n",
       "      <td>UniProtKB unreviewed (TrEMBL)</td>\n",
       "    </tr>\n",
       "    <tr>\n",
       "      <th>2</th>\n",
       "      <td>Tyrosine-protein kinase</td>\n",
       "      <td>JAK</td>\n",
       "      <td>JAK1</td>\n",
       "      <td>Homo sapiens (Human)</td>\n",
       "      <td>P23458</td>\n",
       "      <td>1154</td>\n",
       "      <td>46.9</td>\n",
       "      <td>133277</td>\n",
       "      <td>Evidence at protein level</td>\n",
       "      <td>UniProtKB reviewed (Swiss-Prot)</td>\n",
       "    </tr>\n",
       "  </tbody>\n",
       "</table>\n",
       "</div>"
      ],
      "text/plain": [
       "                           Protein name Protein family  Gene  \\\n",
       "0  Non-receptor tyrosine-protein kinase            JAK  TYK2   \n",
       "1               Tyrosine-protein kinase            JAK  TYK2   \n",
       "2               Tyrosine-protein kinase            JAK  JAK1   \n",
       "\n",
       "                        Species Accession number  Amino acid length  \\\n",
       "0          Homo sapiens (Human)           P29597               1187   \n",
       "1  Pan troglodytes (Chimpanzee)           K7AU67               1187   \n",
       "2          Homo sapiens (Human)           P23458               1154   \n",
       "\n",
       "   Identity (%)  Mass (Da)             Protein existence  \\\n",
       "0         100.0     133650     Evidence at protein level   \n",
       "1          99.2     133769  Evidence at transcript level   \n",
       "2          46.9     133277     Evidence at protein level   \n",
       "\n",
       "                            Status  \n",
       "0  UniProtKB reviewed (Swiss-Prot)  \n",
       "1    UniProtKB unreviewed (TrEMBL)  \n",
       "2  UniProtKB reviewed (Swiss-Prot)  "
      ]
     },
     "metadata": {},
     "output_type": "display_data"
    }
   ],
   "source": [
    "#Dataframe of the target, the target in a different species, and the protein closest to the target that is not an isoform.\n",
    "\n",
    "proteins = pd.DataFrame({\"Protein name\":[\"Non-receptor tyrosine-protein kinase\",\"Tyrosine-protein kinase\",\"Tyrosine-protein kinase\"],\n",
    "              \"Protein family\":[\"JAK\",\"JAK\",\"JAK\"],\n",
    "              \"Gene\":[\"TYK2\",\"TYK2\",\"JAK1\"],\n",
    "              \"Species\":[\"Homo sapiens (Human)\",\"Pan troglodytes (Chimpanzee)\",\"Homo sapiens (Human)\"],\n",
    "              \"Accession number\":[\"P29597\",\"K7AU67\",\"P23458\"],\n",
    "              \"Amino acid length\":[1187,1187,1154],\n",
    "              \"Identity (%)\":[100, 99.2, 46.9],\n",
    "              \"Mass (Da)\":[133650,133769,133277],\n",
    "              \"Protein existence\":[\"Evidence at protein level\",\"Evidence at transcript level\",\"Evidence at protein level\"],\n",
    "              \"Status\":[\"UniProtKB reviewed (Swiss-Prot)\",\"UniProtKB unreviewed (TrEMBL)\",\"UniProtKB reviewed (Swiss-Prot)\"]})\n",
    "\n",
    "display(proteins)"
   ]
  },
  {
   "cell_type": "markdown",
   "metadata": {},
   "source": [
    "Which target is more similar compared to the original target? <br>\n",
    "The Chimpanzee TYK2 is more similar to the human TYK2 than human JAK1 is to human TYK2 <br> <br>\n",
    "Did you expect this? <br>\n",
    "Yes this is expected as humans and chimpanzees are closely related and TYK2 is highly like to have a similar function"
   ]
  },
  {
   "cell_type": "markdown",
   "metadata": {},
   "source": [
    "# Retrieving a 3D structure\n"
   ]
  },
  {
   "cell_type": "markdown",
   "metadata": {},
   "source": [
    "This part of the code shows the target protein TYK2 with the ligand 0X5 in a 3D viewer together with the residues within 5 Angstrom of the ligand."
   ]
  },
  {
   "cell_type": "code",
   "execution_count": 5,
   "metadata": {},
   "outputs": [
    {
     "data": {
      "application/vnd.jupyter.widget-view+json": {
       "model_id": "2cde9ab6ac934cdea1bed87536e7cd13",
       "version_major": 2,
       "version_minor": 0
      },
      "text/plain": [
       "NGLWidget()"
      ]
     },
     "metadata": {},
     "output_type": "display_data"
    }
   ],
   "source": [
    "TARGET_PDB_ID = \"4gih\" #TYK2 P29597\n",
    "LIGAND_CODE = \"0X5\" #Residue name of ligand in TYK2 P29597\n",
    "\n",
    "view_target = nglview.show_pdbid(TARGET_PDB_ID)\n",
    "view_target\n",
    "\n",
    "\n",
    "viewer.show_residues_around(view_target)\n",
    "view_target.center()\n",
    "view_target"
   ]
  },
  {
   "cell_type": "markdown",
   "metadata": {},
   "source": [
    "At the moment we can not see the hydrogen atoms since they are below the resolution of the x-ray method. \n",
    "\n",
    "In the next stage, we will add the hydrogens and have another look at the structure. We will split the protein and ligand and save them seperately."
   ]
  },
  {
   "cell_type": "code",
   "execution_count": 6,
   "metadata": {},
   "outputs": [
    {
     "name": "stderr",
     "output_type": "stream",
     "text": [
      "WARNING: The default download format has changed from PDB to PDBx/mmCif\n"
     ]
    },
    {
     "name": "stdout",
     "output_type": "stream",
     "text": [
      "Structure exists: '4gih/4gih.cif' \n"
     ]
    },
    {
     "data": {
      "application/vnd.jupyter.widget-view+json": {
       "model_id": "d47389423085489fa51d001fdd76697f",
       "version_major": 2,
       "version_minor": 0
      },
      "text/plain": [
       "NGLWidget()"
      ]
     },
     "metadata": {},
     "output_type": "display_data"
    }
   ],
   "source": [
    "\n",
    "#########################################################\n",
    "#Adding hydrogens to docking site residues of the target#\n",
    "#########################################################\n",
    "\n",
    "#Retrieve coordinates of target and turn it into a BioPython object\n",
    "pdbl = PDBList()\n",
    "pdbl.retrieve_pdb_file(TARGET_PDB_ID, pdir=TARGET_PDB_ID)\n",
    "parser = MMCIFParser()\n",
    "structure = parser.get_structure(\"TARGETPROT\",'{}/{}.cif'.format(TARGET_PDB_ID,TARGET_PDB_ID))\n",
    "\n",
    "\n",
    "#Save the ligand\n",
    "class ResSelect(Select):\n",
    "    def accept_residue(self, residue):\n",
    "        if residue.get_resname() == LIGAND_CODE:\n",
    "            return 1\n",
    "        else:\n",
    "            return 0\n",
    "\n",
    "class NonHetSelect(Select):\n",
    "    def accept_residue(self, residue):\n",
    "        return 1 if residue.id[0] == \" \" else 0\n",
    "\n",
    "io = PDBIO()\n",
    "io.set_structure(structure)\n",
    "io.save(\"ligand-{}.pdb\".format(LIGAND_CODE), ResSelect())\n",
    "io.save(\"protein-{}.pdb\".format(TARGET_PDB_ID), NonHetSelect())\n",
    "\n",
    "\n",
    "#Load ligand\n",
    "command = '../bin/lepro protein-{}.pdb'.format(TARGET_PDB_ID)\n",
    "os.system(command)\n",
    "shutil.move('pro.pdb','{}_prepped.pdb'.format(TARGET_PDB_ID))\n",
    "\n",
    "#Combine protein and ligand files\n",
    "filenames = [\n",
    "'{}_prepped.pdb'.format(TARGET_PDB_ID),\n",
    "\"ligand-{}.pdb\".format(LIGAND_CODE)\n",
    "]\n",
    "with open('{}-complex.pdb'.format(TARGET_PDB_ID), 'w') as outfile:\n",
    "    for fname in filenames:\n",
    "        with open(fname) as infile:\n",
    "            for line in infile:\n",
    "                if not \"END\" in line:\n",
    "                    outfile.write(line)\n",
    "                    \n",
    "\n",
    "#view the target and ligand in 3D with nglviewer\n",
    "with open('{}-complex.pdb'.format(TARGET_PDB_ID)) as f:\n",
    "    view_target_residues_hydrogens = nglview.show_file(f, ext=\"pdb\")\n",
    "    \n",
    "view_target_residues_hydrogens.center()\n",
    "viewer.show_residues_around(view_target_residues_hydrogens)\n",
    "view_target_residues_hydrogens\n",
    "\n",
    "\n",
    "#Have a look at the residues near the ligand, can you observe any important interactions? Describe in your report which interactions you observe, and what type of interactions they are.\n",
    "\n",
    "#Note that we do not see any hydrogen atoms, do you know why?\n",
    "\n",
    "#-Hydrogens are below the resolution of the x-ray method"
   ]
  },
  {
   "cell_type": "markdown",
   "metadata": {},
   "source": [
    "Let's have a look again at the protein"
   ]
  },
  {
   "cell_type": "markdown",
   "metadata": {},
   "source": [
    "Now, we will repeat the procedure for the most similar target that we identified (the highest scoring hit from the PDB): <br>\n",
    "In our case, human JAK2 (code 7q7l) is the most similar target."
   ]
  },
  {
   "cell_type": "code",
   "execution_count": 7,
   "metadata": {},
   "outputs": [
    {
     "name": "stderr",
     "output_type": "stream",
     "text": [
      "WARNING: The default download format has changed from PDB to PDBx/mmCif\n"
     ]
    },
    {
     "name": "stdout",
     "output_type": "stream",
     "text": [
      "Structure exists: '7q7l/7q7l.cif' \n"
     ]
    },
    {
     "data": {
      "application/vnd.jupyter.widget-view+json": {
       "model_id": "39bb8fdf0395481a8a16961ddc028f38",
       "version_major": 2,
       "version_minor": 0
      },
      "text/plain": [
       "NGLWidget()"
      ]
     },
     "metadata": {},
     "output_type": "display_data"
    }
   ],
   "source": [
    "#############################################################\n",
    "#Adding hydrogens to docking site residues of the off_target#\n",
    "#############################################################\n",
    "\n",
    "OFF_TARGET_PDB_ID = \"7q7l\" # Enter your off target PDB code here, example = '5uen'\n",
    "OFF_TARGET_LIGAND = \"9I2\"  # Enter the ligand code here, example = 'DU1'\n",
    "\n",
    "pdbl = PDBList()\n",
    "pdbl.retrieve_pdb_file(OFF_TARGET_PDB_ID, pdir=OFF_TARGET_PDB_ID)\n",
    "\n",
    "parser = MMCIFParser()\n",
    "structure = parser.get_structure(\"TARGETPROT\",'{}/{}.cif'.format(OFF_TARGET_PDB_ID,OFF_TARGET_PDB_ID))\n",
    "\n",
    "\n",
    "#Save ligand\n",
    "class ResSelect(Select):\n",
    "    def accept_residue(self, residue):\n",
    "        if residue.get_resname() == OFF_TARGET_LIGAND:\n",
    "            return 1\n",
    "        else:\n",
    "            return 0\n",
    "\n",
    "io = PDBIO()\n",
    "io.set_structure(structure)\n",
    "io.save(\"ligand-{}.pdb\".format(OFF_TARGET_LIGAND), ResSelect())\n",
    "io.save(\"protein-{}.pdb\".format(OFF_TARGET_PDB_ID), NonHetSelect())\n",
    "\n",
    "\n",
    "\n",
    "#Load ligand\n",
    "command = '../bin/lepro protein-{}.pdb'.format(OFF_TARGET_PDB_ID)\n",
    "os.system(command)\n",
    "shutil.move('pro.pdb','{}_prepped.pdb'.format(OFF_TARGET_PDB_ID))\n",
    "\n",
    "\n",
    "\n",
    "#Combine protein and ligand files\n",
    "filenames = [\n",
    "'{}_prepped.pdb'.format(OFF_TARGET_PDB_ID),\n",
    "\"ligand-{}.pdb\".format(OFF_TARGET_LIGAND)\n",
    "]\n",
    "with open('{}-complex.pdb'.format(OFF_TARGET_PDB_ID), 'w') as outfile:\n",
    "    for fname in filenames:\n",
    "        with open(fname) as infile:\n",
    "            for line in infile:\n",
    "                if not \"END\" in line:\n",
    "                    outfile.write(line)\n",
    "                    \n",
    "                    \n",
    "#View the off_target and ligand in 3D with nglviewer\n",
    "with open('{}-complex.pdb'.format(OFF_TARGET_PDB_ID)) as f:\n",
    "    view_offtarget = nglview.show_file(f, ext=\"pdb\")\n",
    "    \n",
    "view_offtarget.center()\n",
    "viewer.show_residues_around(view_offtarget)\n",
    "view_offtarget"
   ]
  },
  {
   "cell_type": "markdown",
   "metadata": {},
   "source": [
    "Now the two structures will be aligned"
   ]
  },
  {
   "cell_type": "code",
   "execution_count": 8,
   "metadata": {},
   "outputs": [
    {
     "name": "stdout",
     "output_type": "stream",
     "text": [
      "Alignment(seqA='M--------------------GSPAS-DPTV-FHK--RY-LKKIRD-L---GE-GH-FGKVSLY---C-YDPTN--DG-TGEMV-AVKALKADAGP-QHRSGWKQ-EI----D----I--LRT--LYHE-HI--I-KYKGC-CED--AGAAS---LQ-LV-MEYVPL--GSLRDYLP-----R--HSIGLAQL-LLFAQ---QICE-GMA-YLHAQH----YIHRN-LAA-RNVL-LD--ND--RLVKIGDFGLA-KAV-PEGH---EYYR-VR-ED-GD-SPV-FWYAPEC-LK-EY-KFYY--ASDVWSFGVT-LYELL-THCDS----SQ-SPPTKFL-EL----IGIA---QGQMT--VLRLT---ELLER---GERLPRPDK-CPA-EV-YHLMKNCWE--TEASF--------RPT-FEN--LIPI-LKT-VHEKY---RHHHHHH-----', seqB='MHHHHHHDYKDDDDKENLYFQG----RDPT-QF--EER-HL-K---FLQQLG-KG-NFG--S--VEMCRYDP--LQD-NTGE-VVAVK--K-----LQH-S----TE-EHLRDFEREIEIL--KSL---QH-DNIVKYKG-VC--YSAG---RRNL-KL-IMEY--LPYGSLRDYL-QKHKERIDH-I-----KLL--QYTSQIC-KGM-EYL----GTKRYIHR-DL-ATRN--IL-VEN-ENR-VKIGDFGL-TK-VLP---QDKEYY-KV-KE-PG-ESP-IFWYAPE-SL-TE-SKF--SVASDVWSFGV-VLYE-LFT----YIEKS-KSPP----AE-FMRMIG--NDKQGQ--SIV---THLIELL--KNNG-RLPRPD-GCP-DE-IY--M-----IMTE---CWNNNVNQRP-SF--RDL---AL--RV----DQIR------DNMAG', score=161.0, start=0, end=457)\n"
     ]
    },
    {
     "data": {
      "application/vnd.jupyter.widget-view+json": {
       "model_id": "6188373c482d4ae78c252da9fcd532de",
       "version_major": 2,
       "version_minor": 0
      },
      "text/plain": [
       "NGLWidget()"
      ]
     },
     "metadata": {},
     "output_type": "display_data"
    }
   ],
   "source": [
    "###########################################\n",
    "#Aligning target 4GIH and off-target in 3D#\n",
    "###########################################\n",
    "\n",
    "# Get the structures\n",
    "PDBCODE_1 = '4gih' # Name of the first structure\n",
    "PDBCODE_2 = '7q7l' # Name of the second structure\n",
    "\n",
    "\n",
    "data = requests.get(f'https://www.ebi.ac.uk/pdbe/api/pdb/entry/molecules/{PDBCODE_1}').json()[PDBCODE_1.lower()]\n",
    "SEQ1 = (data[0]['sequence'])\n",
    "SEQ1 = Seq(SEQ1)\n",
    "\n",
    "data = requests.get(f'https://www.ebi.ac.uk/pdbe/api/pdb/entry/molecules/{PDBCODE_2}').json()[PDBCODE_2.lower()]\n",
    "SEQ2 = (data[0]['sequence'])\n",
    "SEQ2 = Seq(SEQ2)\n",
    "\n",
    "alignments = pairwise2.align.globalxx(SEQ1, SEQ2)\n",
    "\n",
    "for align1, align2, score, begin, end in alignments:\n",
    "    filename = \"alignment.fasta\"\n",
    "    with open(filename, \"w\") as handle:\n",
    "        handle.write(\">SEQ1\\n%s\\n>SEQ2\\n%s\\n\" % (align1, align2))\n",
    "\n",
    "print(alignments[0])\n",
    "\n",
    "bio_align.run('{}-complex.pdb'.format(TARGET_PDB_ID),'{}-complex.pdb'.format(OFF_TARGET_PDB_ID))\n",
    "\n",
    "\n",
    "# combine protein and ligand files\n",
    "filenames = [\n",
    "'{}-complex.pdb'.format(TARGET_PDB_ID,TARGET_PDB_ID),\n",
    "\"{}-complex_transformed.pdb\".format(OFF_TARGET_PDB_ID)\n",
    "]\n",
    "with open('{}-{}-merged.pdb'.format(TARGET_PDB_ID,OFF_TARGET_PDB_ID), 'w') as outfile:\n",
    "    for fname in filenames:\n",
    "        with open(fname) as infile:\n",
    "            for line in infile:\n",
    "                if not \"END\" in line:\n",
    "                    outfile.write(line)\n",
    "                    \n",
    "with open('{}-{}-merged.pdb'.format(TARGET_PDB_ID,OFF_TARGET_PDB_ID)) as f:\n",
    "    view_alignment = nglview.show_file(f, ext=\"pdb\")\n",
    "    \n",
    "view_alignment"
   ]
  },
  {
   "cell_type": "code",
   "execution_count": 9,
   "metadata": {},
   "outputs": [
    {
     "name": "stdout",
     "output_type": "stream",
     "text": [
      "This is the alignment of TYK2 and JAK1\n"
     ]
    },
    {
     "data": {
      "application/vnd.jupyter.widget-view+json": {
       "model_id": "6188373c482d4ae78c252da9fcd532de",
       "version_major": 2,
       "version_minor": 0
      },
      "text/plain": [
       "NGLWidget(n_components=1)"
      ]
     },
     "metadata": {},
     "output_type": "display_data"
    }
   ],
   "source": [
    "print(\"This is the alignment of TYK2 and JAK1\")\n",
    "display(view_alignment)"
   ]
  },
  {
   "cell_type": "markdown",
   "metadata": {},
   "source": [
    "The structures seem to have a rather good alignment with each other. \n",
    "\n",
    "Below you can see the the reactions between the Tyk2 protein and the co-crystalized ligand 0X5. <br>\n",
    "Here we see that Hydrophobic interactions are predominant, with a select few hydrogen bonds with the nitrogen atoms in the molecular structure of the ligand. <br>\n",
    "The specific interactions can be seen in the table below.\n"
   ]
  },
  {
   "cell_type": "markdown",
   "metadata": {},
   "source": [
    "![image info](Report_data/Images/4GIH_0X5_A_1201.png)\n",
    "![image info](Report_data/Images/4GIH_0X5_A_1201_3D.png)\n",
    "![image_info](Report_data/Images/PLIP_table.png)"
   ]
  },
  {
   "cell_type": "code",
   "execution_count": 10,
   "metadata": {},
   "outputs": [
    {
     "data": {
      "text/html": [
       "<div>\n",
       "<style scoped>\n",
       "    .dataframe tbody tr th:only-of-type {\n",
       "        vertical-align: middle;\n",
       "    }\n",
       "\n",
       "    .dataframe tbody tr th {\n",
       "        vertical-align: top;\n",
       "    }\n",
       "\n",
       "    .dataframe thead th {\n",
       "        text-align: right;\n",
       "    }\n",
       "</style>\n",
       "<table border=\"1\" class=\"dataframe\">\n",
       "  <thead>\n",
       "    <tr style=\"text-align: right;\">\n",
       "      <th></th>\n",
       "      <th>Protein name</th>\n",
       "      <th>Protein family</th>\n",
       "      <th>Gene</th>\n",
       "      <th>Species</th>\n",
       "      <th>Accession number</th>\n",
       "      <th>Amino acid length</th>\n",
       "      <th>Identity (%)</th>\n",
       "      <th>Mass (Da)</th>\n",
       "      <th>Protein existence</th>\n",
       "      <th>Status</th>\n",
       "    </tr>\n",
       "  </thead>\n",
       "  <tbody>\n",
       "    <tr>\n",
       "      <th>0</th>\n",
       "      <td>Non-receptor tyrosine-protein kinase</td>\n",
       "      <td>JAK</td>\n",
       "      <td>TYK2</td>\n",
       "      <td>Homo sapiens (Human)</td>\n",
       "      <td>P29597</td>\n",
       "      <td>1187</td>\n",
       "      <td>100.0</td>\n",
       "      <td>133650</td>\n",
       "      <td>Evidence at protein level</td>\n",
       "      <td>UniProtKB reviewed (Swiss-Prot)</td>\n",
       "    </tr>\n",
       "    <tr>\n",
       "      <th>1</th>\n",
       "      <td>Tyrosine-protein kinase</td>\n",
       "      <td>JAK</td>\n",
       "      <td>TYK2</td>\n",
       "      <td>Pan troglodytes (Chimpanzee)</td>\n",
       "      <td>K7AU67</td>\n",
       "      <td>1187</td>\n",
       "      <td>99.2</td>\n",
       "      <td>133769</td>\n",
       "      <td>Evidence at transcript level</td>\n",
       "      <td>UniProtKB unreviewed (TrEMBL)</td>\n",
       "    </tr>\n",
       "    <tr>\n",
       "      <th>2</th>\n",
       "      <td>Tyrosine-protein kinase</td>\n",
       "      <td>JAK</td>\n",
       "      <td>JAK1</td>\n",
       "      <td>Homo sapiens (Human)</td>\n",
       "      <td>P23458</td>\n",
       "      <td>1154</td>\n",
       "      <td>46.9</td>\n",
       "      <td>133277</td>\n",
       "      <td>Evidence at protein level</td>\n",
       "      <td>UniProtKB reviewed (Swiss-Prot)</td>\n",
       "    </tr>\n",
       "  </tbody>\n",
       "</table>\n",
       "</div>"
      ],
      "text/plain": [
       "                           Protein name Protein family  Gene  \\\n",
       "0  Non-receptor tyrosine-protein kinase            JAK  TYK2   \n",
       "1               Tyrosine-protein kinase            JAK  TYK2   \n",
       "2               Tyrosine-protein kinase            JAK  JAK1   \n",
       "\n",
       "                        Species Accession number  Amino acid length  \\\n",
       "0          Homo sapiens (Human)           P29597               1187   \n",
       "1  Pan troglodytes (Chimpanzee)           K7AU67               1187   \n",
       "2          Homo sapiens (Human)           P23458               1154   \n",
       "\n",
       "   Identity (%)  Mass (Da)             Protein existence  \\\n",
       "0         100.0     133650     Evidence at protein level   \n",
       "1          99.2     133769  Evidence at transcript level   \n",
       "2          46.9     133277     Evidence at protein level   \n",
       "\n",
       "                            Status  \n",
       "0  UniProtKB reviewed (Swiss-Prot)  \n",
       "1    UniProtKB unreviewed (TrEMBL)  \n",
       "2  UniProtKB reviewed (Swiss-Prot)  "
      ]
     },
     "metadata": {},
     "output_type": "display_data"
    }
   ],
   "source": [
    "display(proteins)"
   ]
  },
  {
   "cell_type": "markdown",
   "metadata": {},
   "source": [
    "Protein sequence aligment of the proteins shown above: <br>\n",
    "![image info](Report_data/Images/Sequence_alignment.jpeg)"
   ]
  },
  {
   "cell_type": "markdown",
   "metadata": {},
   "source": [
    "# start machine learning\n",
    "In this section, we will look into cheminformatics. We ended the last session looking at the interaction of the ligand in the binding site. To refresh our minds, \n"
   ]
  },
  {
   "cell_type": "markdown",
   "metadata": {},
   "source": [
    "### Ligand : 0X5\n",
    "InChiKey: IAFNAEGXTKTGHN-UHFFFAOYSA-N <br>\n",
    "Smiles: C1CC1C(=O)NC2=NC=CC(=C2)NC(=O)C3=C(C=CC=C3Cl)Cl  \n",
    "\n",
    "Similarity search with tanimoto threshold at 90% yielded 430 results. <br>\n",
    "A similarity search with the threshold at 80% yields 1000 results\n"
   ]
  },
  {
   "cell_type": "markdown",
   "metadata": {},
   "source": [
    "The ChEMBL ID of this compound is CHEMBL2387224 <br>\n",
    "Similarity searches on ChEMBL yields only a single compound for thresholds at 95% and 90% <br>\n",
    "There are most likely less similar compounds found on ChEMBL since this is a manually created database\n"
   ]
  },
  {
   "cell_type": "markdown",
   "metadata": {},
   "source": [
    "A 70% similarity search gave 20 similar compounds. One of these compounds can be found using the hyperlink below. <br>\n",
    "https://zinc15.docking.org/substances/ZINC000096928695/\n",
    "\n",
    "The entire search can be found here: <br>\n",
    "https://zinc15.docking.org/substances/?highlight=C1CC1C%28%3DO%29NC2%3DNC%3DCC%28%3DC2%29NC%28%3DO%29C3%3DC%28C%3DCC%3DC3Cl%29Cl&ecfp4_fp-tanimoto-30=O%3DC%28Nc2ccnc%28NC%28%3DO%29C1CC1%29c2%29c3c%28Cl%29cccc3Cl\n",
    "\n",
    "\n",
    "\n",
    "A 60% similarity search gave 17 similar compounds. The search results can be found below. <br>\n",
    "https://zinc15.docking.org/substances/?highlight=C1CC1C%28%3DO%29NC2%3DNC%3DCC%28%3DC2%29NC%28%3DO%29C3%3DC%28C%3DCC%3DC3Cl%29Cl&ecfp4_fp-tanimoto-40=O%3DC%28Nc2ccnc%28NC%28%3DO%29C1CC1%29c2%29c3c%28Cl%29cccc3Cl\n",
    "\n",
    "The compounds found in both searches are very similar, however three compounds were removed by the 60% similarity search. The similarity threshold is just an exclusion criterium to filter out compounds with a similarity lower tanimoto score. If you want more similar compounds you need to use lower percentage similarity searches \n",
    "\n"
   ]
  },
  {
   "cell_type": "markdown",
   "metadata": {},
   "source": [
    "A ChEMBL dataset containing compounds with known bioactivity to the Tyk2 receptor has been downloaded. <br>"
   ]
  },
  {
   "cell_type": "code",
   "execution_count": 11,
   "metadata": {},
   "outputs": [
    {
     "name": "stdout",
     "output_type": "stream",
     "text": [
      "There are a total of 1920 datapoints in this set\n"
     ]
    },
    {
     "data": {
      "text/plain": [
       "pandas.core.frame.DataFrame"
      ]
     },
     "execution_count": 11,
     "metadata": {},
     "output_type": "execute_result"
    }
   ],
   "source": [
    "CHEMBLID = 'CHEMBL3553' # Enter the CHEMBL ID of your target here\n",
    "FILENAME = 'CHEMBL3553.csv' # The filename of the uploaded file\n",
    "\n",
    "data = pd.read_csv(FILENAME, sep = \";\")\n",
    "data= data[data['Standard Type'] == \"IC50\"]\n",
    "print(\"There are a total of {} datapoints in this set\".format(len(data)))\n",
    "\n",
    "\n",
    "type(data)"
   ]
  },
  {
   "cell_type": "code",
   "execution_count": 12,
   "metadata": {},
   "outputs": [
    {
     "data": {
      "text/html": [
       "<div>\n",
       "<style scoped>\n",
       "    .dataframe tbody tr th:only-of-type {\n",
       "        vertical-align: middle;\n",
       "    }\n",
       "\n",
       "    .dataframe tbody tr th {\n",
       "        vertical-align: top;\n",
       "    }\n",
       "\n",
       "    .dataframe thead th {\n",
       "        text-align: right;\n",
       "    }\n",
       "</style>\n",
       "<table border=\"1\" class=\"dataframe\">\n",
       "  <thead>\n",
       "    <tr style=\"text-align: right;\">\n",
       "      <th></th>\n",
       "      <th>Molecule ChEMBL ID</th>\n",
       "      <th>Molecule Name</th>\n",
       "      <th>Molecule Max Phase</th>\n",
       "      <th>Molecular Weight</th>\n",
       "      <th>#RO5 Violations</th>\n",
       "      <th>AlogP</th>\n",
       "      <th>Compound Key</th>\n",
       "      <th>Smiles</th>\n",
       "      <th>Standard Type</th>\n",
       "      <th>Standard Relation</th>\n",
       "      <th>...</th>\n",
       "      <th>Target Name</th>\n",
       "      <th>Target Organism</th>\n",
       "      <th>Target Type</th>\n",
       "      <th>Document ChEMBL ID</th>\n",
       "      <th>Source ID</th>\n",
       "      <th>Source Description</th>\n",
       "      <th>Document Journal</th>\n",
       "      <th>Document Year</th>\n",
       "      <th>Cell ChEMBL ID</th>\n",
       "      <th>Properties</th>\n",
       "    </tr>\n",
       "  </thead>\n",
       "  <tbody>\n",
       "    <tr>\n",
       "      <th>4</th>\n",
       "      <td>CHEMBL2181327</td>\n",
       "      <td>NaN</td>\n",
       "      <td>0</td>\n",
       "      <td>459.59</td>\n",
       "      <td>0</td>\n",
       "      <td>4.49</td>\n",
       "      <td>17h, 85:15 trans/cis mixture</td>\n",
       "      <td>CN(C)CCN(C)c1ccc2cc1COCC=CCOCc1cccc(c1)-c1ccnc...</td>\n",
       "      <td>IC50</td>\n",
       "      <td>'='</td>\n",
       "      <td>...</td>\n",
       "      <td>Tyrosine-protein kinase TYK2</td>\n",
       "      <td>Homo sapiens</td>\n",
       "      <td>SINGLE PROTEIN</td>\n",
       "      <td>CHEMBL2176955</td>\n",
       "      <td>1</td>\n",
       "      <td>Scientific Literature</td>\n",
       "      <td>J. Med. Chem.</td>\n",
       "      <td>2011.0</td>\n",
       "      <td>None</td>\n",
       "      <td>NaN</td>\n",
       "    </tr>\n",
       "    <tr>\n",
       "      <th>5</th>\n",
       "      <td>CHEMBL2181315</td>\n",
       "      <td>NaN</td>\n",
       "      <td>0</td>\n",
       "      <td>359.43</td>\n",
       "      <td>0</td>\n",
       "      <td>4.99</td>\n",
       "      <td>16a, 85:15 trans/cis mixture</td>\n",
       "      <td>C1=CCCOc2cccc(c2)-c2ccnc(n2)Nc2cccc(c2)OCC1</td>\n",
       "      <td>IC50</td>\n",
       "      <td>'='</td>\n",
       "      <td>...</td>\n",
       "      <td>Tyrosine-protein kinase TYK2</td>\n",
       "      <td>Homo sapiens</td>\n",
       "      <td>SINGLE PROTEIN</td>\n",
       "      <td>CHEMBL2176955</td>\n",
       "      <td>1</td>\n",
       "      <td>Scientific Literature</td>\n",
       "      <td>J. Med. Chem.</td>\n",
       "      <td>2011.0</td>\n",
       "      <td>None</td>\n",
       "      <td>NaN</td>\n",
       "    </tr>\n",
       "    <tr>\n",
       "      <th>25</th>\n",
       "      <td>CHEMBL21156</td>\n",
       "      <td>NaN</td>\n",
       "      <td>0</td>\n",
       "      <td>309.34</td>\n",
       "      <td>0</td>\n",
       "      <td>3.99</td>\n",
       "      <td>6</td>\n",
       "      <td>CC(C)(C)c1nc2c3ccc(F)cc3c3c(=O)[nH]ccc3c2[nH]1</td>\n",
       "      <td>IC50</td>\n",
       "      <td>'='</td>\n",
       "      <td>...</td>\n",
       "      <td>Tyrosine-protein kinase TYK2</td>\n",
       "      <td>Homo sapiens</td>\n",
       "      <td>SINGLE PROTEIN</td>\n",
       "      <td>CHEMBL1135866</td>\n",
       "      <td>1</td>\n",
       "      <td>Scientific Literature</td>\n",
       "      <td>Bioorg. Med. Chem. Lett.</td>\n",
       "      <td>2002.0</td>\n",
       "      <td>None</td>\n",
       "      <td>NaN</td>\n",
       "    </tr>\n",
       "    <tr>\n",
       "      <th>38</th>\n",
       "      <td>CHEMBL1938656</td>\n",
       "      <td>NaN</td>\n",
       "      <td>0</td>\n",
       "      <td>462.60</td>\n",
       "      <td>0</td>\n",
       "      <td>3.00</td>\n",
       "      <td>22</td>\n",
       "      <td>COCCNC(=O)c1cnc(N)c2cc(-c3ccc(S(=O)(=O)NC(C)(C...</td>\n",
       "      <td>IC50</td>\n",
       "      <td>'&gt;'</td>\n",
       "      <td>...</td>\n",
       "      <td>Tyrosine-protein kinase TYK2</td>\n",
       "      <td>Homo sapiens</td>\n",
       "      <td>SINGLE PROTEIN</td>\n",
       "      <td>CHEMBL1938231</td>\n",
       "      <td>1</td>\n",
       "      <td>Scientific Literature</td>\n",
       "      <td>J. Med. Chem.</td>\n",
       "      <td>2011.0</td>\n",
       "      <td>CHEMBL3307634</td>\n",
       "      <td>NaN</td>\n",
       "    </tr>\n",
       "    <tr>\n",
       "      <th>48</th>\n",
       "      <td>CHEMBL1938648</td>\n",
       "      <td>NaN</td>\n",
       "      <td>0</td>\n",
       "      <td>382.49</td>\n",
       "      <td>0</td>\n",
       "      <td>3.08</td>\n",
       "      <td>13</td>\n",
       "      <td>CN(C)C(=O)c1cnc(N)c2cc(-c3ccc(N4CCOCC4)cc3)sc12</td>\n",
       "      <td>IC50</td>\n",
       "      <td>'='</td>\n",
       "      <td>...</td>\n",
       "      <td>Tyrosine-protein kinase TYK2</td>\n",
       "      <td>Homo sapiens</td>\n",
       "      <td>SINGLE PROTEIN</td>\n",
       "      <td>CHEMBL1938231</td>\n",
       "      <td>1</td>\n",
       "      <td>Scientific Literature</td>\n",
       "      <td>J. Med. Chem.</td>\n",
       "      <td>2011.0</td>\n",
       "      <td>CHEMBL3308860</td>\n",
       "      <td>NaN</td>\n",
       "    </tr>\n",
       "  </tbody>\n",
       "</table>\n",
       "<p>5 rows × 45 columns</p>\n",
       "</div>"
      ],
      "text/plain": [
       "   Molecule ChEMBL ID Molecule Name  Molecule Max Phase Molecular Weight  \\\n",
       "4       CHEMBL2181327           NaN                   0           459.59   \n",
       "5       CHEMBL2181315           NaN                   0           359.43   \n",
       "25        CHEMBL21156           NaN                   0           309.34   \n",
       "38      CHEMBL1938656           NaN                   0           462.60   \n",
       "48      CHEMBL1938648           NaN                   0           382.49   \n",
       "\n",
       "   #RO5 Violations AlogP                  Compound Key  \\\n",
       "4                0  4.49  17h, 85:15 trans/cis mixture   \n",
       "5                0  4.99  16a, 85:15 trans/cis mixture   \n",
       "25               0  3.99                             6   \n",
       "38               0  3.00                            22   \n",
       "48               0  3.08                            13   \n",
       "\n",
       "                                               Smiles Standard Type  \\\n",
       "4   CN(C)CCN(C)c1ccc2cc1COCC=CCOCc1cccc(c1)-c1ccnc...          IC50   \n",
       "5         C1=CCCOc2cccc(c2)-c2ccnc(n2)Nc2cccc(c2)OCC1          IC50   \n",
       "25     CC(C)(C)c1nc2c3ccc(F)cc3c3c(=O)[nH]ccc3c2[nH]1          IC50   \n",
       "38  COCCNC(=O)c1cnc(N)c2cc(-c3ccc(S(=O)(=O)NC(C)(C...          IC50   \n",
       "48    CN(C)C(=O)c1cnc(N)c2cc(-c3ccc(N4CCOCC4)cc3)sc12          IC50   \n",
       "\n",
       "   Standard Relation  ...                   Target Name Target Organism  \\\n",
       "4                '='  ...  Tyrosine-protein kinase TYK2    Homo sapiens   \n",
       "5                '='  ...  Tyrosine-protein kinase TYK2    Homo sapiens   \n",
       "25               '='  ...  Tyrosine-protein kinase TYK2    Homo sapiens   \n",
       "38               '>'  ...  Tyrosine-protein kinase TYK2    Homo sapiens   \n",
       "48               '='  ...  Tyrosine-protein kinase TYK2    Homo sapiens   \n",
       "\n",
       "       Target Type Document ChEMBL ID Source ID     Source Description  \\\n",
       "4   SINGLE PROTEIN      CHEMBL2176955         1  Scientific Literature   \n",
       "5   SINGLE PROTEIN      CHEMBL2176955         1  Scientific Literature   \n",
       "25  SINGLE PROTEIN      CHEMBL1135866         1  Scientific Literature   \n",
       "38  SINGLE PROTEIN      CHEMBL1938231         1  Scientific Literature   \n",
       "48  SINGLE PROTEIN      CHEMBL1938231         1  Scientific Literature   \n",
       "\n",
       "            Document Journal Document Year Cell ChEMBL ID Properties  \n",
       "4              J. Med. Chem.        2011.0           None        NaN  \n",
       "5              J. Med. Chem.        2011.0           None        NaN  \n",
       "25  Bioorg. Med. Chem. Lett.        2002.0           None        NaN  \n",
       "38             J. Med. Chem.        2011.0  CHEMBL3307634        NaN  \n",
       "48             J. Med. Chem.        2011.0  CHEMBL3308860        NaN  \n",
       "\n",
       "[5 rows x 45 columns]"
      ]
     },
     "metadata": {},
     "output_type": "display_data"
    }
   ],
   "source": [
    "display(data.head())"
   ]
  },
  {
   "cell_type": "markdown",
   "metadata": {},
   "source": [
    "We then clean the dataframe up a bit and check the total amoount of compounds in the set."
   ]
  },
  {
   "cell_type": "code",
   "execution_count": 13,
   "metadata": {},
   "outputs": [
    {
     "data": {
      "text/html": [
       "<div>\n",
       "<style scoped>\n",
       "    .dataframe tbody tr th:only-of-type {\n",
       "        vertical-align: middle;\n",
       "    }\n",
       "\n",
       "    .dataframe tbody tr th {\n",
       "        vertical-align: top;\n",
       "    }\n",
       "\n",
       "    .dataframe thead th {\n",
       "        text-align: right;\n",
       "    }\n",
       "</style>\n",
       "<table border=\"1\" class=\"dataframe\">\n",
       "  <thead>\n",
       "    <tr style=\"text-align: right;\">\n",
       "      <th></th>\n",
       "      <th>Molecule ChEMBL ID</th>\n",
       "      <th>pChEMBL_value</th>\n",
       "      <th>Smiles</th>\n",
       "      <th>Assay_Type</th>\n",
       "      <th>Standard Relation</th>\n",
       "      <th>Standard Value</th>\n",
       "    </tr>\n",
       "  </thead>\n",
       "  <tbody>\n",
       "    <tr>\n",
       "      <th>0</th>\n",
       "      <td>CHEMBL2181327</td>\n",
       "      <td>7.15</td>\n",
       "      <td>CN(C)CCN(C)c1ccc2cc1COCC=CCOCc1cccc(c1)-c1ccnc...</td>\n",
       "      <td>B</td>\n",
       "      <td>'='</td>\n",
       "      <td>71.0</td>\n",
       "    </tr>\n",
       "    <tr>\n",
       "      <th>1</th>\n",
       "      <td>CHEMBL2181315</td>\n",
       "      <td>5.28</td>\n",
       "      <td>C1=CCCOc2cccc(c2)-c2ccnc(n2)Nc2cccc(c2)OCC1</td>\n",
       "      <td>B</td>\n",
       "      <td>'='</td>\n",
       "      <td>5200.0</td>\n",
       "    </tr>\n",
       "    <tr>\n",
       "      <th>2</th>\n",
       "      <td>CHEMBL21156</td>\n",
       "      <td>9.00</td>\n",
       "      <td>CC(C)(C)c1nc2c3ccc(F)cc3c3c(=O)[nH]ccc3c2[nH]1</td>\n",
       "      <td>B</td>\n",
       "      <td>'='</td>\n",
       "      <td>1.0</td>\n",
       "    </tr>\n",
       "    <tr>\n",
       "      <th>3</th>\n",
       "      <td>CHEMBL1938656</td>\n",
       "      <td>NaN</td>\n",
       "      <td>COCCNC(=O)c1cnc(N)c2cc(-c3ccc(S(=O)(=O)NC(C)(C...</td>\n",
       "      <td>B</td>\n",
       "      <td>'&gt;'</td>\n",
       "      <td>25000.0</td>\n",
       "    </tr>\n",
       "    <tr>\n",
       "      <th>4</th>\n",
       "      <td>CHEMBL1938648</td>\n",
       "      <td>5.29</td>\n",
       "      <td>CN(C)C(=O)c1cnc(N)c2cc(-c3ccc(N4CCOCC4)cc3)sc12</td>\n",
       "      <td>B</td>\n",
       "      <td>'='</td>\n",
       "      <td>5150.0</td>\n",
       "    </tr>\n",
       "  </tbody>\n",
       "</table>\n",
       "</div>"
      ],
      "text/plain": [
       "  Molecule ChEMBL ID  pChEMBL_value  \\\n",
       "0      CHEMBL2181327           7.15   \n",
       "1      CHEMBL2181315           5.28   \n",
       "2        CHEMBL21156           9.00   \n",
       "3      CHEMBL1938656            NaN   \n",
       "4      CHEMBL1938648           5.29   \n",
       "\n",
       "                                              Smiles Assay_Type  \\\n",
       "0  CN(C)CCN(C)c1ccc2cc1COCC=CCOCc1cccc(c1)-c1ccnc...          B   \n",
       "1        C1=CCCOc2cccc(c2)-c2ccnc(n2)Nc2cccc(c2)OCC1          B   \n",
       "2     CC(C)(C)c1nc2c3ccc(F)cc3c3c(=O)[nH]ccc3c2[nH]1          B   \n",
       "3  COCCNC(=O)c1cnc(N)c2cc(-c3ccc(S(=O)(=O)NC(C)(C...          B   \n",
       "4    CN(C)C(=O)c1cnc(N)c2cc(-c3ccc(N4CCOCC4)cc3)sc12          B   \n",
       "\n",
       "  Standard Relation  Standard Value  \n",
       "0               '='            71.0  \n",
       "1               '='          5200.0  \n",
       "2               '='             1.0  \n",
       "3               '>'         25000.0  \n",
       "4               '='          5150.0  "
      ]
     },
     "metadata": {},
     "output_type": "display_data"
    },
    {
     "name": "stdout",
     "output_type": "stream",
     "text": [
      "There are a total of 1920 datapoints in this set\n"
     ]
    }
   ],
   "source": [
    "pd_data = data[['Molecule ChEMBL ID','pChEMBL Value','Smiles','Assay Type', 'Standard Relation','Standard Value']]\n",
    "pd_data.rename(columns={'pChEMBL Value': 'pChEMBL_value', 'Assay Type':'Assay_Type'}, inplace=True)\n",
    "pd_data = pd_data.reset_index(drop=True)\n",
    "display(pd_data.head())\n",
    "print(\"There are a total of {} datapoints in this set\".format(len(pd_data)))"
   ]
  },
  {
   "cell_type": "markdown",
   "metadata": {},
   "source": [
    "We now determine how many active and inactive compounds are in the dataset based on the pChEMBL cutoff value of 6.5, with higher values meaning active compounds."
   ]
  },
  {
   "cell_type": "code",
   "execution_count": 14,
   "metadata": {},
   "outputs": [
    {
     "name": "stdout",
     "output_type": "stream",
     "text": [
      "Number of active compounds: 914\n",
      "Number of inactive compounds: 1006\n"
     ]
    }
   ],
   "source": [
    "# Add column for activity\n",
    "pd_data[\"active\"] = np.zeros(len(pd_data))\n",
    "\n",
    "# Mark every molecule as active with an pCHEMBL of >= 6.5, 0 otherwise\n",
    "pd_data.loc[pd_data[pd_data.pChEMBL_value >= 6.5].index, \"active\"] = 1.0\n",
    "\n",
    "# NBVAL_CHECK_OUTPUT\n",
    "print(\"Number of active compounds:\", int(pd_data.active.sum()))\n",
    "print(\"Number of inactive compounds:\", len(pd_data) - int(pd_data.active.sum()))"
   ]
  },
  {
   "cell_type": "markdown",
   "metadata": {},
   "source": [
    "We now filter out ADME and functional assays out of the dataset since we only need Binding assays for our current purposes."
   ]
  },
  {
   "cell_type": "code",
   "execution_count": 15,
   "metadata": {},
   "outputs": [
    {
     "name": "stdout",
     "output_type": "stream",
     "text": [
      "We have a total of 1880 activity points left\n"
     ]
    }
   ],
   "source": [
    "pd_data.drop(pd_data[pd_data.Assay_Type != 'B'].index, inplace=True)\n",
    "\n",
    "print(\"We have a total of {} activity points left\".format(len(pd_data)))"
   ]
  },
  {
   "cell_type": "markdown",
   "metadata": {},
   "source": [
    "#### Molecule encoding"
   ]
  },
  {
   "cell_type": "code",
   "execution_count": 16,
   "metadata": {},
   "outputs": [],
   "source": [
    "compound_df = pd_data.copy()"
   ]
  },
  {
   "cell_type": "markdown",
   "metadata": {},
   "source": [
    "Create a fingerprint column in the dataset and filter out any missing values if there are any."
   ]
  },
  {
   "cell_type": "code",
   "execution_count": 17,
   "metadata": {},
   "outputs": [
    {
     "data": {
      "text/html": [
       "<div>\n",
       "<style scoped>\n",
       "    .dataframe tbody tr th:only-of-type {\n",
       "        vertical-align: middle;\n",
       "    }\n",
       "\n",
       "    .dataframe tbody tr th {\n",
       "        vertical-align: top;\n",
       "    }\n",
       "\n",
       "    .dataframe thead th {\n",
       "        text-align: right;\n",
       "    }\n",
       "</style>\n",
       "<table border=\"1\" class=\"dataframe\">\n",
       "  <thead>\n",
       "    <tr style=\"text-align: right;\">\n",
       "      <th></th>\n",
       "      <th>Molecule ChEMBL ID</th>\n",
       "      <th>pChEMBL_value</th>\n",
       "      <th>Smiles</th>\n",
       "      <th>Assay_Type</th>\n",
       "      <th>Standard Relation</th>\n",
       "      <th>Standard Value</th>\n",
       "      <th>active</th>\n",
       "      <th>fp</th>\n",
       "    </tr>\n",
       "  </thead>\n",
       "  <tbody>\n",
       "    <tr>\n",
       "      <th>0</th>\n",
       "      <td>CHEMBL2181327</td>\n",
       "      <td>7.15</td>\n",
       "      <td>CN(C)CCN(C)c1ccc2cc1COCC=CCOCc1cccc(c1)-c1ccnc...</td>\n",
       "      <td>B</td>\n",
       "      <td>'='</td>\n",
       "      <td>71.0</td>\n",
       "      <td>1.0</td>\n",
       "      <td>[0, 0, 0, 0, 0, 0, 0, 0, 0, 0, 0, 0, 0, 0, 0, ...</td>\n",
       "    </tr>\n",
       "    <tr>\n",
       "      <th>1</th>\n",
       "      <td>CHEMBL2181315</td>\n",
       "      <td>5.28</td>\n",
       "      <td>C1=CCCOc2cccc(c2)-c2ccnc(n2)Nc2cccc(c2)OCC1</td>\n",
       "      <td>B</td>\n",
       "      <td>'='</td>\n",
       "      <td>5200.0</td>\n",
       "      <td>0.0</td>\n",
       "      <td>[0, 0, 0, 0, 0, 0, 0, 0, 0, 0, 0, 0, 0, 0, 0, ...</td>\n",
       "    </tr>\n",
       "    <tr>\n",
       "      <th>2</th>\n",
       "      <td>CHEMBL21156</td>\n",
       "      <td>9.00</td>\n",
       "      <td>CC(C)(C)c1nc2c3ccc(F)cc3c3c(=O)[nH]ccc3c2[nH]1</td>\n",
       "      <td>B</td>\n",
       "      <td>'='</td>\n",
       "      <td>1.0</td>\n",
       "      <td>1.0</td>\n",
       "      <td>[0, 0, 0, 0, 0, 0, 0, 0, 0, 0, 0, 0, 0, 0, 0, ...</td>\n",
       "    </tr>\n",
       "  </tbody>\n",
       "</table>\n",
       "</div>"
      ],
      "text/plain": [
       "  Molecule ChEMBL ID  pChEMBL_value  \\\n",
       "0      CHEMBL2181327           7.15   \n",
       "1      CHEMBL2181315           5.28   \n",
       "2        CHEMBL21156           9.00   \n",
       "\n",
       "                                              Smiles Assay_Type  \\\n",
       "0  CN(C)CCN(C)c1ccc2cc1COCC=CCOCc1cccc(c1)-c1ccnc...          B   \n",
       "1        C1=CCCOc2cccc(c2)-c2ccnc(n2)Nc2cccc(c2)OCC1          B   \n",
       "2     CC(C)(C)c1nc2c3ccc(F)cc3c3c(=O)[nH]ccc3c2[nH]1          B   \n",
       "\n",
       "  Standard Relation  Standard Value  active  \\\n",
       "0               '='            71.0     1.0   \n",
       "1               '='          5200.0     0.0   \n",
       "2               '='             1.0     1.0   \n",
       "\n",
       "                                                  fp  \n",
       "0  [0, 0, 0, 0, 0, 0, 0, 0, 0, 0, 0, 0, 0, 0, 0, ...  \n",
       "1  [0, 0, 0, 0, 0, 0, 0, 0, 0, 0, 0, 0, 0, 0, 0, ...  \n",
       "2  [0, 0, 0, 0, 0, 0, 0, 0, 0, 0, 0, 0, 0, 0, 0, ...  "
      ]
     },
     "execution_count": 17,
     "metadata": {},
     "output_type": "execute_result"
    }
   ],
   "source": [
    "# Add column for fingerprint\n",
    "compound_df[\"fp\"] = compound_df[\"Smiles\"].apply(smiles_to_fp)\n",
    "compound_df.drop(compound_df[compound_df.fp == 'NaN'].index, inplace=True)\n",
    "compound_df.head(3)\n",
    "# NBVAL_CHECK_OUTPUT"
   ]
  },
  {
   "cell_type": "markdown",
   "metadata": {},
   "source": [
    "### Machine Learning (ML)\n"
   ]
  },
  {
   "cell_type": "markdown",
   "metadata": {},
   "source": [
    "**Preprocessing**: Split the data (will be reused for the other models)"
   ]
  },
  {
   "cell_type": "code",
   "execution_count": 18,
   "metadata": {},
   "outputs": [
    {
     "name": "stdout",
     "output_type": "stream",
     "text": [
      "Training data size: 1504\n",
      "Test data size: 376\n"
     ]
    }
   ],
   "source": [
    "fingerprint_to_model = compound_df.fp.tolist()\n",
    "label_to_model = compound_df.active.tolist()\n",
    "\n",
    "# Split data randomly in train and test set\n",
    "# note that we use test/train_x for the respective fingerprint splits\n",
    "# and test/train_y for the respective label splits\n",
    "(\n",
    "    static_train_x,\n",
    "    static_test_x,\n",
    "    static_train_y,\n",
    "    static_test_y,\n",
    ") = train_test_split(fingerprint_to_model, label_to_model, test_size=0.2, random_state=12)\n",
    "splits = [static_train_x, static_test_x, static_train_y, static_test_y]\n",
    "# NBVAL_CHECK_OUTPUT\n",
    "print(\"Training data size:\", len(static_train_x))\n",
    "print(\"Test data size:\", len(static_test_x))"
   ]
  },
  {
   "cell_type": "markdown",
   "metadata": {},
   "source": [
    "#### Random forest classifier\n",
    "\n",
    "We start with a random forest classifier, where we first set the parameters."
   ]
  },
  {
   "cell_type": "markdown",
   "metadata": {},
   "source": [
    "We train the model on a random train-test split and plot the results."
   ]
  },
  {
   "cell_type": "code",
   "execution_count": 19,
   "metadata": {},
   "outputs": [],
   "source": [
    "# Set model parameter for random forest\n",
    "param = {\n",
    "    \"n_estimators\": 100,  # number of trees to grows\n",
    "    \"criterion\": \"entropy\",  # cost function to be optimized for a split\n",
    "}\n",
    "model_RF = RandomForestClassifier(**param)"
   ]
  },
  {
   "cell_type": "code",
   "execution_count": 20,
   "metadata": {},
   "outputs": [
    {
     "name": "stdout",
     "output_type": "stream",
     "text": [
      "Sensitivity: 0.77\n",
      "Specificity: 0.74\n",
      "AUC: 0.83\n"
     ]
    }
   ],
   "source": [
    "# Fit model on single split\n",
    "performance_measures = model_training_and_validation(model_RF, \"RF\", splits)"
   ]
  },
  {
   "cell_type": "code",
   "execution_count": 21,
   "metadata": {},
   "outputs": [
    {
     "name": "stdout",
     "output_type": "stream",
     "text": [
      "Directory already exists, continuing\n"
     ]
    },
    {
     "data": {
      "text/plain": [
       "'/home/jovyan/ACMDD_Tyk2_2022/Report_data/results/roc_auc.png'"
      ]
     },
     "execution_count": 21,
     "metadata": {},
     "output_type": "execute_result"
    },
    {
     "data": {
      "image/png": "[encoded data removed]",
      "text/plain": [
       "<Figure size 432x288 with 1 Axes>"
      ]
     },
     "metadata": {
      "needs_background": "light"
     },
     "output_type": "display_data"
    }
   ],
   "source": [
    "# Initialize the list that stores all models. First one is RF.\n",
    "models = [{\"label\": \"Model_RF\", \"model\": model_RF}]\n",
    "try:\n",
    "    os.mkdir('results')\n",
    "except:\n",
    "    print(\"Directory already exists, continuing\")\n",
    "# Plot roc curve\n",
    "plot_roc_curves_for_models(models, static_test_x, static_test_y)\n",
    "result_img = '{}/results/roc_auc.png'.format(os.getcwd())\n",
    "result_img"
   ]
  },
  {
   "cell_type": "markdown",
   "metadata": {},
   "source": [
    "#### Support vector classifier\n",
    "Here we train a SVM with a radial-basis function kernel (also: squared-exponential kernel). \n",
    "For more information, see [sklearn RBF kernel](http://scikit-learn.org/stable/modules/generated/sklearn.gaussian_process.kernels.RBF.html)."
   ]
  },
  {
   "cell_type": "code",
   "execution_count": 22,
   "metadata": {
    "scrolled": true
   },
   "outputs": [
    {
     "name": "stdout",
     "output_type": "stream",
     "text": [
      "Sensitivity: 0.79\n",
      "Specificity: 0.77\n",
      "AUC: 0.84\n"
     ]
    }
   ],
   "source": [
    "# Specify model\n",
    "model_SVM = svm.SVC(kernel=\"rbf\", C=1, gamma=0.1, probability=True)\n",
    "\n",
    "# Fit model on single split\n",
    "performance_measures = model_training_and_validation(model_SVM, \"SVM\", splits)"
   ]
  },
  {
   "cell_type": "code",
   "execution_count": 23,
   "metadata": {
    "tags": [
     "nbsphinx-thumbnail"
    ]
   },
   "outputs": [
    {
     "data": {
      "text/plain": [
       "'/home/jovyan/ACMDD_Tyk2_2022/Report_data/results/roc_auc.png'"
      ]
     },
     "execution_count": 23,
     "metadata": {},
     "output_type": "execute_result"
    },
    {
     "data": {
      "image/png": "[encoded data removed]",
      "text/plain": [
       "<Figure size 432x288 with 1 Axes>"
      ]
     },
     "metadata": {
      "needs_background": "light"
     },
     "output_type": "display_data"
    }
   ],
   "source": [
    "# Append SVM model\n",
    "models.append({\"label\": \"Model_SVM\", \"model\": model_SVM})\n",
    "# Plot roc curve\n",
    "plot_roc_curves_for_models(models, static_test_x, static_test_y)\n",
    "result_img = '{}/results/roc_auc.png'.format(os.getcwd())\n",
    "result_img"
   ]
  },
  {
   "cell_type": "markdown",
   "metadata": {},
   "source": [
    "#### Neural network classifier\n",
    "The last approach we try here is a neural network model. We train an MLPClassifier (Multi-layer Perceptron classifier) with 3 layers, each with 5 neurons. As before, we do the crossvalidation procedure and plot the results. For more information on MLP, see [sklearn MLPClassifier](http://scikit-learn.org/stable/modules/generated/sklearn.neural_network.MLPClassifier.html)."
   ]
  },
  {
   "cell_type": "code",
   "execution_count": 24,
   "metadata": {
    "scrolled": true
   },
   "outputs": [
    {
     "name": "stdout",
     "output_type": "stream",
     "text": [
      "Sensitivity: 0.76\n",
      "Specificity: 0.69\n",
      "AUC: 0.81\n"
     ]
    }
   ],
   "source": [
    "# Specify model\n",
    "model_ANN = MLPClassifier(hidden_layer_sizes=(5, 3), random_state=12)\n",
    "\n",
    "# Fit model on single split\n",
    "performance_measures = model_training_and_validation(model_ANN, \"ANN\", splits)"
   ]
  },
  {
   "cell_type": "code",
   "execution_count": 25,
   "metadata": {},
   "outputs": [
    {
     "data": {
      "text/plain": [
       "'/home/jovyan/ACMDD_Tyk2_2022/Report_data/results/roc_auc.png'"
      ]
     },
     "execution_count": 25,
     "metadata": {},
     "output_type": "execute_result"
    },
    {
     "data": {
      "image/png": "[encoded data removed]",
      "text/plain": [
       "<Figure size 432x288 with 1 Axes>"
      ]
     },
     "metadata": {
      "needs_background": "light"
     },
     "output_type": "display_data"
    }
   ],
   "source": [
    "# Append ANN model\n",
    "models.append({\"label\": \"Model_ANN\", \"model\": model_ANN})\n",
    "# Plot roc curve\n",
    "plot_roc_curves_for_models(models, static_test_x, static_test_y, True)\n",
    "result_img = '{}/results/roc_auc.png'.format(os.getcwd())\n",
    "result_img"
   ]
  },
  {
   "cell_type": "markdown",
   "metadata": {},
   "source": [
    "Our models show very good values for all measured values (see AUCs) and thus seem to be predictive."
   ]
  },
  {
   "cell_type": "markdown",
   "metadata": {},
   "source": [
    "#### Cross-validation\n",
    "\n",
    "Next, we will perform cross-validation experiments with the three different models.\n",
    "Therefore, we define a helper function for machine learning model training and validation in a cross-validation loop."
   ]
  },
  {
   "cell_type": "markdown",
   "metadata": {},
   "source": [
    "**Cross-validation**\n",
    "\n",
    "We now apply cross-validation and show the statistics for all three ML models. In real world conditions, cross-validation usually applies 5 or more folds, but for the sake of performance we will reduce it to 3. You can change the value of `N_FOLDS` in this cell below."
   ]
  },
  {
   "cell_type": "code",
   "execution_count": 26,
   "metadata": {},
   "outputs": [],
   "source": [
    "N_FOLDS = 3"
   ]
  },
  {
   "cell_type": "markdown",
   "metadata": {},
   "source": [
    "_Note_: Next cell takes long to execute"
   ]
  },
  {
   "cell_type": "code",
   "execution_count": 27,
   "metadata": {},
   "outputs": [
    {
     "name": "stdout",
     "output_type": "stream",
     "text": [
      "\n",
      "======= \n",
      "Model_RF\n",
      "Mean accuracy: 0.78 \tand std : 0.00 \n",
      "Mean sensitivity: 0.79 \tand std : 0.01 \n",
      "Mean specificity: 0.77 \tand std : 0.01 \n",
      "Mean AUC: 0.84 \tand std : 0.01 \n",
      "Time taken : 1.21s\n",
      "\n",
      "\n",
      "======= \n",
      "Model_SVM\n",
      "Mean accuracy: 0.79 \tand std : 0.01 \n",
      "Mean sensitivity: 0.78 \tand std : 0.03 \n",
      "Mean specificity: 0.79 \tand std : 0.01 \n",
      "Mean AUC: 0.85 \tand std : 0.01 \n",
      "Time taken : 4.07s\n",
      "\n",
      "\n",
      "======= \n",
      "Model_ANN\n",
      "Mean accuracy: 0.74 \tand std : 0.00 \n",
      "Mean sensitivity: 0.75 \tand std : 0.02 \n",
      "Mean specificity: 0.74 \tand std : 0.01 \n",
      "Mean AUC: 0.82 \tand std : 0.01 \n",
      "Time taken : 3.61s\n",
      "\n"
     ]
    }
   ],
   "source": [
    "for model in models:\n",
    "    print(\"\\n======= \")\n",
    "    print(f\"{model['label']}\")\n",
    "    crossvalidation(model[\"model\"], compound_df, n_folds=N_FOLDS)"
   ]
  },
  {
   "cell_type": "markdown",
   "metadata": {},
   "source": [
    "We look at the cross-validation performance for molecules encoded using Morgan fingerprint and not MACCS keys."
   ]
  },
  {
   "cell_type": "code",
   "execution_count": 28,
   "metadata": {},
   "outputs": [],
   "source": [
    "# Reset data frame\n",
    "compound_df = compound_df.drop(['fp'], axis=1)"
   ]
  },
  {
   "cell_type": "code",
   "execution_count": 29,
   "metadata": {},
   "outputs": [
    {
     "data": {
      "text/html": [
       "<div>\n",
       "<style scoped>\n",
       "    .dataframe tbody tr th:only-of-type {\n",
       "        vertical-align: middle;\n",
       "    }\n",
       "\n",
       "    .dataframe tbody tr th {\n",
       "        vertical-align: top;\n",
       "    }\n",
       "\n",
       "    .dataframe thead th {\n",
       "        text-align: right;\n",
       "    }\n",
       "</style>\n",
       "<table border=\"1\" class=\"dataframe\">\n",
       "  <thead>\n",
       "    <tr style=\"text-align: right;\">\n",
       "      <th></th>\n",
       "      <th>Molecule ChEMBL ID</th>\n",
       "      <th>pChEMBL_value</th>\n",
       "      <th>Smiles</th>\n",
       "      <th>Assay_Type</th>\n",
       "      <th>Standard Relation</th>\n",
       "      <th>Standard Value</th>\n",
       "      <th>active</th>\n",
       "      <th>fp</th>\n",
       "    </tr>\n",
       "  </thead>\n",
       "  <tbody>\n",
       "    <tr>\n",
       "      <th>0</th>\n",
       "      <td>CHEMBL2181327</td>\n",
       "      <td>7.15</td>\n",
       "      <td>CN(C)CCN(C)c1ccc2cc1COCC=CCOCc1cccc(c1)-c1ccnc...</td>\n",
       "      <td>B</td>\n",
       "      <td>'='</td>\n",
       "      <td>71.0</td>\n",
       "      <td>1.0</td>\n",
       "      <td>[0, 0, 0, 0, 0, 0, 0, 0, 0, 0, 0, 0, 1, 0, 0, ...</td>\n",
       "    </tr>\n",
       "    <tr>\n",
       "      <th>1</th>\n",
       "      <td>CHEMBL2181315</td>\n",
       "      <td>5.28</td>\n",
       "      <td>C1=CCCOc2cccc(c2)-c2ccnc(n2)Nc2cccc(c2)OCC1</td>\n",
       "      <td>B</td>\n",
       "      <td>'='</td>\n",
       "      <td>5200.0</td>\n",
       "      <td>0.0</td>\n",
       "      <td>[0, 0, 0, 0, 0, 0, 0, 0, 0, 0, 0, 0, 1, 0, 0, ...</td>\n",
       "    </tr>\n",
       "    <tr>\n",
       "      <th>2</th>\n",
       "      <td>CHEMBL21156</td>\n",
       "      <td>9.00</td>\n",
       "      <td>CC(C)(C)c1nc2c3ccc(F)cc3c3c(=O)[nH]ccc3c2[nH]1</td>\n",
       "      <td>B</td>\n",
       "      <td>'='</td>\n",
       "      <td>1.0</td>\n",
       "      <td>1.0</td>\n",
       "      <td>[0, 0, 0, 0, 0, 0, 0, 0, 0, 0, 0, 0, 0, 0, 0, ...</td>\n",
       "    </tr>\n",
       "  </tbody>\n",
       "</table>\n",
       "</div>"
      ],
      "text/plain": [
       "  Molecule ChEMBL ID  pChEMBL_value  \\\n",
       "0      CHEMBL2181327           7.15   \n",
       "1      CHEMBL2181315           5.28   \n",
       "2        CHEMBL21156           9.00   \n",
       "\n",
       "                                              Smiles Assay_Type  \\\n",
       "0  CN(C)CCN(C)c1ccc2cc1COCC=CCOCc1cccc(c1)-c1ccnc...          B   \n",
       "1        C1=CCCOc2cccc(c2)-c2ccnc(n2)Nc2cccc(c2)OCC1          B   \n",
       "2     CC(C)(C)c1nc2c3ccc(F)cc3c3c(=O)[nH]ccc3c2[nH]1          B   \n",
       "\n",
       "  Standard Relation  Standard Value  active  \\\n",
       "0               '='            71.0     1.0   \n",
       "1               '='          5200.0     0.0   \n",
       "2               '='             1.0     1.0   \n",
       "\n",
       "                                                  fp  \n",
       "0  [0, 0, 0, 0, 0, 0, 0, 0, 0, 0, 0, 0, 1, 0, 0, ...  \n",
       "1  [0, 0, 0, 0, 0, 0, 0, 0, 0, 0, 0, 0, 1, 0, 0, ...  \n",
       "2  [0, 0, 0, 0, 0, 0, 0, 0, 0, 0, 0, 0, 0, 0, 0, ...  "
      ]
     },
     "execution_count": 29,
     "metadata": {},
     "output_type": "execute_result"
    }
   ],
   "source": [
    "# Use Morgan fingerprint with radius 3\n",
    "compound_df[\"fp\"] = compound_df[\"Smiles\"].apply(smiles_to_fp, args=(\"morgan3\",))\n",
    "compound_df.head(3)\n",
    "# NBVAL_CHECK_OUTPUT"
   ]
  },
  {
   "cell_type": "markdown",
   "metadata": {},
   "source": [
    "_Note_: Next cell takes long to execute"
   ]
  },
  {
   "cell_type": "code",
   "execution_count": 30,
   "metadata": {
    "scrolled": true
   },
   "outputs": [
    {
     "name": "stdout",
     "output_type": "stream",
     "text": [
      "\n",
      "=======\n",
      "Model_RF\n",
      "Mean accuracy: 0.78 \tand std : 0.01 \n",
      "Mean sensitivity: 0.79 \tand std : 0.02 \n",
      "Mean specificity: 0.78 \tand std : 0.01 \n",
      "Mean AUC: 0.86 \tand std : 0.01 \n",
      "Time taken : 3.47s\n",
      "\n",
      "\n",
      "=======\n",
      "Model_ANN\n",
      "Mean accuracy: 0.76 \tand std : 0.01 \n",
      "Mean sensitivity: 0.76 \tand std : 0.04 \n",
      "Mean specificity: 0.76 \tand std : 0.03 \n",
      "Mean AUC: 0.85 \tand std : 0.01 \n",
      "Time taken : 54.69s\n",
      "\n"
     ]
    }
   ],
   "source": [
    "for model in models:\n",
    "    if model[\"label\"] == \"Model_SVM\":\n",
    "        # SVM is super slow with long fingerprints\n",
    "        # and will have a performance similar to RF\n",
    "        # We can skip it in this test, but if you want\n",
    "        # to run it, feel free to replace `continue` with `pass`\n",
    "        continue\n",
    "    print(\"\\n=======\")\n",
    "    print(model[\"label\"])\n",
    "    reduced_df = compound_df[['active','fp']]\n",
    "    crossvalidation(model[\"model\"], reduced_df, n_folds=N_FOLDS)"
   ]
  },
  {
   "cell_type": "markdown",
   "metadata": {},
   "source": [
    "So far, we have been running classification models (is the compound going to be active or not, indicated by the active column we added in the dataframe). The next step is to see if we can also train a regression model. We will remove the censored data (the ones with no pChEMBL value), and train another model. \n",
    "\n",
    "Make a new function that works with regression:\n",
    "\n",
    "Next, make new data and run."
   ]
  },
  {
   "cell_type": "code",
   "execution_count": 31,
   "metadata": {},
   "outputs": [
    {
     "name": "stdout",
     "output_type": "stream",
     "text": [
      "Training data size: 1504\n",
      "Test data size: 376\n"
     ]
    }
   ],
   "source": [
    "fingerprint_to_model = compound_df.fp.tolist()\n",
    "label_to_model = compound_df.pChEMBL_value.tolist()\n",
    "\n",
    "# Split data randomly in train and test set\n",
    "# note that we use test/train_x for the respective fingerprint splits\n",
    "# and test/train_y for the respective label splits\n",
    "(\n",
    "    static_train_x,\n",
    "    static_test_x,\n",
    "    static_train_y,\n",
    "    static_test_y,\n",
    ") = train_test_split(fingerprint_to_model, label_to_model, test_size=0.2, random_state=12)\n",
    "splits = [static_train_x, static_test_x, static_train_y, static_test_y]\n",
    "# NBVAL_CHECK_OUTPUT\n",
    "print(\"Training data size:\", len(static_train_x))\n",
    "print(\"Test data size:\", len(static_test_x))"
   ]
  },
  {
   "cell_type": "markdown",
   "metadata": {},
   "source": [
    "### Regressor comparison\n",
    "Random forest regressor"
   ]
  },
  {
   "cell_type": "code",
   "execution_count": 32,
   "metadata": {
    "scrolled": true
   },
   "outputs": [
    {
     "name": "stdout",
     "output_type": "stream",
     "text": [
      "MAE: 0.55 \tand std : 0.01 \n",
      "RMSE: 0.77 \tand std : 0.00 \n",
      "\n"
     ]
    }
   ],
   "source": [
    "# Kick out NaN in the pChEMBL values\n",
    "compound_df_noNaN = compound_df.dropna()\n",
    "\n",
    "# Append RF Regressor model\n",
    "#models.append({\"label\": \"Model_RF_reg\", \"model\": RandomForestRegressor})\n",
    "#Train model with RandomForestRegressor\n",
    "regressor = RandomForestRegressor()\n",
    "MAE, RMSE,trained_model = crossvalidation_reg(regressor , compound_df_noNaN, n_folds=3)\n",
    "\n",
    "print(\n",
    "f\"MAE: {np.mean(MAE):.2f} \\t\"\n",
    "f\"and std : {np.std(MAE):.2f} \\n\"\n",
    "f\"RMSE: {np.mean(RMSE):.2f} \\t\"\n",
    "f\"and std : {np.std(RMSE):.2f} \\n\"\n",
    ")"
   ]
  },
  {
   "cell_type": "markdown",
   "metadata": {},
   "source": [
    "Support vector regressor"
   ]
  },
  {
   "cell_type": "code",
   "execution_count": 33,
   "metadata": {},
   "outputs": [
    {
     "name": "stdout",
     "output_type": "stream",
     "text": [
      "MAE: 0.52 \tand std : 0.01 \n",
      "RMSE: 0.72 \tand std : 0.01 \n",
      "\n"
     ]
    }
   ],
   "source": [
    "from sklearn import svm\n",
    "regressor = svm.SVR()\n",
    "\n",
    "svrMAE, svrRMSE,svrtrained_model = crossvalidation_reg(regressor , compound_df_noNaN, n_folds=3)\n",
    "\n",
    "print(\n",
    "f\"MAE: {np.mean(svrMAE):.2f} \\t\"\n",
    "f\"and std : {np.std(svrMAE):.2f} \\n\"\n",
    "f\"RMSE: {np.mean(svrRMSE):.2f} \\t\"\n",
    "f\"and std : {np.std(svrRMSE):.2f} \\n\"\n",
    ")"
   ]
  },
  {
   "cell_type": "markdown",
   "metadata": {},
   "source": [
    "Multi layer perceptron regressor"
   ]
  },
  {
   "cell_type": "code",
   "execution_count": 34,
   "metadata": {},
   "outputs": [
    {
     "name": "stdout",
     "output_type": "stream",
     "text": [
      "MAE: 0.71 \tand std : 0.02 \n",
      "RMSE: 0.96 \tand std : 0.03 \n",
      "\n"
     ]
    }
   ],
   "source": [
    "from sklearn.neural_network import MLPRegressor\n",
    "regressor = MLPRegressor()\n",
    "nnMAE, nnRMSE,nntrained_model = crossvalidation_reg(regressor , compound_df_noNaN, n_folds=3)\n",
    "\n",
    "print(\n",
    "f\"MAE: {np.mean(nnMAE):.2f} \\t\"\n",
    "f\"and std : {np.std(nnMAE):.2f} \\n\"\n",
    "f\"RMSE: {np.mean(nnRMSE):.2f} \\t\"\n",
    "f\"and std : {np.std(nnRMSE):.2f} \\n\"\n",
    ")"
   ]
  },
  {
   "cell_type": "markdown",
   "metadata": {},
   "source": [
    "### Gathering compounds to screen with the regression model"
   ]
  },
  {
   "cell_type": "markdown",
   "metadata": {},
   "source": [
    "To obtain a dataset of compounds to screen with the regression model, a few ligands were queried on pubchem. These so called query ligands were chosen to be representative for good TYK2 ligands. Among these are the reference ligand, two compounds with the highest pChEMBL values, and six compounds that are already on the market. These compounds were used to query a similarity search on pubchem with the following settings: <br>\n",
    "- Similarity >= 90%\n",
    "- XLogP <= 5\n",
    "- Exact Mass <= 1000 <br>"
   ]
  },
  {
   "cell_type": "code",
   "execution_count": 36,
   "metadata": {},
   "outputs": [
    {
     "name": "stdout",
     "output_type": "stream",
     "text": [
      "\n",
      "\n",
      "\n",
      "Currently querying smiles: C1CC1C(=O)NC2=NC=CC(=C2)NC(=O)C3=C(C=CC=C3Cl)Cl.\n",
      "\n"
     ]
    },
    {
     "ename": "ConnectionError",
     "evalue": "HTTPSConnectionPool(host='pubchem.ncbi.nlm.nih.gov', port=443): Max retries exceeded with url: /rest/pug/compound/similarity/smiles/C1CC1C%28%3DO%29NC2%3DNC%3DCC%28%3DC2%29NC%28%3DO%29C3%3DC%28C%3DCC%3DC3Cl%29Cl/JSON?Threshold=90&MaxRecords=10000&fullsearch=true&mw_lte=1000&xlogp_lte=5 (Caused by NewConnectionError('<urllib3.connection.HTTPSConnection object at 0x7f0d09ef9b20>: Failed to establish a new connection: [Errno -3] Temporary failure in name resolution'))",
     "output_type": "error",
     "traceback": [
      "\u001b[0;31m---------------------------------------------------------------------------\u001b[0m",
      "\u001b[0;31mgaierror\u001b[0m                                  Traceback (most recent call last)",
      "File \u001b[0;32m/opt/conda/lib/python3.9/site-packages/urllib3/connection.py:174\u001b[0m, in \u001b[0;36mHTTPConnection._new_conn\u001b[0;34m(self)\u001b[0m\n\u001b[1;32m    173\u001b[0m \u001b[38;5;28;01mtry\u001b[39;00m:\n\u001b[0;32m--> 174\u001b[0m     conn \u001b[38;5;241m=\u001b[39m \u001b[43mconnection\u001b[49m\u001b[38;5;241;43m.\u001b[39;49m\u001b[43mcreate_connection\u001b[49m\u001b[43m(\u001b[49m\n\u001b[1;32m    175\u001b[0m \u001b[43m        \u001b[49m\u001b[43m(\u001b[49m\u001b[38;5;28;43mself\u001b[39;49m\u001b[38;5;241;43m.\u001b[39;49m\u001b[43m_dns_host\u001b[49m\u001b[43m,\u001b[49m\u001b[43m \u001b[49m\u001b[38;5;28;43mself\u001b[39;49m\u001b[38;5;241;43m.\u001b[39;49m\u001b[43mport\u001b[49m\u001b[43m)\u001b[49m\u001b[43m,\u001b[49m\u001b[43m \u001b[49m\u001b[38;5;28;43mself\u001b[39;49m\u001b[38;5;241;43m.\u001b[39;49m\u001b[43mtimeout\u001b[49m\u001b[43m,\u001b[49m\u001b[43m \u001b[49m\u001b[38;5;241;43m*\u001b[39;49m\u001b[38;5;241;43m*\u001b[39;49m\u001b[43mextra_kw\u001b[49m\n\u001b[1;32m    176\u001b[0m \u001b[43m    \u001b[49m\u001b[43m)\u001b[49m\n\u001b[1;32m    178\u001b[0m \u001b[38;5;28;01mexcept\u001b[39;00m SocketTimeout:\n",
      "File \u001b[0;32m/opt/conda/lib/python3.9/site-packages/urllib3/util/connection.py:72\u001b[0m, in \u001b[0;36mcreate_connection\u001b[0;34m(address, timeout, source_address, socket_options)\u001b[0m\n\u001b[1;32m     68\u001b[0m     \u001b[38;5;28;01mreturn\u001b[39;00m six\u001b[38;5;241m.\u001b[39mraise_from(\n\u001b[1;32m     69\u001b[0m         LocationParseError(\u001b[38;5;124mu\u001b[39m\u001b[38;5;124m\"\u001b[39m\u001b[38;5;124m'\u001b[39m\u001b[38;5;132;01m%s\u001b[39;00m\u001b[38;5;124m'\u001b[39m\u001b[38;5;124m, label empty or too long\u001b[39m\u001b[38;5;124m\"\u001b[39m \u001b[38;5;241m%\u001b[39m host), \u001b[38;5;28;01mNone\u001b[39;00m\n\u001b[1;32m     70\u001b[0m     )\n\u001b[0;32m---> 72\u001b[0m \u001b[38;5;28;01mfor\u001b[39;00m res \u001b[38;5;129;01min\u001b[39;00m \u001b[43msocket\u001b[49m\u001b[38;5;241;43m.\u001b[39;49m\u001b[43mgetaddrinfo\u001b[49m\u001b[43m(\u001b[49m\u001b[43mhost\u001b[49m\u001b[43m,\u001b[49m\u001b[43m \u001b[49m\u001b[43mport\u001b[49m\u001b[43m,\u001b[49m\u001b[43m \u001b[49m\u001b[43mfamily\u001b[49m\u001b[43m,\u001b[49m\u001b[43m \u001b[49m\u001b[43msocket\u001b[49m\u001b[38;5;241;43m.\u001b[39;49m\u001b[43mSOCK_STREAM\u001b[49m\u001b[43m)\u001b[49m:\n\u001b[1;32m     73\u001b[0m     af, socktype, proto, canonname, sa \u001b[38;5;241m=\u001b[39m res\n",
      "File \u001b[0;32m/opt/conda/lib/python3.9/socket.py:954\u001b[0m, in \u001b[0;36mgetaddrinfo\u001b[0;34m(host, port, family, type, proto, flags)\u001b[0m\n\u001b[1;32m    953\u001b[0m addrlist \u001b[38;5;241m=\u001b[39m []\n\u001b[0;32m--> 954\u001b[0m \u001b[38;5;28;01mfor\u001b[39;00m res \u001b[38;5;129;01min\u001b[39;00m \u001b[43m_socket\u001b[49m\u001b[38;5;241;43m.\u001b[39;49m\u001b[43mgetaddrinfo\u001b[49m\u001b[43m(\u001b[49m\u001b[43mhost\u001b[49m\u001b[43m,\u001b[49m\u001b[43m \u001b[49m\u001b[43mport\u001b[49m\u001b[43m,\u001b[49m\u001b[43m \u001b[49m\u001b[43mfamily\u001b[49m\u001b[43m,\u001b[49m\u001b[43m \u001b[49m\u001b[38;5;28;43mtype\u001b[39;49m\u001b[43m,\u001b[49m\u001b[43m \u001b[49m\u001b[43mproto\u001b[49m\u001b[43m,\u001b[49m\u001b[43m \u001b[49m\u001b[43mflags\u001b[49m\u001b[43m)\u001b[49m:\n\u001b[1;32m    955\u001b[0m     af, socktype, proto, canonname, sa \u001b[38;5;241m=\u001b[39m res\n",
      "\u001b[0;31mgaierror\u001b[0m: [Errno -3] Temporary failure in name resolution",
      "\nDuring handling of the above exception, another exception occurred:\n",
      "\u001b[0;31mNewConnectionError\u001b[0m                        Traceback (most recent call last)",
      "File \u001b[0;32m/opt/conda/lib/python3.9/site-packages/urllib3/connectionpool.py:703\u001b[0m, in \u001b[0;36mHTTPConnectionPool.urlopen\u001b[0;34m(self, method, url, body, headers, retries, redirect, assert_same_host, timeout, pool_timeout, release_conn, chunked, body_pos, **response_kw)\u001b[0m\n\u001b[1;32m    702\u001b[0m \u001b[38;5;66;03m# Make the request on the httplib connection object.\u001b[39;00m\n\u001b[0;32m--> 703\u001b[0m httplib_response \u001b[38;5;241m=\u001b[39m \u001b[38;5;28;43mself\u001b[39;49m\u001b[38;5;241;43m.\u001b[39;49m\u001b[43m_make_request\u001b[49m\u001b[43m(\u001b[49m\n\u001b[1;32m    704\u001b[0m \u001b[43m    \u001b[49m\u001b[43mconn\u001b[49m\u001b[43m,\u001b[49m\n\u001b[1;32m    705\u001b[0m \u001b[43m    \u001b[49m\u001b[43mmethod\u001b[49m\u001b[43m,\u001b[49m\n\u001b[1;32m    706\u001b[0m \u001b[43m    \u001b[49m\u001b[43murl\u001b[49m\u001b[43m,\u001b[49m\n\u001b[1;32m    707\u001b[0m \u001b[43m    \u001b[49m\u001b[43mtimeout\u001b[49m\u001b[38;5;241;43m=\u001b[39;49m\u001b[43mtimeout_obj\u001b[49m\u001b[43m,\u001b[49m\n\u001b[1;32m    708\u001b[0m \u001b[43m    \u001b[49m\u001b[43mbody\u001b[49m\u001b[38;5;241;43m=\u001b[39;49m\u001b[43mbody\u001b[49m\u001b[43m,\u001b[49m\n\u001b[1;32m    709\u001b[0m \u001b[43m    \u001b[49m\u001b[43mheaders\u001b[49m\u001b[38;5;241;43m=\u001b[39;49m\u001b[43mheaders\u001b[49m\u001b[43m,\u001b[49m\n\u001b[1;32m    710\u001b[0m \u001b[43m    \u001b[49m\u001b[43mchunked\u001b[49m\u001b[38;5;241;43m=\u001b[39;49m\u001b[43mchunked\u001b[49m\u001b[43m,\u001b[49m\n\u001b[1;32m    711\u001b[0m \u001b[43m\u001b[49m\u001b[43m)\u001b[49m\n\u001b[1;32m    713\u001b[0m \u001b[38;5;66;03m# If we're going to release the connection in ``finally:``, then\u001b[39;00m\n\u001b[1;32m    714\u001b[0m \u001b[38;5;66;03m# the response doesn't need to know about the connection. Otherwise\u001b[39;00m\n\u001b[1;32m    715\u001b[0m \u001b[38;5;66;03m# it will also try to release it and we'll have a double-release\u001b[39;00m\n\u001b[1;32m    716\u001b[0m \u001b[38;5;66;03m# mess.\u001b[39;00m\n",
      "File \u001b[0;32m/opt/conda/lib/python3.9/site-packages/urllib3/connectionpool.py:386\u001b[0m, in \u001b[0;36mHTTPConnectionPool._make_request\u001b[0;34m(self, conn, method, url, timeout, chunked, **httplib_request_kw)\u001b[0m\n\u001b[1;32m    385\u001b[0m \u001b[38;5;28;01mtry\u001b[39;00m:\n\u001b[0;32m--> 386\u001b[0m     \u001b[38;5;28;43mself\u001b[39;49m\u001b[38;5;241;43m.\u001b[39;49m\u001b[43m_validate_conn\u001b[49m\u001b[43m(\u001b[49m\u001b[43mconn\u001b[49m\u001b[43m)\u001b[49m\n\u001b[1;32m    387\u001b[0m \u001b[38;5;28;01mexcept\u001b[39;00m (SocketTimeout, BaseSSLError) \u001b[38;5;28;01mas\u001b[39;00m e:\n\u001b[1;32m    388\u001b[0m     \u001b[38;5;66;03m# Py2 raises this as a BaseSSLError, Py3 raises it as socket timeout.\u001b[39;00m\n",
      "File \u001b[0;32m/opt/conda/lib/python3.9/site-packages/urllib3/connectionpool.py:1040\u001b[0m, in \u001b[0;36mHTTPSConnectionPool._validate_conn\u001b[0;34m(self, conn)\u001b[0m\n\u001b[1;32m   1039\u001b[0m \u001b[38;5;28;01mif\u001b[39;00m \u001b[38;5;129;01mnot\u001b[39;00m \u001b[38;5;28mgetattr\u001b[39m(conn, \u001b[38;5;124m\"\u001b[39m\u001b[38;5;124msock\u001b[39m\u001b[38;5;124m\"\u001b[39m, \u001b[38;5;28;01mNone\u001b[39;00m):  \u001b[38;5;66;03m# AppEngine might not have  `.sock`\u001b[39;00m\n\u001b[0;32m-> 1040\u001b[0m     \u001b[43mconn\u001b[49m\u001b[38;5;241;43m.\u001b[39;49m\u001b[43mconnect\u001b[49m\u001b[43m(\u001b[49m\u001b[43m)\u001b[49m\n\u001b[1;32m   1042\u001b[0m \u001b[38;5;28;01mif\u001b[39;00m \u001b[38;5;129;01mnot\u001b[39;00m conn\u001b[38;5;241m.\u001b[39mis_verified:\n",
      "File \u001b[0;32m/opt/conda/lib/python3.9/site-packages/urllib3/connection.py:358\u001b[0m, in \u001b[0;36mHTTPSConnection.connect\u001b[0;34m(self)\u001b[0m\n\u001b[1;32m    356\u001b[0m \u001b[38;5;28;01mdef\u001b[39;00m \u001b[38;5;21mconnect\u001b[39m(\u001b[38;5;28mself\u001b[39m):\n\u001b[1;32m    357\u001b[0m     \u001b[38;5;66;03m# Add certificate verification\u001b[39;00m\n\u001b[0;32m--> 358\u001b[0m     \u001b[38;5;28mself\u001b[39m\u001b[38;5;241m.\u001b[39msock \u001b[38;5;241m=\u001b[39m conn \u001b[38;5;241m=\u001b[39m \u001b[38;5;28;43mself\u001b[39;49m\u001b[38;5;241;43m.\u001b[39;49m\u001b[43m_new_conn\u001b[49m\u001b[43m(\u001b[49m\u001b[43m)\u001b[49m\n\u001b[1;32m    359\u001b[0m     hostname \u001b[38;5;241m=\u001b[39m \u001b[38;5;28mself\u001b[39m\u001b[38;5;241m.\u001b[39mhost\n",
      "File \u001b[0;32m/opt/conda/lib/python3.9/site-packages/urllib3/connection.py:186\u001b[0m, in \u001b[0;36mHTTPConnection._new_conn\u001b[0;34m(self)\u001b[0m\n\u001b[1;32m    185\u001b[0m \u001b[38;5;28;01mexcept\u001b[39;00m SocketError \u001b[38;5;28;01mas\u001b[39;00m e:\n\u001b[0;32m--> 186\u001b[0m     \u001b[38;5;28;01mraise\u001b[39;00m NewConnectionError(\n\u001b[1;32m    187\u001b[0m         \u001b[38;5;28mself\u001b[39m, \u001b[38;5;124m\"\u001b[39m\u001b[38;5;124mFailed to establish a new connection: \u001b[39m\u001b[38;5;132;01m%s\u001b[39;00m\u001b[38;5;124m\"\u001b[39m \u001b[38;5;241m%\u001b[39m e\n\u001b[1;32m    188\u001b[0m     )\n\u001b[1;32m    190\u001b[0m \u001b[38;5;28;01mreturn\u001b[39;00m conn\n",
      "\u001b[0;31mNewConnectionError\u001b[0m: <urllib3.connection.HTTPSConnection object at 0x7f0d09ef9b20>: Failed to establish a new connection: [Errno -3] Temporary failure in name resolution",
      "\nDuring handling of the above exception, another exception occurred:\n",
      "\u001b[0;31mMaxRetryError\u001b[0m                             Traceback (most recent call last)",
      "File \u001b[0;32m/opt/conda/lib/python3.9/site-packages/requests/adapters.py:440\u001b[0m, in \u001b[0;36mHTTPAdapter.send\u001b[0;34m(self, request, stream, timeout, verify, cert, proxies)\u001b[0m\n\u001b[1;32m    439\u001b[0m \u001b[38;5;28;01mif\u001b[39;00m \u001b[38;5;129;01mnot\u001b[39;00m chunked:\n\u001b[0;32m--> 440\u001b[0m     resp \u001b[38;5;241m=\u001b[39m \u001b[43mconn\u001b[49m\u001b[38;5;241;43m.\u001b[39;49m\u001b[43murlopen\u001b[49m\u001b[43m(\u001b[49m\n\u001b[1;32m    441\u001b[0m \u001b[43m        \u001b[49m\u001b[43mmethod\u001b[49m\u001b[38;5;241;43m=\u001b[39;49m\u001b[43mrequest\u001b[49m\u001b[38;5;241;43m.\u001b[39;49m\u001b[43mmethod\u001b[49m\u001b[43m,\u001b[49m\n\u001b[1;32m    442\u001b[0m \u001b[43m        \u001b[49m\u001b[43murl\u001b[49m\u001b[38;5;241;43m=\u001b[39;49m\u001b[43murl\u001b[49m\u001b[43m,\u001b[49m\n\u001b[1;32m    443\u001b[0m \u001b[43m        \u001b[49m\u001b[43mbody\u001b[49m\u001b[38;5;241;43m=\u001b[39;49m\u001b[43mrequest\u001b[49m\u001b[38;5;241;43m.\u001b[39;49m\u001b[43mbody\u001b[49m\u001b[43m,\u001b[49m\n\u001b[1;32m    444\u001b[0m \u001b[43m        \u001b[49m\u001b[43mheaders\u001b[49m\u001b[38;5;241;43m=\u001b[39;49m\u001b[43mrequest\u001b[49m\u001b[38;5;241;43m.\u001b[39;49m\u001b[43mheaders\u001b[49m\u001b[43m,\u001b[49m\n\u001b[1;32m    445\u001b[0m \u001b[43m        \u001b[49m\u001b[43mredirect\u001b[49m\u001b[38;5;241;43m=\u001b[39;49m\u001b[38;5;28;43;01mFalse\u001b[39;49;00m\u001b[43m,\u001b[49m\n\u001b[1;32m    446\u001b[0m \u001b[43m        \u001b[49m\u001b[43massert_same_host\u001b[49m\u001b[38;5;241;43m=\u001b[39;49m\u001b[38;5;28;43;01mFalse\u001b[39;49;00m\u001b[43m,\u001b[49m\n\u001b[1;32m    447\u001b[0m \u001b[43m        \u001b[49m\u001b[43mpreload_content\u001b[49m\u001b[38;5;241;43m=\u001b[39;49m\u001b[38;5;28;43;01mFalse\u001b[39;49;00m\u001b[43m,\u001b[49m\n\u001b[1;32m    448\u001b[0m \u001b[43m        \u001b[49m\u001b[43mdecode_content\u001b[49m\u001b[38;5;241;43m=\u001b[39;49m\u001b[38;5;28;43;01mFalse\u001b[39;49;00m\u001b[43m,\u001b[49m\n\u001b[1;32m    449\u001b[0m \u001b[43m        \u001b[49m\u001b[43mretries\u001b[49m\u001b[38;5;241;43m=\u001b[39;49m\u001b[38;5;28;43mself\u001b[39;49m\u001b[38;5;241;43m.\u001b[39;49m\u001b[43mmax_retries\u001b[49m\u001b[43m,\u001b[49m\n\u001b[1;32m    450\u001b[0m \u001b[43m        \u001b[49m\u001b[43mtimeout\u001b[49m\u001b[38;5;241;43m=\u001b[39;49m\u001b[43mtimeout\u001b[49m\n\u001b[1;32m    451\u001b[0m \u001b[43m    \u001b[49m\u001b[43m)\u001b[49m\n\u001b[1;32m    453\u001b[0m \u001b[38;5;66;03m# Send the request.\u001b[39;00m\n\u001b[1;32m    454\u001b[0m \u001b[38;5;28;01melse\u001b[39;00m:\n",
      "File \u001b[0;32m/opt/conda/lib/python3.9/site-packages/urllib3/connectionpool.py:785\u001b[0m, in \u001b[0;36mHTTPConnectionPool.urlopen\u001b[0;34m(self, method, url, body, headers, retries, redirect, assert_same_host, timeout, pool_timeout, release_conn, chunked, body_pos, **response_kw)\u001b[0m\n\u001b[1;32m    783\u001b[0m     e \u001b[38;5;241m=\u001b[39m ProtocolError(\u001b[38;5;124m\"\u001b[39m\u001b[38;5;124mConnection aborted.\u001b[39m\u001b[38;5;124m\"\u001b[39m, e)\n\u001b[0;32m--> 785\u001b[0m retries \u001b[38;5;241m=\u001b[39m \u001b[43mretries\u001b[49m\u001b[38;5;241;43m.\u001b[39;49m\u001b[43mincrement\u001b[49m\u001b[43m(\u001b[49m\n\u001b[1;32m    786\u001b[0m \u001b[43m    \u001b[49m\u001b[43mmethod\u001b[49m\u001b[43m,\u001b[49m\u001b[43m \u001b[49m\u001b[43murl\u001b[49m\u001b[43m,\u001b[49m\u001b[43m \u001b[49m\u001b[43merror\u001b[49m\u001b[38;5;241;43m=\u001b[39;49m\u001b[43me\u001b[49m\u001b[43m,\u001b[49m\u001b[43m \u001b[49m\u001b[43m_pool\u001b[49m\u001b[38;5;241;43m=\u001b[39;49m\u001b[38;5;28;43mself\u001b[39;49m\u001b[43m,\u001b[49m\u001b[43m \u001b[49m\u001b[43m_stacktrace\u001b[49m\u001b[38;5;241;43m=\u001b[39;49m\u001b[43msys\u001b[49m\u001b[38;5;241;43m.\u001b[39;49m\u001b[43mexc_info\u001b[49m\u001b[43m(\u001b[49m\u001b[43m)\u001b[49m\u001b[43m[\u001b[49m\u001b[38;5;241;43m2\u001b[39;49m\u001b[43m]\u001b[49m\n\u001b[1;32m    787\u001b[0m \u001b[43m\u001b[49m\u001b[43m)\u001b[49m\n\u001b[1;32m    788\u001b[0m retries\u001b[38;5;241m.\u001b[39msleep()\n",
      "File \u001b[0;32m/opt/conda/lib/python3.9/site-packages/urllib3/util/retry.py:592\u001b[0m, in \u001b[0;36mRetry.increment\u001b[0;34m(self, method, url, response, error, _pool, _stacktrace)\u001b[0m\n\u001b[1;32m    591\u001b[0m \u001b[38;5;28;01mif\u001b[39;00m new_retry\u001b[38;5;241m.\u001b[39mis_exhausted():\n\u001b[0;32m--> 592\u001b[0m     \u001b[38;5;28;01mraise\u001b[39;00m MaxRetryError(_pool, url, error \u001b[38;5;129;01mor\u001b[39;00m ResponseError(cause))\n\u001b[1;32m    594\u001b[0m log\u001b[38;5;241m.\u001b[39mdebug(\u001b[38;5;124m\"\u001b[39m\u001b[38;5;124mIncremented Retry for (url=\u001b[39m\u001b[38;5;124m'\u001b[39m\u001b[38;5;132;01m%s\u001b[39;00m\u001b[38;5;124m'\u001b[39m\u001b[38;5;124m): \u001b[39m\u001b[38;5;132;01m%r\u001b[39;00m\u001b[38;5;124m\"\u001b[39m, url, new_retry)\n",
      "\u001b[0;31mMaxRetryError\u001b[0m: HTTPSConnectionPool(host='pubchem.ncbi.nlm.nih.gov', port=443): Max retries exceeded with url: /rest/pug/compound/similarity/smiles/C1CC1C%28%3DO%29NC2%3DNC%3DCC%28%3DC2%29NC%28%3DO%29C3%3DC%28C%3DCC%3DC3Cl%29Cl/JSON?Threshold=90&MaxRecords=10000&fullsearch=true&mw_lte=1000&xlogp_lte=5 (Caused by NewConnectionError('<urllib3.connection.HTTPSConnection object at 0x7f0d09ef9b20>: Failed to establish a new connection: [Errno -3] Temporary failure in name resolution'))",
      "\nDuring handling of the above exception, another exception occurred:\n",
      "\u001b[0;31mConnectionError\u001b[0m                           Traceback (most recent call last)",
      "Input \u001b[0;32mIn [36]\u001b[0m, in \u001b[0;36m<cell line: 29>\u001b[0;34m()\u001b[0m\n\u001b[1;32m     30\u001b[0m \u001b[38;5;28mprint\u001b[39m(\u001b[38;5;124m\"\u001b[39m\u001b[38;5;130;01m\\n\u001b[39;00m\u001b[38;5;130;01m\\n\u001b[39;00m\u001b[38;5;130;01m\\n\u001b[39;00m\u001b[38;5;124mCurrently querying smiles: \u001b[39m\u001b[38;5;132;01m{}\u001b[39;00m\u001b[38;5;124m.\u001b[39m\u001b[38;5;130;01m\\n\u001b[39;00m\u001b[38;5;124m\"\u001b[39m\u001b[38;5;241m.\u001b[39mformat(query))\n\u001b[1;32m     31\u001b[0m \u001b[38;5;66;03m#Query smiles\u001b[39;00m\n\u001b[0;32m---> 32\u001b[0m job_key \u001b[38;5;241m=\u001b[39m \u001b[43mquery_pubchem_for_similar_compounds\u001b[49m\u001b[43m(\u001b[49m\u001b[43mquery\u001b[49m\u001b[43m,\u001b[49m\u001b[43m \u001b[49m\u001b[43mthreshold\u001b[49m\u001b[38;5;241;43m=\u001b[39;49m\u001b[38;5;241;43m90\u001b[39;49m\u001b[43m,\u001b[49m\u001b[43m \u001b[49m\u001b[43mn_records\u001b[49m\u001b[38;5;241;43m=\u001b[39;49m\u001b[38;5;241;43m10000\u001b[39;49m\u001b[43m)\u001b[49m\n\u001b[1;32m     33\u001b[0m similar_cids \u001b[38;5;241m=\u001b[39m check_and_download(job_key)\n\u001b[1;32m     34\u001b[0m \u001b[38;5;66;03m#Gather compound properties to filter\u001b[39;00m\n",
      "Input \u001b[0;32mIn [2]\u001b[0m, in \u001b[0;36mquery_pubchem_for_similar_compounds\u001b[0;34m(smiles, threshold, n_records, logp, MW)\u001b[0m\n\u001b[1;32m    324\u001b[0m escaped_smiles \u001b[38;5;241m=\u001b[39m quote(smiles)\u001b[38;5;241m.\u001b[39mreplace(\u001b[38;5;124m\"\u001b[39m\u001b[38;5;124m/\u001b[39m\u001b[38;5;124m\"\u001b[39m, \u001b[38;5;124m\"\u001b[39m\u001b[38;5;124m.\u001b[39m\u001b[38;5;124m\"\u001b[39m)\n\u001b[1;32m    325\u001b[0m url \u001b[38;5;241m=\u001b[39m \u001b[38;5;124mf\u001b[39m\u001b[38;5;124m\"\u001b[39m\u001b[38;5;124mhttps://pubchem.ncbi.nlm.nih.gov/rest/pug/compound/similarity/smiles/\u001b[39m\u001b[38;5;132;01m{\u001b[39;00mescaped_smiles\u001b[38;5;132;01m}\u001b[39;00m\u001b[38;5;124m/JSON?Threshold=\u001b[39m\u001b[38;5;132;01m{\u001b[39;00mthreshold\u001b[38;5;132;01m}\u001b[39;00m\u001b[38;5;124m&MaxRecords=\u001b[39m\u001b[38;5;132;01m{\u001b[39;00mn_records\u001b[38;5;132;01m}\u001b[39;00m\u001b[38;5;124m&fullsearch=true&mw_lte=\u001b[39m\u001b[38;5;132;01m{\u001b[39;00mMW\u001b[38;5;132;01m}\u001b[39;00m\u001b[38;5;124m&xlogp_lte=\u001b[39m\u001b[38;5;132;01m{\u001b[39;00mlogp\u001b[38;5;132;01m}\u001b[39;00m\u001b[38;5;124m\"\u001b[39m\n\u001b[0;32m--> 326\u001b[0m r \u001b[38;5;241m=\u001b[39m \u001b[43mrequests\u001b[49m\u001b[38;5;241;43m.\u001b[39;49m\u001b[43mget\u001b[49m\u001b[43m(\u001b[49m\u001b[43murl\u001b[49m\u001b[43m)\u001b[49m\n\u001b[1;32m    327\u001b[0m r\u001b[38;5;241m.\u001b[39mraise_for_status()\n\u001b[1;32m    328\u001b[0m key \u001b[38;5;241m=\u001b[39m r\u001b[38;5;241m.\u001b[39mjson()[\u001b[38;5;124m\"\u001b[39m\u001b[38;5;124mWaiting\u001b[39m\u001b[38;5;124m\"\u001b[39m][\u001b[38;5;124m\"\u001b[39m\u001b[38;5;124mListKey\u001b[39m\u001b[38;5;124m\"\u001b[39m]\n",
      "File \u001b[0;32m/opt/conda/lib/python3.9/site-packages/requests/api.py:75\u001b[0m, in \u001b[0;36mget\u001b[0;34m(url, params, **kwargs)\u001b[0m\n\u001b[1;32m     64\u001b[0m \u001b[38;5;28;01mdef\u001b[39;00m \u001b[38;5;21mget\u001b[39m(url, params\u001b[38;5;241m=\u001b[39m\u001b[38;5;28;01mNone\u001b[39;00m, \u001b[38;5;241m*\u001b[39m\u001b[38;5;241m*\u001b[39mkwargs):\n\u001b[1;32m     65\u001b[0m     \u001b[38;5;124mr\u001b[39m\u001b[38;5;124;03m\"\"\"Sends a GET request.\u001b[39;00m\n\u001b[1;32m     66\u001b[0m \n\u001b[1;32m     67\u001b[0m \u001b[38;5;124;03m    :param url: URL for the new :class:`Request` object.\u001b[39;00m\n\u001b[0;32m   (...)\u001b[0m\n\u001b[1;32m     72\u001b[0m \u001b[38;5;124;03m    :rtype: requests.Response\u001b[39;00m\n\u001b[1;32m     73\u001b[0m \u001b[38;5;124;03m    \"\"\"\u001b[39;00m\n\u001b[0;32m---> 75\u001b[0m     \u001b[38;5;28;01mreturn\u001b[39;00m \u001b[43mrequest\u001b[49m\u001b[43m(\u001b[49m\u001b[38;5;124;43m'\u001b[39;49m\u001b[38;5;124;43mget\u001b[39;49m\u001b[38;5;124;43m'\u001b[39;49m\u001b[43m,\u001b[49m\u001b[43m \u001b[49m\u001b[43murl\u001b[49m\u001b[43m,\u001b[49m\u001b[43m \u001b[49m\u001b[43mparams\u001b[49m\u001b[38;5;241;43m=\u001b[39;49m\u001b[43mparams\u001b[49m\u001b[43m,\u001b[49m\u001b[43m \u001b[49m\u001b[38;5;241;43m*\u001b[39;49m\u001b[38;5;241;43m*\u001b[39;49m\u001b[43mkwargs\u001b[49m\u001b[43m)\u001b[49m\n",
      "File \u001b[0;32m/opt/conda/lib/python3.9/site-packages/requests/api.py:61\u001b[0m, in \u001b[0;36mrequest\u001b[0;34m(method, url, **kwargs)\u001b[0m\n\u001b[1;32m     57\u001b[0m \u001b[38;5;66;03m# By using the 'with' statement we are sure the session is closed, thus we\u001b[39;00m\n\u001b[1;32m     58\u001b[0m \u001b[38;5;66;03m# avoid leaving sockets open which can trigger a ResourceWarning in some\u001b[39;00m\n\u001b[1;32m     59\u001b[0m \u001b[38;5;66;03m# cases, and look like a memory leak in others.\u001b[39;00m\n\u001b[1;32m     60\u001b[0m \u001b[38;5;28;01mwith\u001b[39;00m sessions\u001b[38;5;241m.\u001b[39mSession() \u001b[38;5;28;01mas\u001b[39;00m session:\n\u001b[0;32m---> 61\u001b[0m     \u001b[38;5;28;01mreturn\u001b[39;00m \u001b[43msession\u001b[49m\u001b[38;5;241;43m.\u001b[39;49m\u001b[43mrequest\u001b[49m\u001b[43m(\u001b[49m\u001b[43mmethod\u001b[49m\u001b[38;5;241;43m=\u001b[39;49m\u001b[43mmethod\u001b[49m\u001b[43m,\u001b[49m\u001b[43m \u001b[49m\u001b[43murl\u001b[49m\u001b[38;5;241;43m=\u001b[39;49m\u001b[43murl\u001b[49m\u001b[43m,\u001b[49m\u001b[43m \u001b[49m\u001b[38;5;241;43m*\u001b[39;49m\u001b[38;5;241;43m*\u001b[39;49m\u001b[43mkwargs\u001b[49m\u001b[43m)\u001b[49m\n",
      "File \u001b[0;32m/opt/conda/lib/python3.9/site-packages/requests/sessions.py:529\u001b[0m, in \u001b[0;36mSession.request\u001b[0;34m(self, method, url, params, data, headers, cookies, files, auth, timeout, allow_redirects, proxies, hooks, stream, verify, cert, json)\u001b[0m\n\u001b[1;32m    524\u001b[0m send_kwargs \u001b[38;5;241m=\u001b[39m {\n\u001b[1;32m    525\u001b[0m     \u001b[38;5;124m'\u001b[39m\u001b[38;5;124mtimeout\u001b[39m\u001b[38;5;124m'\u001b[39m: timeout,\n\u001b[1;32m    526\u001b[0m     \u001b[38;5;124m'\u001b[39m\u001b[38;5;124mallow_redirects\u001b[39m\u001b[38;5;124m'\u001b[39m: allow_redirects,\n\u001b[1;32m    527\u001b[0m }\n\u001b[1;32m    528\u001b[0m send_kwargs\u001b[38;5;241m.\u001b[39mupdate(settings)\n\u001b[0;32m--> 529\u001b[0m resp \u001b[38;5;241m=\u001b[39m \u001b[38;5;28;43mself\u001b[39;49m\u001b[38;5;241;43m.\u001b[39;49m\u001b[43msend\u001b[49m\u001b[43m(\u001b[49m\u001b[43mprep\u001b[49m\u001b[43m,\u001b[49m\u001b[43m \u001b[49m\u001b[38;5;241;43m*\u001b[39;49m\u001b[38;5;241;43m*\u001b[39;49m\u001b[43msend_kwargs\u001b[49m\u001b[43m)\u001b[49m\n\u001b[1;32m    531\u001b[0m \u001b[38;5;28;01mreturn\u001b[39;00m resp\n",
      "File \u001b[0;32m/opt/conda/lib/python3.9/site-packages/requests/sessions.py:645\u001b[0m, in \u001b[0;36mSession.send\u001b[0;34m(self, request, **kwargs)\u001b[0m\n\u001b[1;32m    642\u001b[0m start \u001b[38;5;241m=\u001b[39m preferred_clock()\n\u001b[1;32m    644\u001b[0m \u001b[38;5;66;03m# Send the request\u001b[39;00m\n\u001b[0;32m--> 645\u001b[0m r \u001b[38;5;241m=\u001b[39m \u001b[43madapter\u001b[49m\u001b[38;5;241;43m.\u001b[39;49m\u001b[43msend\u001b[49m\u001b[43m(\u001b[49m\u001b[43mrequest\u001b[49m\u001b[43m,\u001b[49m\u001b[43m \u001b[49m\u001b[38;5;241;43m*\u001b[39;49m\u001b[38;5;241;43m*\u001b[39;49m\u001b[43mkwargs\u001b[49m\u001b[43m)\u001b[49m\n\u001b[1;32m    647\u001b[0m \u001b[38;5;66;03m# Total elapsed time of the request (approximately)\u001b[39;00m\n\u001b[1;32m    648\u001b[0m elapsed \u001b[38;5;241m=\u001b[39m preferred_clock() \u001b[38;5;241m-\u001b[39m start\n",
      "File \u001b[0;32m/opt/conda/lib/python3.9/site-packages/requests/adapters.py:519\u001b[0m, in \u001b[0;36mHTTPAdapter.send\u001b[0;34m(self, request, stream, timeout, verify, cert, proxies)\u001b[0m\n\u001b[1;32m    515\u001b[0m     \u001b[38;5;28;01mif\u001b[39;00m \u001b[38;5;28misinstance\u001b[39m(e\u001b[38;5;241m.\u001b[39mreason, _SSLError):\n\u001b[1;32m    516\u001b[0m         \u001b[38;5;66;03m# This branch is for urllib3 v1.22 and later.\u001b[39;00m\n\u001b[1;32m    517\u001b[0m         \u001b[38;5;28;01mraise\u001b[39;00m SSLError(e, request\u001b[38;5;241m=\u001b[39mrequest)\n\u001b[0;32m--> 519\u001b[0m     \u001b[38;5;28;01mraise\u001b[39;00m \u001b[38;5;167;01mConnectionError\u001b[39;00m(e, request\u001b[38;5;241m=\u001b[39mrequest)\n\u001b[1;32m    521\u001b[0m \u001b[38;5;28;01mexcept\u001b[39;00m ClosedPoolError \u001b[38;5;28;01mas\u001b[39;00m e:\n\u001b[1;32m    522\u001b[0m     \u001b[38;5;28;01mraise\u001b[39;00m \u001b[38;5;167;01mConnectionError\u001b[39;00m(e, request\u001b[38;5;241m=\u001b[39mrequest)\n",
      "\u001b[0;31mConnectionError\u001b[0m: HTTPSConnectionPool(host='pubchem.ncbi.nlm.nih.gov', port=443): Max retries exceeded with url: /rest/pug/compound/similarity/smiles/C1CC1C%28%3DO%29NC2%3DNC%3DCC%28%3DC2%29NC%28%3DO%29C3%3DC%28C%3DCC%3DC3Cl%29Cl/JSON?Threshold=90&MaxRecords=10000&fullsearch=true&mw_lte=1000&xlogp_lte=5 (Caused by NewConnectionError('<urllib3.connection.HTTPSConnection object at 0x7f0d09ef9b20>: Failed to establish a new connection: [Errno -3] Temporary failure in name resolution'))"
     ]
    }
   ],
   "source": [
    "#Dataframe of query compounds\n",
    "query_df = pd.DataFrame({\n",
    "    \"ligand ID\":[\"Reference_0X5\",\n",
    "                         \"CHEMBL4789639\",\n",
    "                         \"CHEMBL4793760\",\n",
    "                         \"Deucravacitinib\",\n",
    "                         \"Ruxolitinib\",\n",
    "                         \"AT-9283\",\n",
    "                         \"Peficitinib\",\n",
    "                         \"Tofacitinib\",\n",
    "                         \"Baricitinib\"\n",
    "                         ],\n",
    "     \"SMILES\":['C1CC1C(=O)NC2=NC=CC(=C2)NC(=O)C3=C(C=CC=C3Cl)Cl', #0X5, PDB reference ligand\n",
    "               '[2H]C([2H])([2H])NC(=O)c1cnc(NC(=O)C2CC2)cc1Nc1cccc(-c2ncc(F)cn2)c1OC', #CHEMBL4789639\n",
    "               '[2H]C([2H])([2H])NC(=O)c1cnc(NC(=O)C2CC2)cc1Nc1cc(F)cc(-c2ncccn2)c1OC', #CHEMBL4793760\n",
    "               '[2H]C([2H])([2H])NC(=O)c1nnc(NC(=O)C2CC2)cc1Nc1cccc(-c2ncn(C)n2)c1OC', #Deucravacitinib, TYK2\n",
    "               'N#CC[C@H](C1CCCC1)n1cc(-c2ncnc3[nH]ccc23)cn1', #Ruxolitinib, TYK2\n",
    "               'O=C(Nc1c[nH]nc1-c1nc2ccc(CN3CCOCC3)cc2[nH]1)NC1CC1', #AT-9283, TYK2\n",
    "               'NC(=O)c1cnc2[nH]ccc2c1N[C@H]1[C@H]2CC3C[C@@H]1C[C@](O)(C3)C2', #Peficitinib, TYK2\n",
    "               'CC1CCN(CC1N(C)C2=NC=NC3=C2C=CN3)C(=O)CC#N', #Tofacitinib, JAK\n",
    "               'CCS(=O)(=O)N1CC(CC#N)(n2cc(-c3ncnc4[nH]ccc34)cn2)C1' #Baricitinib, TYK2\n",
    "            ]})\n",
    "\n",
    "#Creating a list of query compound smiles\n",
    "querylist = query_df['SMILES'].tolist()\n",
    "\n",
    "#Loop to query each smiles in the query list. Results are filtered \n",
    "screening = []\n",
    "for query in querylist:\n",
    "    print(\"\\n\\n\\nCurrently querying smiles: {}.\\n\".format(query))\n",
    "    #Query smiles\n",
    "    job_key = query_pubchem_for_similar_compounds(query, threshold=90, n_records=10000)\n",
    "    similar_cids = check_and_download(job_key)\n",
    "    #Gather compound properties to filter\n",
    "    a= pcp.get_properties(['canonical_smiles', 'XLogP', 'ExactMass'], similar_cids)\n",
    "    a= pd.DataFrame.from_records(a).dropna()\n",
    "    a['ExactMass'] = a['ExactMass'].astype(float)\n",
    "    a[(a['XLogP'] <= 5) & (a['ExactMass'] <= 1000)]\n",
    "    a=list(a['CanonicalSMILES'])\n",
    "    #Add results to screening list\n",
    "    screening.extend(a)\n",
    "    print(\"\\nThis query resulted in {} results,\\nwhich makes the current amount of compounds in the screening dataset {}.\".format(len(a),len(screening)))\n",
    "\n",
    "print(\"\\nThe amount of compounds currently in the screening dataset is: {}.\".format(len(screening)))\n",
    "\n",
    "print(\"\\nA few examples are: \\n{}, \\n{},\\n{}.\".format(screening[1],screening[2],screening[3]))"
   ]
  },
  {
   "cell_type": "markdown",
   "metadata": {},
   "source": [
    "#### Adding the queried compounds to the dataset and generating the fingerprints.\n",
    "The smiles results from the similarity search are transfered to a testing dataset. The queried smiles are added to the front of this dataset to include them in the regression model's predictions. Each smiles will have a morgan3 fingerprint added."
   ]
  },
  {
   "cell_type": "code",
   "execution_count": 38,
   "metadata": {},
   "outputs": [],
   "source": [
    "test_smiles = screening.copy()\n",
    "test_smiles = querylist+test_smiles  #this makes sure the queried compounds are being predicted as well, some but not all of them are already in this list, but duplicates are dropped anyways.\n",
    "fps = []\n",
    "drop = []\n",
    "\n",
    "for smiles in test_smiles: \n",
    "    try:\n",
    "        fp = smiles_to_fp(smiles,'morgan3')\n",
    "        fps.append(fp)\n",
    "    except:\n",
    "        drop.append(smiles)\n",
    "        \n",
    "for i in drop:\n",
    "    test_smiles.remove(i)\n"
   ]
  },
  {
   "cell_type": "markdown",
   "metadata": {},
   "source": [
    "#### Making bioactivity predictions on the testing dataset\n",
    "The testing dataset is put through the regression model to predict their pChEMBL values. An amount of the highest ranking smiles are gathered in the screened dataframe. This amount is set with *topslice*, which in this case is set to 10.<br><br> Because it is likely that there is one of the initial queried compounds from the ChEMBL dataset among the highest ranking smiles, there is a bit of code that removes them and replaces them with the next highest ranking smiles from the predicted dataset. The queried smiles are once again added to the final dataset to be able to compare them to the highest ranking smiles when docking."
   ]
  },
  {
   "cell_type": "code",
   "execution_count": 39,
   "metadata": {},
   "outputs": [
    {
     "name": "stdout",
     "output_type": "stream",
     "text": [
      "Excluding duplicates, a total of 9 pChEMBL values have been predicted\n"
     ]
    },
    {
     "data": {
      "text/html": [
       "<div>\n",
       "<style scoped>\n",
       "    .dataframe tbody tr th:only-of-type {\n",
       "        vertical-align: middle;\n",
       "    }\n",
       "\n",
       "    .dataframe tbody tr th {\n",
       "        vertical-align: top;\n",
       "    }\n",
       "\n",
       "    .dataframe thead th {\n",
       "        text-align: right;\n",
       "    }\n",
       "</style>\n",
       "<table border=\"1\" class=\"dataframe\">\n",
       "  <thead>\n",
       "    <tr style=\"text-align: right;\">\n",
       "      <th></th>\n",
       "      <th>smiles</th>\n",
       "      <th>prediction</th>\n",
       "      <th>prediction_type</th>\n",
       "    </tr>\n",
       "  </thead>\n",
       "  <tbody>\n",
       "    <tr>\n",
       "      <th>3</th>\n",
       "      <td>[2H]C([2H])([2H])NC(=O)c1nnc(NC(=O)C2CC2)cc1Nc1cccc(-c2ncn(C)n2)c1OC</td>\n",
       "      <td>8.759103</td>\n",
       "      <td>regression</td>\n",
       "    </tr>\n",
       "    <tr>\n",
       "      <th>5</th>\n",
       "      <td>O=C(Nc1c[nH]nc1-c1nc2ccc(CN3CCOCC3)cc2[nH]1)NC1CC1</td>\n",
       "      <td>8.300647</td>\n",
       "      <td>regression</td>\n",
       "    </tr>\n",
       "    <tr>\n",
       "      <th>2</th>\n",
       "      <td>[2H]C([2H])([2H])NC(=O)c1cnc(NC(=O)C2CC2)cc1Nc1cc(F)cc(-c2ncccn2)c1OC</td>\n",
       "      <td>8.290312</td>\n",
       "      <td>regression</td>\n",
       "    </tr>\n",
       "    <tr>\n",
       "      <th>6</th>\n",
       "      <td>NC(=O)c1cnc2[nH]ccc2c1N[C@H]1[C@H]2CC3C[C@@H]1C[C@](O)(C3)C2</td>\n",
       "      <td>8.283975</td>\n",
       "      <td>regression</td>\n",
       "    </tr>\n",
       "    <tr>\n",
       "      <th>1</th>\n",
       "      <td>[2H]C([2H])([2H])NC(=O)c1cnc(NC(=O)C2CC2)cc1Nc1cccc(-c2ncc(F)cn2)c1OC</td>\n",
       "      <td>7.994528</td>\n",
       "      <td>regression</td>\n",
       "    </tr>\n",
       "    <tr>\n",
       "      <th>4</th>\n",
       "      <td>N#CC[C@H](C1CCCC1)n1cc(-c2ncnc3[nH]ccc23)cn1</td>\n",
       "      <td>7.929213</td>\n",
       "      <td>regression</td>\n",
       "    </tr>\n",
       "    <tr>\n",
       "      <th>8</th>\n",
       "      <td>CCS(=O)(=O)N1CC(CC#N)(n2cc(-c3ncnc4[nH]ccc34)cn2)C1</td>\n",
       "      <td>7.401514</td>\n",
       "      <td>regression</td>\n",
       "    </tr>\n",
       "    <tr>\n",
       "      <th>7</th>\n",
       "      <td>CC1CCN(CC1N(C)C2=NC=NC3=C2C=CN3)C(=O)CC#N</td>\n",
       "      <td>7.252759</td>\n",
       "      <td>regression</td>\n",
       "    </tr>\n",
       "    <tr>\n",
       "      <th>0</th>\n",
       "      <td>C1CC1C(=O)NC2=NC=CC(=C2)NC(=O)C3=C(C=CC=C3Cl)Cl</td>\n",
       "      <td>6.864581</td>\n",
       "      <td>regression</td>\n",
       "    </tr>\n",
       "  </tbody>\n",
       "</table>\n",
       "</div>"
      ],
      "text/plain": [
       "                                                                  smiles  \\\n",
       "3   [2H]C([2H])([2H])NC(=O)c1nnc(NC(=O)C2CC2)cc1Nc1cccc(-c2ncn(C)n2)c1OC   \n",
       "5                     O=C(Nc1c[nH]nc1-c1nc2ccc(CN3CCOCC3)cc2[nH]1)NC1CC1   \n",
       "2  [2H]C([2H])([2H])NC(=O)c1cnc(NC(=O)C2CC2)cc1Nc1cc(F)cc(-c2ncccn2)c1OC   \n",
       "6           NC(=O)c1cnc2[nH]ccc2c1N[C@H]1[C@H]2CC3C[C@@H]1C[C@](O)(C3)C2   \n",
       "1  [2H]C([2H])([2H])NC(=O)c1cnc(NC(=O)C2CC2)cc1Nc1cccc(-c2ncc(F)cn2)c1OC   \n",
       "4                           N#CC[C@H](C1CCCC1)n1cc(-c2ncnc3[nH]ccc23)cn1   \n",
       "8                    CCS(=O)(=O)N1CC(CC#N)(n2cc(-c3ncnc4[nH]ccc34)cn2)C1   \n",
       "7                              CC1CCN(CC1N(C)C2=NC=NC3=C2C=CN3)C(=O)CC#N   \n",
       "0                        C1CC1C(=O)NC2=NC=CC(=C2)NC(=O)C3=C(C=CC=C3Cl)Cl   \n",
       "\n",
       "   prediction prediction_type  \n",
       "3    8.759103      regression  \n",
       "5    8.300647      regression  \n",
       "2    8.290312      regression  \n",
       "6    8.283975      regression  \n",
       "1    7.994528      regression  \n",
       "4    7.929213      regression  \n",
       "8    7.401514      regression  \n",
       "7    7.252759      regression  \n",
       "0    6.864581      regression  "
      ]
     },
     "metadata": {},
     "output_type": "display_data"
    },
    {
     "name": "stdout",
     "output_type": "stream",
     "text": [
      "One of the top 9 predicted values ([2H]C([2H])([2H])NC(=O)c1nnc(NC(=O)C2CC2)cc1Nc1cccc(-c2ncn(C)n2)c1OC) is one of the queried compounds: Deucravacitinib, replacing it with the nr 11 of the regression predicted smiles\n",
      "One of the top 8 predicted values (O=C(Nc1c[nH]nc1-c1nc2ccc(CN3CCOCC3)cc2[nH]1)NC1CC1) is one of the queried compounds: AT-9283, replacing it with the nr 12 of the regression predicted smiles\n",
      "One of the top 7 predicted values ([2H]C([2H])([2H])NC(=O)c1cnc(NC(=O)C2CC2)cc1Nc1cc(F)cc(-c2ncccn2)c1OC) is one of the queried compounds: CHEMBL4793760, replacing it with the nr 13 of the regression predicted smiles\n",
      "One of the top 6 predicted values (NC(=O)c1cnc2[nH]ccc2c1N[C@H]1[C@H]2CC3C[C@@H]1C[C@](O)(C3)C2) is one of the queried compounds: Peficitinib, replacing it with the nr 14 of the regression predicted smiles\n",
      "One of the top 5 predicted values ([2H]C([2H])([2H])NC(=O)c1cnc(NC(=O)C2CC2)cc1Nc1cccc(-c2ncc(F)cn2)c1OC) is one of the queried compounds: CHEMBL4789639, replacing it with the nr 15 of the regression predicted smiles\n",
      "One of the top 4 predicted values (N#CC[C@H](C1CCCC1)n1cc(-c2ncnc3[nH]ccc23)cn1) is one of the queried compounds: Ruxolitinib, replacing it with the nr 16 of the regression predicted smiles\n",
      "One of the top 3 predicted values (CC1CCN(CC1N(C)C2=NC=NC3=C2C=CN3)C(=O)CC#N) is one of the queried compounds: Tofacitinib, replacing it with the nr 17 of the regression predicted smiles\n",
      "One of the top 2 predicted values (C1CC1C(=O)NC2=NC=CC(=C2)NC(=O)C3=C(C=CC=C3Cl)Cl) is one of the queried compounds: Reference_0X5, replacing it with the nr 18 of the regression predicted smiles\n"
     ]
    },
    {
     "ename": "IndexError",
     "evalue": "index 0 is out of bounds for axis 0 with size 0",
     "output_type": "error",
     "traceback": [
      "\u001b[0;31m---------------------------------------------------------------------------\u001b[0m",
      "\u001b[0;31mIndexError\u001b[0m                                Traceback (most recent call last)",
      "Input \u001b[0;32mIn [39]\u001b[0m, in \u001b[0;36m<cell line: 24>\u001b[0;34m()\u001b[0m\n\u001b[1;32m     23\u001b[0m appendindex \u001b[38;5;241m=\u001b[39m topslice\u001b[38;5;241m+\u001b[39m\u001b[38;5;241m1\u001b[39m\n\u001b[1;32m     24\u001b[0m \u001b[38;5;28;01mwhile\u001b[39;00m \u001b[38;5;28msum\u001b[39m(screened_data\u001b[38;5;241m.\u001b[39mindex\u001b[38;5;241m<\u001b[39m\u001b[38;5;241m=\u001b[39m(\u001b[38;5;28mlen\u001b[39m(querylist)\u001b[38;5;241m-\u001b[39m\u001b[38;5;241m1\u001b[39m))\u001b[38;5;241m>\u001b[39m\u001b[38;5;241m0\u001b[39m:\n\u001b[0;32m---> 25\u001b[0m     Index \u001b[38;5;241m=\u001b[39m \u001b[43mscreened_data\u001b[49m\u001b[38;5;241;43m.\u001b[39;49m\u001b[43mindex\u001b[49m\u001b[43m[\u001b[49m\u001b[43mscreened_data\u001b[49m\u001b[38;5;241;43m.\u001b[39;49m\u001b[43mindex\u001b[49m\u001b[38;5;241;43m<\u001b[39;49m\u001b[43m(\u001b[49m\u001b[38;5;28;43mlen\u001b[39;49m\u001b[43m(\u001b[49m\u001b[43mquerylist\u001b[49m\u001b[43m)\u001b[49m\u001b[38;5;241;43m-\u001b[39;49m\u001b[38;5;241;43m1\u001b[39;49m\u001b[43m)\u001b[49m\u001b[43m]\u001b[49m\u001b[43m[\u001b[49m\u001b[38;5;241;43m0\u001b[39;49m\u001b[43m]\u001b[49m \u001b[38;5;66;03m#index of the duplicate\u001b[39;00m\n\u001b[1;32m     26\u001b[0m     \u001b[38;5;28mprint\u001b[39m(\u001b[38;5;124mf\u001b[39m\u001b[38;5;124m\"\u001b[39m\u001b[38;5;124mOne of the top \u001b[39m\u001b[38;5;132;01m{\u001b[39;00m\u001b[38;5;28mlen\u001b[39m(screened_data)\u001b[38;5;132;01m}\u001b[39;00m\u001b[38;5;124m predicted values (\u001b[39m\u001b[38;5;132;01m{\u001b[39;00mquery_df\u001b[38;5;241m.\u001b[39miloc[Index][\u001b[38;5;241m1\u001b[39m]\u001b[38;5;132;01m}\u001b[39;00m\u001b[38;5;124m) is one of the queried compounds: \u001b[39m\u001b[38;5;132;01m{\u001b[39;00mquery_df\u001b[38;5;241m.\u001b[39miloc[Index][\u001b[38;5;241m0\u001b[39m]\u001b[38;5;132;01m}\u001b[39;00m\u001b[38;5;124m, replacing it with the nr \u001b[39m\u001b[38;5;132;01m{\u001b[39;00mappendindex\u001b[38;5;132;01m}\u001b[39;00m\u001b[38;5;124m of the regression predicted smiles\u001b[39m\u001b[38;5;124m\"\u001b[39m)\n\u001b[1;32m     27\u001b[0m     screened_data \u001b[38;5;241m=\u001b[39m screened_data\u001b[38;5;241m.\u001b[39mdrop(Index)\n",
      "File \u001b[0;32m/opt/conda/lib/python3.9/site-packages/pandas/core/indexes/base.py:5039\u001b[0m, in \u001b[0;36mIndex.__getitem__\u001b[0;34m(self, key)\u001b[0m\n\u001b[1;32m   5036\u001b[0m \u001b[38;5;28;01mif\u001b[39;00m is_integer(key) \u001b[38;5;129;01mor\u001b[39;00m is_float(key):\n\u001b[1;32m   5037\u001b[0m     \u001b[38;5;66;03m# GH#44051 exclude bool, which would return a 2d ndarray\u001b[39;00m\n\u001b[1;32m   5038\u001b[0m     key \u001b[38;5;241m=\u001b[39m com\u001b[38;5;241m.\u001b[39mcast_scalar_indexer(key, warn_float\u001b[38;5;241m=\u001b[39m\u001b[38;5;28;01mTrue\u001b[39;00m)\n\u001b[0;32m-> 5039\u001b[0m     \u001b[38;5;28;01mreturn\u001b[39;00m \u001b[43mgetitem\u001b[49m\u001b[43m(\u001b[49m\u001b[43mkey\u001b[49m\u001b[43m)\u001b[49m\n\u001b[1;32m   5041\u001b[0m \u001b[38;5;28;01mif\u001b[39;00m \u001b[38;5;28misinstance\u001b[39m(key, \u001b[38;5;28mslice\u001b[39m):\n\u001b[1;32m   5042\u001b[0m     \u001b[38;5;66;03m# This case is separated from the conditional above to avoid\u001b[39;00m\n\u001b[1;32m   5043\u001b[0m     \u001b[38;5;66;03m# pessimization com.is_bool_indexer and ndim checks.\u001b[39;00m\n\u001b[1;32m   5044\u001b[0m     result \u001b[38;5;241m=\u001b[39m getitem(key)\n",
      "\u001b[0;31mIndexError\u001b[0m: index 0 is out of bounds for axis 0 with size 0"
     ]
    }
   ],
   "source": [
    "#set number of highest predicted compounds you'd like in the dataset    \n",
    "topslice=10\n",
    "\n",
    "screened_df = pd.DataFrame()\n",
    "pd.options.display.max_colwidth = 200\n",
    "screened_df[\"smiles\"] = test_smiles\n",
    "predictions = trained_model.predict(fps)\n",
    "\n",
    "screened_df[\"prediction\"] = predictions\n",
    "screened_df[\"prediction_type\"] = \"regression\"\n",
    "screened_df = screened_df.drop_duplicates(subset = 'smiles')\n",
    "print(\"Excluding duplicates, a total of {} pChEMBL values have been predicted\".format(len(screened_df)))\n",
    "screened_df_full = screened_df.copy()\n",
    "screened_df = screened_df.sort_values(by=\"prediction\", ascending = False)[:topslice]\n",
    "file = \"SCREENEDDATA.csv\"\n",
    "screened_df.to_csv(file)\n",
    "\n",
    "screened_data = screened_df.copy() #Alternatively use: pd.read_csv(\"SCREENEDDATA.csv\")\n",
    "display(screened_data)\n",
    "\n",
    "#The first few indices are the queried compound, this code checks for duplicates in the top 5 predicted compounds and replaces them with the next highest predicted smiles\n",
    "#nr of top predicted values to replace duplicate with\n",
    "appendindex = topslice+1\n",
    "while sum(screened_data.index<=(len(querylist)-1))>0:\n",
    "    Index = screened_data.index[screened_data.index<(len(querylist)-1)][0] #index of the duplicate\n",
    "    print(f\"One of the top {len(screened_data)} predicted values ({query_df.iloc[Index][1]}) is one of the queried compounds: {query_df.iloc[Index][0]}, replacing it with the nr {appendindex} of the regression predicted smiles\")\n",
    "    screened_data = screened_data.drop(Index)\n",
    "    screened_data = screened_data.append(screened_df_full.sort_values(by=\"prediction\", ascending = False)[appendindex-1:appendindex]) #drop duplicate and append next highest predicted element\n",
    "    appendindex += 1\n",
    "\n",
    "#Creates list of ligand id's for the predicted values based, supports any number of predicted values\n",
    "predicted_nr = []\n",
    "for i in range(sum(screened_data.index>(len(querylist)-1))):\n",
    "    predicted_nr.append(\"Predicted_nr\"+str(i+1))\n",
    "\n",
    "#adds queried ligands to dataframe\n",
    "screened_data = screened_df_full[screened_df_full['smiles'].isin(querylist)].append(screened_data).drop_duplicates(subset = 'smiles')\n",
    "identifiers = pd.DataFrame({\"ligand ID\": query_df['ligand ID'].append(pd.Series(predicted_nr)).reset_index(drop=True)})\n",
    "screened_data[\"ligand ID\"] = identifiers.values #names ligands\n",
    "display(screened_data)\n",
    "docking_smiles = screened_data['smiles']\n",
    "print(docking_smiles)"
   ]
  },
  {
   "cell_type": "markdown",
   "metadata": {},
   "source": [
    "## Discussion\n",
    "\n",
    "* Which model performed best on our data set and why?\n",
    "    * All three models perform (very) well on our dataset. The best models are the random forest and support vector machine models which showed a mean AUC of about 90%. Our neural network showed slightly lower results. \n",
    "    * There might be several reasons that random forest and support vector machine models performed best. Our dataset might be easily separable in active/inactive with some simple tree-like decisions or with the radial basis function, respectively. Thus, there is not such a complex pattern in the fingerprints to do this classification.\n",
    "    * A cause for the slightly poorer performance of the ANN could be that there was simply too few data to train the model on.\n",
    "    * Additionally, it is always advisable to have another external validation set for model evaluation.  \n",
    "* Was MACCS the right choice?\n",
    "    * Obviously, MACCS was good to start training and validating models to see if a classification is possible. \n",
    "    * However, MACCS keys are rather short (166 bit) compared to others (2048 bit), as for example Morgan fingerprint. As shown in the last simulation, having longer fingerprint helps the learning process. All tested models performed slightly better using Morgan fingerprints (see mean AUC increase).\n"
   ]
  },
  {
   "cell_type": "markdown",
   "metadata": {},
   "source": [
    "# Molecular docking\n"
   ]
  },
  {
   "cell_type": "markdown",
   "metadata": {},
   "source": [
    "The 3D coordinates are generated for each of the smiles in the docking dataframe."
   ]
  },
  {
   "cell_type": "code",
   "execution_count": 40,
   "metadata": {
    "scrolled": true
   },
   "outputs": [
    {
     "ename": "NameError",
     "evalue": "name 'docking_smiles' is not defined",
     "output_type": "error",
     "traceback": [
      "\u001b[0;31m---------------------------------------------------------------------------\u001b[0m",
      "\u001b[0;31mNameError\u001b[0m                                 Traceback (most recent call last)",
      "Input \u001b[0;32mIn [40]\u001b[0m, in \u001b[0;36m<cell line: 4>\u001b[0;34m()\u001b[0m\n\u001b[1;32m      1\u001b[0m i \u001b[38;5;241m=\u001b[39m \u001b[38;5;241m-\u001b[39m\u001b[38;5;241m1\u001b[39m\n\u001b[1;32m      3\u001b[0m IDs \u001b[38;5;241m=\u001b[39m []\n\u001b[0;32m----> 4\u001b[0m \u001b[38;5;28;01mfor\u001b[39;00m i \u001b[38;5;129;01min\u001b[39;00m \u001b[38;5;28mrange\u001b[39m(\u001b[38;5;241m0\u001b[39m,\u001b[38;5;28mlen\u001b[39m(\u001b[43mdocking_smiles\u001b[49m)):\n\u001b[1;32m      5\u001b[0m     base \u001b[38;5;241m=\u001b[39m identifiers[\u001b[38;5;124m\"\u001b[39m\u001b[38;5;124mligand ID\u001b[39m\u001b[38;5;124m\"\u001b[39m][i]\n\u001b[1;32m      6\u001b[0m     IDs\u001b[38;5;241m.\u001b[39mappend(base)\n",
      "\u001b[0;31mNameError\u001b[0m: name 'docking_smiles' is not defined"
     ]
    }
   ],
   "source": [
    "i = -1\n",
    "\n",
    "IDs = []\n",
    "for i in range(0,len(docking_smiles)):\n",
    "    base = identifiers[\"ligand ID\"][i]\n",
    "    IDs.append(base)\n",
    "    \n",
    "df = pd.DataFrame({'ID':IDs, 'SMILES':docking_smiles})\n",
    "\n",
    "df['rdkit_mol'] = [Chem.MolFromSmiles(s) for s in df['SMILES']]\n",
    "\n",
    "# Generate 2D images of the molecules\n",
    "img=Draw.MolsToGridImage(df['rdkit_mol'].tolist(),\n",
    "                            molsPerRow=6,\n",
    "                            subImgSize=(250,250),\n",
    "                            legends=df['ID'].tolist())\n",
    "\n",
    "for i in range(len(df)):\n",
    "    row = df.iloc[i]\n",
    "    mol = row['rdkit_mol']\n",
    "    name = row['ID'] + '.mol'\n",
    "    Chem.MolToMolFile(mol,name)\n",
    "\n",
    "print(\"The first {} ligands are from the querylist. The last {} are the top {} predicted ligands in descending order.\".format(len(querylist),sum(screened_data.index>(len(querylist)-1)),sum(screened_data.index>(len(querylist)-1))))\n",
    "img\n"
   ]
  },
  {
   "cell_type": "markdown",
   "metadata": {},
   "source": [
    "From the images it can be seen that all of the compound with the highest predictions have a similar structure to peficitinib."
   ]
  },
  {
   "cell_type": "markdown",
   "metadata": {},
   "source": [
    "#### Docking preparation"
   ]
  },
  {
   "cell_type": "code",
   "execution_count": null,
   "metadata": {},
   "outputs": [],
   "source": [
    "# Calculate the center based on the reference ligand\n",
    "RadiusOfGyration = Rg('ligand-{}.pdb'.format(LIGAND_CODE))\n",
    "print(\"Radius of Gyration = {}\".format(RadiusOfGyration))\n",
    "\n",
    "# Calculate center of geometry\n",
    "CenterOfGeometry = COG('ligand-{}.pdb'.format(LIGAND_CODE))\n",
    "print(\"Center Of Geometry = {}\".format(CenterOfGeometry))"
   ]
  },
  {
   "cell_type": "code",
   "execution_count": null,
   "metadata": {},
   "outputs": [],
   "source": [
    "protein = Chem.MolFromPDBFile('{}_prepped.pdb'.format(TARGET_PDB_ID))\n",
    "a = MolToPDBQTBlock(protein,flexible=False)\n",
    "with open('protein.pdbqt','w') as outfile:\n",
    "    for line in a:\n",
    "        outfile.write(line)"
   ]
  },
  {
   "cell_type": "code",
   "execution_count": null,
   "metadata": {},
   "outputs": [],
   "source": [
    "docking_smiles"
   ]
  },
  {
   "cell_type": "markdown",
   "metadata": {},
   "source": [
    "#### Docking the smiles to the protein"
   ]
  },
  {
   "cell_type": "markdown",
   "metadata": {},
   "source": [
    "In this step the queried compounds and top regression compounds are docked to the protein. The settings for this docking are:\n",
    "- Seed = 1\n",
    "- Exhaustiveness = 20\n",
    "- N_poses = 40.<br><br>\n",
    "This step takes a while so it is also possible to load the pre-docked csv file."
   ]
  },
  {
   "cell_type": "code",
   "execution_count": null,
   "metadata": {},
   "outputs": [],
   "source": [
    "#Load saved data?\n",
    "Load_data = True\n",
    "\n",
    "if Load_data == True:\n",
    "    print(\"Loading previous dataset\")\n",
    "    complete_data = pd.read_csv(\"complete_data_10_compounds_40_20.csv\")\n",
    "else:\n",
    "    df_cols = {'ligand ID':[], 'vina_affinity': [],\"prediction\": [], 'prediction_type': [], 'exhaustiveness': [], 'n_poses': []}\n",
    "    docked_ligands = pd.DataFrame(data=df_cols)\n",
    "\n",
    "    for ID in df['ID']:\n",
    "        print(f\"\\nDocking ligand ID: {ID}\\n\")\n",
    "        for i in range(1,2,1):\n",
    "            LIGAND_TO_DOCK = ID \n",
    "            m = Chem.MolFromMolFile('{}.mol'.format(LIGAND_TO_DOCK))\n",
    "            a = MolToPDBQTBlock(m)\n",
    "            with open('{}.pdbqt'.format(LIGAND_TO_DOCK), 'w') as outfile:\n",
    "                for line in a:\n",
    "                    outfile.write(line)\n",
    "\n",
    "            v = Vina(sf_name='vina', seed = SEED)\n",
    "\n",
    "            v.set_receptor('protein.pdbqt')\n",
    "\n",
    "            v.set_ligand_from_file('{}.pdbqt'.format(LIGAND_TO_DOCK))\n",
    "\n",
    "            center = {\n",
    "                 'center_x' : CenterOfGeometry[0], \n",
    "                 'center_y' : CenterOfGeometry[1], \n",
    "                 'center_z' : CenterOfGeometry[2]\n",
    "\n",
    "            }\n",
    "\n",
    "            size = { \n",
    "                'size_x' : RadiusOfGyration * 2.9 ,\n",
    "                'size_y' : RadiusOfGyration * 2.9,\n",
    "                'size_z' : RadiusOfGyration * 2.9,           \n",
    "                       }\n",
    "\n",
    "\n",
    "            v.compute_vina_maps(center=[center['center_x'], center['center_y'], center['center_z']], \n",
    "                                box_size=[size['size_x'], size['size_y'], size['size_z']])\n",
    "\n",
    "            '''\n",
    "            # Score the current pose\n",
    "            energy = v.score()\n",
    "            print('Score before minimization: %.3f (kcal/mol)' % energy[0])\n",
    "\n",
    "            # Minimized locally the current pose\n",
    "            energy_minimized = v.optimize()\n",
    "            print('Score after minimization : %.3f (kcal/mol)' % energy_minimized[0])\n",
    "            v.write_pose('1iep_ligand_minimized.pdbqt', overwrite=True)\n",
    "            '''\n",
    "\n",
    "            # Dock the ligand\n",
    "            v.dock(exhaustiveness=20, n_poses=40)\n",
    "            v.write_poses('docking_results.pdbqt', n_poses=1, overwrite=True)\n",
    "\n",
    "            # Create a mol object from the docking results, write the mol to file and print the predicted affinity\n",
    "            mol = MolFromPDBQTBlock('docking_results.pdbqt',sanitize=False)\n",
    "            Chem.rdmolfiles.MolToPDBFile(mol, '{}_docked.pdb'.format(LIGAND_TO_DOCK))\n",
    "            Ki = (math.exp(float(mol.GetProp('vina_affinity'))/0.592))\n",
    "            pKi = -math.log10(Ki)\n",
    "            pChEMBL = pKi\n",
    "            print('The affinity predicted by Vina = {} (kcal/mol)'.format(mol.GetProp('vina_affinity')))\n",
    "            print('Which (approximately) corresponds to a pChEMBL of {:.2f}'.format(pKi))\n",
    "            docked_ligands.loc[len(docked_ligands)] = [LIGAND_TO_DOCK, mol.GetProp('vina_affinity'), pChEMBL, \"docking\", 20, 40]\n",
    "\n",
    "\n",
    "    print(docked_ligands)\n",
    "\n",
    "\n",
    "    docked_ligands['smiles'] = docking_smiles.to_list()\n",
    "    complete_data = screened_data.append(docked_ligands).reset_index(drop=True)\n",
    "    #warning this code depends on querylist, i do not know a dynamic way to code this (well i havent looked it up yet)\n",
    "    chembldata=compound_df_noNaN.query('Smiles in @querylist')\n",
    "    chembldata['prediction_type'] = \"actual\"\n",
    "    chembldata['prediction'] = chembldata[\"pChEMBL_value\"]\n",
    "    chembldata['smiles'] = chembldata[\"Smiles\"]\n",
    "    chembldata = chembldata.drop(['fp', \"Assay_Type\", \"Standard Relation\", \"Standard Value\", \"active\", \"Smiles\", \"pChEMBL_value\"], axis =1)\n",
    "    complete_data = complete_data.append(chembldata)\n",
    "    complete_data['ligand ID'] = complete_data['smiles'].map(docked_ligands.set_index('smiles').to_dict()['ligand ID'])\n",
    "    complete_data['Molecule ChEMBL ID'] = complete_data['smiles'].map(chembldata.set_index('smiles').to_dict()['Molecule ChEMBL ID'])\n",
    "\n",
    "display(complete_data)\n"
   ]
  },
  {
   "cell_type": "markdown",
   "metadata": {},
   "source": [
    "The dataframe is saved with a timestamp because the code takes a while as it usually runs in the background. This makes sure that the results are saved after docking and to preserve the data for each attempt."
   ]
  },
  {
   "cell_type": "code",
   "execution_count": null,
   "metadata": {},
   "outputs": [],
   "source": [
    "complete_data.to_csv(\"complete_data\"+time.asctime( time.localtime(time.time()))+\".csv\")"
   ]
  },
  {
   "cell_type": "markdown",
   "metadata": {},
   "source": [
    "### Docking results"
   ]
  },
  {
   "cell_type": "code",
   "execution_count": null,
   "metadata": {},
   "outputs": [],
   "source": [
    "#Create subplot\n",
    "fig = plt.figure(constrained_layout=True)\n",
    "axes = fig.subplot_mosaic([['Top', 'Top'],['BottomLeft', 'BottomRight']],\n",
    "                          gridspec_kw={'width_ratios':[1, 1]},)\n",
    "fig.set_size_inches(16, 10)\n",
    "\n",
    "sns.set_theme(style=\"ticks\", rc={\"axes.spines.right\": False, \"axes.spines.top\": False})\n",
    "\n",
    "#Plot to compare regression predictions\n",
    "plt.sca(axes['BottomLeft'])\n",
    "sns.barplot(\n",
    "    data=complete_data[complete_data['prediction_type']==\"regression\"],\n",
    "    x=\"ligand ID\", y=\"prediction\", palette=\"GnBu_d\"\n",
    ")\n",
    "\n",
    "plt.xticks(rotation=60, ha='right')\n",
    "axes['BottomLeft'].set(title = \"Regression predictions\",\n",
    "       xlabel = \" \",\n",
    "       ylabel = \"predicted pIC50 value\")\n",
    "axes['BottomLeft'].axhline(\n",
    "    complete_data.query('`ligand ID` == \"Reference_0X5\" and prediction_type == \"regression\"')['prediction'].values[0],\n",
    "    ls='--', c='red')\n",
    "\n",
    "\n",
    "#Plot to compare docking predictions\n",
    "plt.sca(axes['BottomRight'])\n",
    "sns.barplot(\n",
    "    data=complete_data[complete_data['prediction_type']==\"docking\"],\n",
    "    x=\"ligand ID\", y=\"prediction\", palette=\"GnBu_d\"\n",
    ")\n",
    "\n",
    "plt.xticks(rotation=60, ha='right')\n",
    "axes['BottomRight'].set(title = \"Docking predictions\",\n",
    "       xlabel = \" \",\n",
    "       ylabel = \"predicted pIC50 value\")\n",
    "axes['BottomRight'].axhline(\n",
    "    complete_data.query('`ligand ID` == \"Reference_0X5\" and prediction_type == \"docking\"')['prediction'].values[0],\n",
    "    ls='--', c='red')\n",
    "\n",
    "#Top plot to compare prediction types\n",
    "plt.sca(axes['Top'])\n",
    "sns.barplot(\n",
    "    data=complete_data.query('smiles in @querylist'),\n",
    "    x=\"ligand ID\", y=\"prediction\", hue=\"prediction_type\", palette=\"GnBu_d\"\n",
    ")\n",
    "plt.xticks(rotation=60, ha='right')\n",
    "axes['Top'].set(title = \"Comparison\",\n",
    "       ylabel = \"pIC50 value\")\n",
    "axes['Top'].legend(title='pIC50 type',loc=2, bbox_to_anchor=(1,1))\n",
    "\n",
    "#saves the plots\n",
    "plt.savefig(\"plots.png\", dpi=400);"
   ]
  },
  {
   "cell_type": "markdown",
   "metadata": {},
   "source": [
    "From this plot it can be seen that the regression predictions are usually close to the actual values. This is expected because the model is trained on this. The docking predictions are not as close to the actual values as the regression predictions and tend to be lower.<br><br>\n",
    "All of the compounds have a higher predicted pChEMBL value compared to the reference ligand 0X5. On the other hand, not all compounds have a higher value when predicted with the docking score. However, all of the predicted compound were higher, with Predicted_nr3 having a value above 10."
   ]
  },
  {
   "cell_type": "code",
   "execution_count": 49,
   "metadata": {},
   "outputs": [
    {
     "ename": "NameError",
     "evalue": "name 'df' is not defined",
     "output_type": "error",
     "traceback": [
      "\u001b[0;31m---------------------------------------------------------------------------\u001b[0m",
      "\u001b[0;31mNameError\u001b[0m                                 Traceback (most recent call last)",
      "Input \u001b[0;32mIn [49]\u001b[0m, in \u001b[0;36m<cell line: 2>\u001b[0;34m()\u001b[0m\n\u001b[1;32m      1\u001b[0m \u001b[38;5;66;03m#for an overview of the ligand id's\u001b[39;00m\n\u001b[0;32m----> 2\u001b[0m \u001b[43mdf\u001b[49m[\u001b[38;5;124m'\u001b[39m\u001b[38;5;124mID\u001b[39m\u001b[38;5;124m'\u001b[39m]\u001b[38;5;241m.\u001b[39mvalues\n",
      "\u001b[0;31mNameError\u001b[0m: name 'df' is not defined"
     ]
    }
   ],
   "source": [
    "#for an overview of the ligand id's\n",
    "df['ID'].values"
   ]
  },
  {
   "cell_type": "markdown",
   "metadata": {},
   "source": [
    "#### Comparison of the reference ligand and the highest scoring docked compound"
   ]
  },
  {
   "cell_type": "code",
   "execution_count": null,
   "metadata": {
    "scrolled": true
   },
   "outputs": [],
   "source": [
    "LIGAND_TO_SHOW = 'Predicted_nr3'\n",
    "print(f\"Showing {LIGAND_TO_SHOW}\")\n",
    "view = py3Dmol.view()\n",
    "view.removeAllModels()\n",
    "view.setViewStyle({'style':'outline','color':'black','width':0.1})\n",
    "\n",
    "view.addModel(open('{}_prepped.pdb'.format(TARGET_PDB_ID),'r').read(),format='pdb')\n",
    "Prot=view.getModel()\n",
    "Prot.setStyle({'cartoon':{'arrows':True, 'tubes':True, 'style':'oval', 'color':'white'}})\n",
    "view.addSurface(py3Dmol.VDW,{'opacity':0.6,'color':'white'})\n",
    "\n",
    "ligtmp = 'ligand-{}.pdb'.format(LIGAND_CODE)\n",
    "view.addModels(open(ligtmp,'r').read(),format='pdb')\n",
    "ref_m = view.getModel()\n",
    "ref_m.setStyle({},{'stick':{'colorscheme':'magentaCarbon','radius':0.2}})\n",
    "\n",
    "docktmp = 'Predicted_nr3_docked.pdb'\n",
    "view.addModels(open(docktmp,'r').read(),format='pdb')\n",
    "x = view.getModel()\n",
    "x.setStyle({},{'stick':{'colorscheme':'cyanCarbon','radius':0.2}})\n",
    "\n",
    "print('Reference: Magenta | Vina Pose: Cyan')\n",
    "\n",
    "view.zoomTo()\n",
    "view.show()"
   ]
  },
  {
   "cell_type": "markdown",
   "metadata": {},
   "source": [
    "The nr 3 predicted compound fits well inside of the binding pocket. It mostly occupies the same space as the reference ligand."
   ]
  },
  {
   "cell_type": "markdown",
   "metadata": {},
   "source": [
    "#### The highest scoring compound alongside its parental (by similiarity) compound"
   ]
  },
  {
   "cell_type": "code",
   "execution_count": null,
   "metadata": {},
   "outputs": [],
   "source": [
    "view = py3Dmol.view()\n",
    "view.removeAllModels()\n",
    "view.setViewStyle({'style':'outline','color':'black','width':0.1})\n",
    "\n",
    "view.addModel(open('{}_prepped.pdb'.format(TARGET_PDB_ID),'r').read(),format='pdb')\n",
    "Prot=view.getModel()\n",
    "Prot.setStyle({'cartoon':{'arrows':True, 'tubes':True, 'style':'oval', 'color':'white'}})\n",
    "view.addSurface(py3Dmol.VDW,{'opacity':0.6,'color':'white'})\n",
    "\n",
    "ligtmp = 'Peficitinib_docked.pdb'\n",
    "view.addModels(open(ligtmp,'r').read(),format='pdb')\n",
    "ref_m = view.getModel()\n",
    "ref_m.setStyle({},{'stick':{'colorscheme':'magentaCarbon','radius':0.2}})\n",
    "\n",
    "docktmp = 'Predicted_nr3_docked.pdb'\n",
    "view.addModels(open(docktmp,'r').read(),format='pdb')\n",
    "x = view.getModel()\n",
    "x.setStyle({},{'stick':{'colorscheme':'cyanCarbon','radius':0.2}})\n",
    "\n",
    "print('Reference: Magenta | Vina Pose: Cyan')\n",
    "\n",
    "view.zoomTo()\n",
    "view.show()"
   ]
  },
  {
   "cell_type": "markdown",
   "metadata": {},
   "source": [
    "The nr 3 predicted compound and peficitinib have a lot in common regarding their molecular structure. It is therefore no surprise to see that they have been docked in a very similar way."
   ]
  },
  {
   "cell_type": "markdown",
   "metadata": {},
   "source": [
    "#### Showing the docked compound alongside the binding site's residues"
   ]
  },
  {
   "cell_type": "code",
   "execution_count": 1,
   "metadata": {},
   "outputs": [
    {
     "ename": "NameError",
     "evalue": "name 'TARGET_PDB_ID' is not defined",
     "output_type": "error",
     "traceback": [
      "\u001b[0;31m---------------------------------------------------------------------------\u001b[0m",
      "\u001b[0;31mNameError\u001b[0m                                 Traceback (most recent call last)",
      "Input \u001b[0;32mIn [1]\u001b[0m, in \u001b[0;36m<cell line: 3>\u001b[0;34m()\u001b[0m\n\u001b[1;32m      1\u001b[0m \u001b[38;5;66;03m# combine protein and ligand files\u001b[39;00m\n\u001b[1;32m      2\u001b[0m filenames \u001b[38;5;241m=\u001b[39m [\n\u001b[0;32m----> 3\u001b[0m \u001b[38;5;124m'\u001b[39m\u001b[38;5;132;01m{}\u001b[39;00m\u001b[38;5;124m_prepped.pdb\u001b[39m\u001b[38;5;124m'\u001b[39m\u001b[38;5;241m.\u001b[39mformat(\u001b[43mTARGET_PDB_ID\u001b[49m),\n\u001b[1;32m      4\u001b[0m \u001b[38;5;124m'\u001b[39m\u001b[38;5;132;01m{}\u001b[39;00m\u001b[38;5;124m_docked.pdb\u001b[39m\u001b[38;5;124m'\u001b[39m\u001b[38;5;241m.\u001b[39mformat(LIGAND_TO_SHOW)\n\u001b[1;32m      5\u001b[0m ]\n\u001b[1;32m      6\u001b[0m \u001b[38;5;28;01mwith\u001b[39;00m \u001b[38;5;28mopen\u001b[39m(\u001b[38;5;124m'\u001b[39m\u001b[38;5;132;01m{}\u001b[39;00m\u001b[38;5;124m-complex.pdb\u001b[39m\u001b[38;5;124m'\u001b[39m\u001b[38;5;241m.\u001b[39mformat(TARGET_PDB_ID), \u001b[38;5;124m'\u001b[39m\u001b[38;5;124mw\u001b[39m\u001b[38;5;124m'\u001b[39m) \u001b[38;5;28;01mas\u001b[39;00m outfile:\n\u001b[1;32m      7\u001b[0m     \u001b[38;5;28;01mfor\u001b[39;00m fname \u001b[38;5;129;01min\u001b[39;00m filenames:\n",
      "\u001b[0;31mNameError\u001b[0m: name 'TARGET_PDB_ID' is not defined"
     ]
    }
   ],
   "source": [
    "# combine protein and ligand files\n",
    "filenames = [\n",
    "'{}_prepped.pdb'.format(TARGET_PDB_ID),\n",
    "'{}_docked.pdb'.format(LIGAND_TO_SHOW)\n",
    "]\n",
    "with open('{}-complex.pdb'.format(TARGET_PDB_ID), 'w') as outfile:\n",
    "    for fname in filenames:\n",
    "        with open(fname) as infile:\n",
    "            for line in infile:\n",
    "                if not \"END\" in line:\n",
    "                    outfile.write(line)"
   ]
  },
  {
   "cell_type": "code",
   "execution_count": null,
   "metadata": {},
   "outputs": [],
   "source": [
    "with open('{}-complex.pdb'.format(TARGET_PDB_ID)) as f:\n",
    "    view_screened = nglview.show_file(f, ext=\"pdb\")\n",
    "    \n",
    "view.center(\"UNL\")\n",
    "viewer.show_residues_around(view_screened, selection=\"UNL\")\n",
    "view_screened"
   ]
  }
 ],
 "metadata": {
  "kernelspec": {
   "display_name": "Python 3 (ipykernel)",
   "language": "python",
   "name": "python3"
  },
  "language_info": {
   "codemirror_mode": {
    "name": "ipython",
    "version": 3
   },
   "file_extension": ".py",
   "mimetype": "text/x-python",
   "name": "python",
   "nbconvert_exporter": "python",
   "pygments_lexer": "ipython3",
   "version": "3.9.12"
  }
 },
 "nbformat": 4,
 "nbformat_minor": 4
}
